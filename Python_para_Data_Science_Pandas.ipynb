{
  "nbformat": 4,
  "nbformat_minor": 0,
  "metadata": {
    "kernelspec": {
      "display_name": "Python 3",
      "language": "python",
      "name": "python3"
    },
    "language_info": {
      "codemirror_mode": {
        "name": "ipython",
        "version": 3
      },
      "file_extension": ".py",
      "mimetype": "text/x-python",
      "name": "python",
      "nbconvert_exporter": "python",
      "pygments_lexer": "ipython3",
      "version": "3.7.3"
    },
    "colab": {
      "name": "Python_para_Data_Science_Pandas.ipynb",
      "provenance": [],
      "toc_visible": true,
      "include_colab_link": true
    }
  },
  "cells": [
    {
      "cell_type": "markdown",
      "metadata": {
        "id": "view-in-github",
        "colab_type": "text"
      },
      "source": [
        "<a href=\"https://colab.research.google.com/github/lluisjr/python-random-quote/blob/master/Python_para_Data_Science_Pandas.ipynb\" target=\"_parent\"><img src=\"https://colab.research.google.com/assets/colab-badge.svg\" alt=\"Open In Colab\"/></a>"
      ]
    },
    {
      "cell_type": "markdown",
      "metadata": {
        "id": "W4bTJkJED0-t"
      },
      "source": [
        "# <font color=green> PYTHON PARA DATA SCIENCE - PANDAS\n",
        "---"
      ]
    },
    {
      "cell_type": "markdown",
      "metadata": {
        "id": "GOEcCc62D0-x"
      },
      "source": [
        "# <font color=green> 1. INTRODUÇÃO AO PYTHON\n",
        "---"
      ]
    },
    {
      "cell_type": "markdown",
      "metadata": {
        "id": "oGvoOJ-XD0-y"
      },
      "source": [
        "# 1.1 Introdução"
      ]
    },
    {
      "cell_type": "markdown",
      "metadata": {
        "id": "fam3BM0aD0-z"
      },
      "source": [
        "> Python é uma linguagem de programação de alto nível com suporte a múltiplos paradigmas de programação. É um projeto *open source* e desde seu surgimento, em 1991, vem se tornando uma das linguagens de programação interpretadas mais populares. \n",
        ">\n",
        "> Nos últimos anos Python desenvolveu uma comunidade ativa de processamento científico e análise de dados e vem se destacando como uma das linguagens mais relevantes quando o assundo é ciência de dados e machine learning, tanto no ambiente acadêmico como também no mercado."
      ]
    },
    {
      "cell_type": "markdown",
      "metadata": {
        "id": "6kH5DY-vD0-1"
      },
      "source": [
        "# 1.2 Instalação e ambiente de desenvolvimento"
      ]
    },
    {
      "cell_type": "markdown",
      "metadata": {
        "id": "BTpm79I2D0-2"
      },
      "source": [
        "### Instalação Local\n",
        "\n",
        "### https://www.python.org/downloads/\n",
        "### ou\n",
        "### https://www.anaconda.com/distribution/"
      ]
    },
    {
      "cell_type": "markdown",
      "metadata": {
        "id": "AuPS_XwRD0-3"
      },
      "source": [
        "### Google Colaboratory\n",
        "\n",
        "### https://colab.research.google.com"
      ]
    },
    {
      "cell_type": "markdown",
      "metadata": {
        "id": "4rUYsPrXD0-4"
      },
      "source": [
        "### Verificando versão"
      ]
    },
    {
      "cell_type": "code",
      "metadata": {
        "id": "TlKgAXPG-aUG"
      },
      "source": [
        ""
      ],
      "execution_count": null,
      "outputs": []
    },
    {
      "cell_type": "markdown",
      "metadata": {
        "id": "lTtI6so4D0-9"
      },
      "source": [
        "# 1.3 Trabalhando com dados"
      ]
    },
    {
      "cell_type": "code",
      "metadata": {
        "id": "E_n4FUUWD0-9"
      },
      "source": [
        "import pandas as pd\n",
        "#pd.set_option('display.max_rows', 1000) # Código para exibir no máximo 1000Linhas (pode colocar a quantidade que quiser)\n",
        "#pd.set_option('display.max_columns', 1000) # Número de coluna "
      ],
      "execution_count": null,
      "outputs": []
    },
    {
      "cell_type": "code",
      "metadata": {
        "id": "Kq-JdRHFD0-_"
      },
      "source": [
        "dataset = pd.read_csv('db.csv', sep =';')"
      ],
      "execution_count": null,
      "outputs": []
    },
    {
      "cell_type": "code",
      "metadata": {
        "scrolled": true,
        "id": "mOV1rCA6D0_A"
      },
      "source": [
        "dataset"
      ],
      "execution_count": null,
      "outputs": []
    },
    {
      "cell_type": "code",
      "metadata": {
        "id": "5D739PzJD0_B",
        "colab": {
          "base_uri": "https://localhost:8080/"
        },
        "outputId": "a62c4d79-442d-4eff-aaa7-cfa9a823d655"
      },
      "source": [
        "#String = Object no pandas\n",
        "dataset.dtypes"
      ],
      "execution_count": null,
      "outputs": [
        {
          "output_type": "execute_result",
          "data": {
            "text/plain": [
              "Nome              object\n",
              "Motor             object\n",
              "Ano                int64\n",
              "Quilometragem    float64\n",
              "Zero_km             bool\n",
              "Acessórios        object\n",
              "Valor            float64\n",
              "dtype: object"
            ]
          },
          "metadata": {},
          "execution_count": 16
        }
      ]
    },
    {
      "cell_type": "code",
      "metadata": {
        "id": "r_qUf16LD0_D",
        "colab": {
          "base_uri": "https://localhost:8080/",
          "height": 297
        },
        "outputId": "9af4c612-499e-4790-80df-7101a694cf70"
      },
      "source": [
        "dataset[['Quilometragem', 'Valor']].describe()"
      ],
      "execution_count": null,
      "outputs": [
        {
          "output_type": "execute_result",
          "data": {
            "text/html": [
              "<div>\n",
              "<style scoped>\n",
              "    .dataframe tbody tr th:only-of-type {\n",
              "        vertical-align: middle;\n",
              "    }\n",
              "\n",
              "    .dataframe tbody tr th {\n",
              "        vertical-align: top;\n",
              "    }\n",
              "\n",
              "    .dataframe thead th {\n",
              "        text-align: right;\n",
              "    }\n",
              "</style>\n",
              "<table border=\"1\" class=\"dataframe\">\n",
              "  <thead>\n",
              "    <tr style=\"text-align: right;\">\n",
              "      <th></th>\n",
              "      <th>Quilometragem</th>\n",
              "      <th>Valor</th>\n",
              "    </tr>\n",
              "  </thead>\n",
              "  <tbody>\n",
              "    <tr>\n",
              "      <th>count</th>\n",
              "      <td>197.000000</td>\n",
              "      <td>258.000000</td>\n",
              "    </tr>\n",
              "    <tr>\n",
              "      <th>mean</th>\n",
              "      <td>58278.421320</td>\n",
              "      <td>98960.513101</td>\n",
              "    </tr>\n",
              "    <tr>\n",
              "      <th>std</th>\n",
              "      <td>35836.733259</td>\n",
              "      <td>29811.932305</td>\n",
              "    </tr>\n",
              "    <tr>\n",
              "      <th>min</th>\n",
              "      <td>107.000000</td>\n",
              "      <td>50742.100000</td>\n",
              "    </tr>\n",
              "    <tr>\n",
              "      <th>25%</th>\n",
              "      <td>27505.000000</td>\n",
              "      <td>70743.512500</td>\n",
              "    </tr>\n",
              "    <tr>\n",
              "      <th>50%</th>\n",
              "      <td>55083.000000</td>\n",
              "      <td>97724.380000</td>\n",
              "    </tr>\n",
              "    <tr>\n",
              "      <th>75%</th>\n",
              "      <td>90495.000000</td>\n",
              "      <td>124633.302500</td>\n",
              "    </tr>\n",
              "    <tr>\n",
              "      <th>max</th>\n",
              "      <td>119945.000000</td>\n",
              "      <td>149489.920000</td>\n",
              "    </tr>\n",
              "  </tbody>\n",
              "</table>\n",
              "</div>"
            ],
            "text/plain": [
              "       Quilometragem          Valor\n",
              "count     197.000000     258.000000\n",
              "mean    58278.421320   98960.513101\n",
              "std     35836.733259   29811.932305\n",
              "min       107.000000   50742.100000\n",
              "25%     27505.000000   70743.512500\n",
              "50%     55083.000000   97724.380000\n",
              "75%     90495.000000  124633.302500\n",
              "max    119945.000000  149489.920000"
            ]
          },
          "metadata": {},
          "execution_count": 19
        }
      ]
    },
    {
      "cell_type": "code",
      "metadata": {
        "id": "0R-_7PH5D0_E",
        "colab": {
          "base_uri": "https://localhost:8080/"
        },
        "outputId": "9ee23451-f313-4d12-807f-4bafadb2e7d3"
      },
      "source": [
        "dataset.info()"
      ],
      "execution_count": null,
      "outputs": [
        {
          "output_type": "stream",
          "name": "stdout",
          "text": [
            "<class 'pandas.core.frame.DataFrame'>\n",
            "RangeIndex: 258 entries, 0 to 257\n",
            "Data columns (total 7 columns):\n",
            " #   Column         Non-Null Count  Dtype  \n",
            "---  ------         --------------  -----  \n",
            " 0   Nome           258 non-null    object \n",
            " 1   Motor          258 non-null    object \n",
            " 2   Ano            258 non-null    int64  \n",
            " 3   Quilometragem  197 non-null    float64\n",
            " 4   Zero_km        258 non-null    bool   \n",
            " 5   Acessórios     258 non-null    object \n",
            " 6   Valor          258 non-null    float64\n",
            "dtypes: bool(1), float64(2), int64(1), object(3)\n",
            "memory usage: 12.5+ KB\n"
          ]
        }
      ]
    },
    {
      "cell_type": "markdown",
      "metadata": {
        "id": "htjoBLwiD0_F"
      },
      "source": [
        "# <font color=green> 2. TRABALHANDO COM TUPLAS\n",
        "---"
      ]
    },
    {
      "cell_type": "markdown",
      "metadata": {
        "id": "MZH5_QnYD0_G"
      },
      "source": [
        "# 2.1 Criando tuplas\n",
        "\n",
        "Tuplas são sequências imutáveis que são utilizadas para armazenar coleções de itens, geralmente heterogêneos. Podem ser construídas de várias formas:\n",
        "```\n",
        "- Utilizando um par de parênteses: ( )\n",
        "- Utilizando uma vírgula à direita: x,\n",
        "- Utilizando um par de parênteses com itens separados por vírgulas: ( x, y, z )\n",
        "- Utilizando: tuple() ou tuple(iterador)\n",
        "```"
      ]
    },
    {
      "cell_type": "code",
      "metadata": {
        "id": "xzcs9fzeD0_G",
        "colab": {
          "base_uri": "https://localhost:8080/"
        },
        "outputId": "18f6c269-f39d-4a96-b44f-f5a86f46ca36"
      },
      "source": [
        "import pandas as pd\n",
        "()"
      ],
      "execution_count": null,
      "outputs": [
        {
          "output_type": "execute_result",
          "data": {
            "text/plain": [
              "()"
            ]
          },
          "metadata": {},
          "execution_count": 30
        }
      ]
    },
    {
      "cell_type": "code",
      "metadata": {
        "id": "qJq7a2qTD0_I",
        "colab": {
          "base_uri": "https://localhost:8080/"
        },
        "outputId": "44fbe75c-8e97-4e32-cd43-a35aab94dfc4"
      },
      "source": [
        "(1,2,3)"
      ],
      "execution_count": null,
      "outputs": [
        {
          "output_type": "execute_result",
          "data": {
            "text/plain": [
              "(1, 2, 3)"
            ]
          },
          "metadata": {},
          "execution_count": 31
        }
      ]
    },
    {
      "cell_type": "code",
      "metadata": {
        "id": "sg7LdvptD0_J",
        "colab": {
          "base_uri": "https://localhost:8080/"
        },
        "outputId": "4c3b0680-f748-462a-a7cf-7c627153372d"
      },
      "source": [
        "nome = 'passat'\n",
        "valor = 153000\n",
        "(nome, valor)"
      ],
      "execution_count": null,
      "outputs": [
        {
          "output_type": "execute_result",
          "data": {
            "text/plain": [
              "('passat', 153000)"
            ]
          },
          "metadata": {},
          "execution_count": 32
        }
      ]
    },
    {
      "cell_type": "code",
      "metadata": {
        "id": "XSSMebXjD0_K"
      },
      "source": [
        "nomes_carros = tuple(['Jetta Variant', 'Passat', 'Crossfox', 'DS5'])"
      ],
      "execution_count": null,
      "outputs": []
    },
    {
      "cell_type": "code",
      "metadata": {
        "id": "dpkdzrzRD0_M",
        "colab": {
          "base_uri": "https://localhost:8080/"
        },
        "outputId": "8ef19a0e-ad5d-47a1-c147-10a329ad05c3"
      },
      "source": [
        "nomes_carros"
      ],
      "execution_count": null,
      "outputs": [
        {
          "output_type": "execute_result",
          "data": {
            "text/plain": [
              "('Jetta Variant', 'Passat', 'Crossfox', 'DS5')"
            ]
          },
          "metadata": {},
          "execution_count": 34
        }
      ]
    },
    {
      "cell_type": "code",
      "metadata": {
        "colab": {
          "base_uri": "https://localhost:8080/"
        },
        "id": "ION2GqLuEW-G",
        "outputId": "636f0a23-e91b-4b33-ae24-014eed1858c5"
      },
      "source": [
        "type(nomes_carros)"
      ],
      "execution_count": null,
      "outputs": [
        {
          "output_type": "execute_result",
          "data": {
            "text/plain": [
              "tuple"
            ]
          },
          "metadata": {},
          "execution_count": 35
        }
      ]
    },
    {
      "cell_type": "markdown",
      "metadata": {
        "id": "iKUY2DOUD0_N"
      },
      "source": [
        "# 2.2 Seleções em tuplas"
      ]
    },
    {
      "cell_type": "code",
      "metadata": {
        "id": "hBEeAM7_D0_N",
        "colab": {
          "base_uri": "https://localhost:8080/"
        },
        "outputId": "4f29c941-193a-416e-e28d-5b9d1e494700"
      },
      "source": [
        "nomes_carros = tuple(['Jetta Variant', 'Passat', 'Crossfox', 'DS5'])\n",
        "nomes_carros"
      ],
      "execution_count": null,
      "outputs": [
        {
          "output_type": "execute_result",
          "data": {
            "text/plain": [
              "('Jetta Variant', 'Passat', 'Crossfox', 'DS5')"
            ]
          },
          "metadata": {},
          "execution_count": 36
        }
      ]
    },
    {
      "cell_type": "code",
      "metadata": {
        "id": "-mx_1E_tD0_P",
        "colab": {
          "base_uri": "https://localhost:8080/",
          "height": 35
        },
        "outputId": "546bf8c4-bc93-49ca-dbaf-c99f929a90f9"
      },
      "source": [
        "nomes_carros[0]"
      ],
      "execution_count": null,
      "outputs": [
        {
          "output_type": "execute_result",
          "data": {
            "application/vnd.google.colaboratory.intrinsic+json": {
              "type": "string"
            },
            "text/plain": [
              "'Jetta Variant'"
            ]
          },
          "metadata": {},
          "execution_count": 37
        }
      ]
    },
    {
      "cell_type": "code",
      "metadata": {
        "id": "LMhyqnFID0_Q",
        "colab": {
          "base_uri": "https://localhost:8080/",
          "height": 35
        },
        "outputId": "7f796178-6076-4795-e625-1cd694e36648"
      },
      "source": [
        "nomes_carros[1]"
      ],
      "execution_count": null,
      "outputs": [
        {
          "output_type": "execute_result",
          "data": {
            "application/vnd.google.colaboratory.intrinsic+json": {
              "type": "string"
            },
            "text/plain": [
              "'Passat'"
            ]
          },
          "metadata": {},
          "execution_count": 38
        }
      ]
    },
    {
      "cell_type": "code",
      "metadata": {
        "id": "6btHff4BD0_T",
        "colab": {
          "base_uri": "https://localhost:8080/",
          "height": 35
        },
        "outputId": "a6d40570-0124-459a-cd96-45e0c6531c4a"
      },
      "source": [
        "nomes_carros[-1]"
      ],
      "execution_count": null,
      "outputs": [
        {
          "output_type": "execute_result",
          "data": {
            "application/vnd.google.colaboratory.intrinsic+json": {
              "type": "string"
            },
            "text/plain": [
              "'DS5'"
            ]
          },
          "metadata": {},
          "execution_count": 39
        }
      ]
    },
    {
      "cell_type": "code",
      "metadata": {
        "id": "K_Dc12xBD0_U",
        "colab": {
          "base_uri": "https://localhost:8080/"
        },
        "outputId": "9d69c58a-cbad-47a6-d66c-4840fda4c15a"
      },
      "source": [
        "nomes_carros[1:3]"
      ],
      "execution_count": null,
      "outputs": [
        {
          "output_type": "execute_result",
          "data": {
            "text/plain": [
              "('Passat', 'Crossfox')"
            ]
          },
          "metadata": {},
          "execution_count": 40
        }
      ]
    },
    {
      "cell_type": "code",
      "metadata": {
        "id": "zvrWYkkeD0_W",
        "colab": {
          "base_uri": "https://localhost:8080/"
        },
        "outputId": "1e3de067-c77a-4387-82fa-0caf9193a9e0"
      },
      "source": [
        "nomes_carros = ('Jetta Variant', 'Passat', 'Crossfox', 'DS5', ('Fusca', 'Gol', 'C4'))\n",
        "nomes_carros"
      ],
      "execution_count": null,
      "outputs": [
        {
          "output_type": "execute_result",
          "data": {
            "text/plain": [
              "('Jetta Variant', 'Passat', 'Crossfox', 'DS5', ('Fusca', 'Gol', 'C4'))"
            ]
          },
          "metadata": {},
          "execution_count": 41
        }
      ]
    },
    {
      "cell_type": "code",
      "metadata": {
        "id": "Dw7tbM2ED0_Z",
        "colab": {
          "base_uri": "https://localhost:8080/"
        },
        "outputId": "d1cd8b92-14cb-4c48-9121-e5c79562974c"
      },
      "source": [
        "nomes_carros[-1]"
      ],
      "execution_count": null,
      "outputs": [
        {
          "output_type": "execute_result",
          "data": {
            "text/plain": [
              "('Fusca', 'Gol', 'C4')"
            ]
          },
          "metadata": {},
          "execution_count": 42
        }
      ]
    },
    {
      "cell_type": "code",
      "metadata": {
        "id": "SAMD3BtXD0_b",
        "colab": {
          "base_uri": "https://localhost:8080/",
          "height": 35
        },
        "outputId": "28f8caf1-4194-48cd-c38c-c5362ed17a67"
      },
      "source": [
        "nomes_carros[-1][1]"
      ],
      "execution_count": null,
      "outputs": [
        {
          "output_type": "execute_result",
          "data": {
            "application/vnd.google.colaboratory.intrinsic+json": {
              "type": "string"
            },
            "text/plain": [
              "'Gol'"
            ]
          },
          "metadata": {},
          "execution_count": 43
        }
      ]
    },
    {
      "cell_type": "code",
      "metadata": {
        "id": "M3GQB9pVPpl2"
      },
      "source": [
        "carros = (\n",
        "    (\n",
        "        'Jetta Variant',\n",
        "        'Motor 4.0 Turbo',\n",
        "        2003,\n",
        "        False,\n",
        "        ('Rodas de liga', 'Travas elétricas', 'Piloto automático')\n",
        "    ),\n",
        "    (\n",
        "        'Passat',\n",
        "        'Motor Diesel',\n",
        "        1991,\n",
        "        True,\n",
        "        ('Central multimídia', 'Teto panorâmico', 'Freios ABS')\n",
        "    )\n",
        ")"
      ],
      "execution_count": null,
      "outputs": []
    },
    {
      "cell_type": "markdown",
      "metadata": {
        "id": "KLMxh4-0D0_c"
      },
      "source": [
        "# 2.3 Iterando em tuplas"
      ]
    },
    {
      "cell_type": "code",
      "metadata": {
        "id": "K53elKsYD0_c",
        "colab": {
          "base_uri": "https://localhost:8080/"
        },
        "outputId": "ffc1042b-8400-46e0-e800-fe553a42f8f9"
      },
      "source": [
        "nomes_carros = ('Jetta Variant', 'Passat', 'Crossfox', 'DS5')\n",
        "nomes_carros"
      ],
      "execution_count": null,
      "outputs": [
        {
          "output_type": "execute_result",
          "data": {
            "text/plain": [
              "('Jetta Variant', 'Passat', 'Crossfox', 'DS5')"
            ]
          },
          "metadata": {},
          "execution_count": 44
        }
      ]
    },
    {
      "cell_type": "code",
      "metadata": {
        "id": "igZhZ5zdD0_d",
        "colab": {
          "base_uri": "https://localhost:8080/"
        },
        "outputId": "a24a4498-9d82-49dc-ed42-99fe9fb100fb"
      },
      "source": [
        "for item in nomes_carros:\n",
        "  print(item)"
      ],
      "execution_count": null,
      "outputs": [
        {
          "output_type": "stream",
          "name": "stdout",
          "text": [
            "Jetta Variant\n",
            "Passat\n",
            "Crossfox\n",
            "DS5\n"
          ]
        }
      ]
    },
    {
      "cell_type": "markdown",
      "metadata": {
        "id": "AOBjxBk8D0_f"
      },
      "source": [
        "### Desempacotamento de tuplas"
      ]
    },
    {
      "cell_type": "code",
      "metadata": {
        "id": "UoEFnumhD0_f"
      },
      "source": [
        "carro_1, carro_2, carro_3, carro_4 = nomes_carros"
      ],
      "execution_count": null,
      "outputs": []
    },
    {
      "cell_type": "code",
      "metadata": {
        "id": "AaCLcNYTD0_g",
        "colab": {
          "base_uri": "https://localhost:8080/",
          "height": 35
        },
        "outputId": "e4b56d56-a2c2-4ac2-d986-d014b8dea8ec"
      },
      "source": [
        "carro_1"
      ],
      "execution_count": null,
      "outputs": [
        {
          "output_type": "execute_result",
          "data": {
            "application/vnd.google.colaboratory.intrinsic+json": {
              "type": "string"
            },
            "text/plain": [
              "'Jetta Variant'"
            ]
          },
          "metadata": {},
          "execution_count": 49
        }
      ]
    },
    {
      "cell_type": "code",
      "metadata": {
        "id": "TA71S9egD0_h",
        "colab": {
          "base_uri": "https://localhost:8080/",
          "height": 35
        },
        "outputId": "9f5f6b82-8e1e-4118-e014-39cbb82f9eaa"
      },
      "source": [
        "carro_2"
      ],
      "execution_count": null,
      "outputs": [
        {
          "output_type": "execute_result",
          "data": {
            "application/vnd.google.colaboratory.intrinsic+json": {
              "type": "string"
            },
            "text/plain": [
              "'Passat'"
            ]
          },
          "metadata": {},
          "execution_count": 50
        }
      ]
    },
    {
      "cell_type": "code",
      "metadata": {
        "id": "CHoJ034MD0_i",
        "colab": {
          "base_uri": "https://localhost:8080/",
          "height": 35
        },
        "outputId": "fc66c4b4-a32a-4e11-e8fc-27233c011068"
      },
      "source": [
        "carro_3"
      ],
      "execution_count": null,
      "outputs": [
        {
          "output_type": "execute_result",
          "data": {
            "application/vnd.google.colaboratory.intrinsic+json": {
              "type": "string"
            },
            "text/plain": [
              "'Crossfox'"
            ]
          },
          "metadata": {},
          "execution_count": 51
        }
      ]
    },
    {
      "cell_type": "code",
      "metadata": {
        "id": "oxJrOuCSD0_j",
        "colab": {
          "base_uri": "https://localhost:8080/",
          "height": 35
        },
        "outputId": "cf2c11b7-0227-42cb-ac37-ca187f9a04e2"
      },
      "source": [
        "carro_4"
      ],
      "execution_count": null,
      "outputs": [
        {
          "output_type": "execute_result",
          "data": {
            "application/vnd.google.colaboratory.intrinsic+json": {
              "type": "string"
            },
            "text/plain": [
              "'DS5'"
            ]
          },
          "metadata": {},
          "execution_count": 52
        }
      ]
    },
    {
      "cell_type": "code",
      "metadata": {
        "id": "BbR9sB4BD0_k"
      },
      "source": [
        "# Quando colocar o _ ele pula a variável\n",
        "_, a, _ ,b = nomes_carros"
      ],
      "execution_count": null,
      "outputs": []
    },
    {
      "cell_type": "code",
      "metadata": {
        "id": "aZvokrjPD0_m",
        "colab": {
          "base_uri": "https://localhost:8080/",
          "height": 35
        },
        "outputId": "5dea5ffe-2b86-4c0f-89c3-d4637b79148b"
      },
      "source": [
        "a"
      ],
      "execution_count": null,
      "outputs": [
        {
          "output_type": "execute_result",
          "data": {
            "application/vnd.google.colaboratory.intrinsic+json": {
              "type": "string"
            },
            "text/plain": [
              "'Passat'"
            ]
          },
          "metadata": {},
          "execution_count": 55
        }
      ]
    },
    {
      "cell_type": "code",
      "metadata": {
        "id": "wZXDbVg0D0_o",
        "colab": {
          "base_uri": "https://localhost:8080/",
          "height": 35
        },
        "outputId": "5572fd0f-ee46-490d-fd86-b99095c4e618"
      },
      "source": [
        "b"
      ],
      "execution_count": null,
      "outputs": [
        {
          "output_type": "execute_result",
          "data": {
            "application/vnd.google.colaboratory.intrinsic+json": {
              "type": "string"
            },
            "text/plain": [
              "'DS5'"
            ]
          },
          "metadata": {},
          "execution_count": 56
        }
      ]
    },
    {
      "cell_type": "code",
      "metadata": {
        "id": "aWgDMBXiD0_p"
      },
      "source": [
        "# Quando coloca o *_ ele ignora todos os dados a partir daqui\n",
        "_, c, *_ = nomes_carros"
      ],
      "execution_count": null,
      "outputs": []
    },
    {
      "cell_type": "code",
      "metadata": {
        "id": "OdpgNh-ND0_q",
        "colab": {
          "base_uri": "https://localhost:8080/",
          "height": 35
        },
        "outputId": "2ad380b0-9d5a-4492-a913-3e1c915f8fc2"
      },
      "source": [
        "c"
      ],
      "execution_count": null,
      "outputs": [
        {
          "output_type": "execute_result",
          "data": {
            "application/vnd.google.colaboratory.intrinsic+json": {
              "type": "string"
            },
            "text/plain": [
              "'Passat'"
            ]
          },
          "metadata": {},
          "execution_count": 58
        }
      ]
    },
    {
      "cell_type": "code",
      "metadata": {
        "id": "upVYFnMdD0_r"
      },
      "source": [
        ""
      ],
      "execution_count": null,
      "outputs": []
    },
    {
      "cell_type": "markdown",
      "metadata": {
        "id": "u85Aou8WD0_s"
      },
      "source": [
        "## *zip()*\n",
        "\n",
        "https://docs.python.org/3.6/library/functions.html#zip"
      ]
    },
    {
      "cell_type": "code",
      "metadata": {
        "id": "PaC2oXGED0_t",
        "colab": {
          "base_uri": "https://localhost:8080/"
        },
        "outputId": "d829b870-16e7-4b7d-e891-b354b143add8"
      },
      "source": [
        "carros = ['Jetta Variant', 'Passat', 'Crossfox', 'DS5']\n",
        "carros"
      ],
      "execution_count": null,
      "outputs": [
        {
          "output_type": "execute_result",
          "data": {
            "text/plain": [
              "['Jetta Variant', 'Passat', 'Crossfox', 'DS5']"
            ]
          },
          "metadata": {},
          "execution_count": 59
        }
      ]
    },
    {
      "cell_type": "code",
      "metadata": {
        "id": "_02O1VnHD0_u",
        "colab": {
          "base_uri": "https://localhost:8080/"
        },
        "outputId": "a95a8e24-514d-4013-e8c7-4a0aa680b1d8"
      },
      "source": [
        "valores = [88078.64, 106161.94, 72832.16, 124549.07]\n",
        "valores"
      ],
      "execution_count": null,
      "outputs": [
        {
          "output_type": "execute_result",
          "data": {
            "text/plain": [
              "[88078.64, 106161.94, 72832.16, 124549.07]"
            ]
          },
          "metadata": {},
          "execution_count": 60
        }
      ]
    },
    {
      "cell_type": "code",
      "metadata": {
        "id": "roQK5nYRD0_v",
        "colab": {
          "base_uri": "https://localhost:8080/"
        },
        "outputId": "6e038a3e-4e17-49a8-a330-61e0ded78045"
      },
      "source": [
        "# Cria tupla para os dois primeiros valores, segundo..\n",
        "list(zip(carros, valores))"
      ],
      "execution_count": null,
      "outputs": [
        {
          "output_type": "execute_result",
          "data": {
            "text/plain": [
              "[('Jetta Variant', 88078.64),\n",
              " ('Passat', 106161.94),\n",
              " ('Crossfox', 72832.16),\n",
              " ('DS5', 124549.07)]"
            ]
          },
          "metadata": {},
          "execution_count": 62
        }
      ]
    },
    {
      "cell_type": "code",
      "metadata": {
        "id": "_WRxIRHrD0_w",
        "colab": {
          "base_uri": "https://localhost:8080/"
        },
        "outputId": "36c5471b-6eed-422c-bdd9-114ed3d62038"
      },
      "source": [
        "for item in zip(carros, valores):\n",
        "  print(item)"
      ],
      "execution_count": null,
      "outputs": [
        {
          "output_type": "stream",
          "name": "stdout",
          "text": [
            "('Jetta Variant', 88078.64)\n",
            "('Passat', 106161.94)\n",
            "('Crossfox', 72832.16)\n",
            "('DS5', 124549.07)\n"
          ]
        }
      ]
    },
    {
      "cell_type": "code",
      "metadata": {
        "id": "2zIuhIILD0_x",
        "colab": {
          "base_uri": "https://localhost:8080/"
        },
        "outputId": "78b4805e-2a0d-4f2d-fdca-a8f21f9fed25"
      },
      "source": [
        "for carro, valor in zip(carros, valores):\n",
        "  print(carro, valor)"
      ],
      "execution_count": null,
      "outputs": [
        {
          "output_type": "stream",
          "name": "stdout",
          "text": [
            "Jetta Variant 88078.64\n",
            "Passat 106161.94\n",
            "Crossfox 72832.16\n",
            "DS5 124549.07\n"
          ]
        }
      ]
    },
    {
      "cell_type": "code",
      "metadata": {
        "id": "ZJaL62IpD0_y",
        "colab": {
          "base_uri": "https://localhost:8080/"
        },
        "outputId": "7e1fcff7-30b2-46fe-db7b-61939bcc4725"
      },
      "source": [
        "for carro, valor in zip(carros, valores):\n",
        "  if ((valor)> 1000):\n",
        "    print(carro)"
      ],
      "execution_count": null,
      "outputs": [
        {
          "output_type": "stream",
          "name": "stdout",
          "text": [
            "Jetta Variant\n",
            "Passat\n",
            "Crossfox\n",
            "DS5\n"
          ]
        }
      ]
    },
    {
      "cell_type": "markdown",
      "metadata": {
        "id": "xo76nR8rD0_0"
      },
      "source": [
        "# <font color=green> 3. TRABALHANDO COM DICIONÁRIOS\n",
        "---"
      ]
    },
    {
      "cell_type": "markdown",
      "metadata": {
        "id": "wfWzOuztD0_0"
      },
      "source": [
        "# 3.1 Criando dicionários\n",
        "\n",
        "Listas são coleções sequenciais, isto é, os itens destas sequências estão ordenados e utilizam índices (números inteiros) para acessar os valores.\n",
        "\n",
        "Os dicionários são coleções um pouco diferentes. São estruturas de dados que representam um tipo de mapeamento. Mapeamentos são coleções de associações entre pares de valores onde o primeiro elemento do par é conhecido como chave (*key*) e o segundo como valor (*value*).\n",
        "\n",
        "```\n",
        "dicionario = {key_1: value_1, key_2: value_2, ..., key_n: value_n}\n",
        "```\n",
        "\n",
        "https://docs.python.org/3.6/library/stdtypes.html#typesmapping"
      ]
    },
    {
      "cell_type": "code",
      "metadata": {
        "id": "YIFVkWT6D0_1",
        "colab": {
          "base_uri": "https://localhost:8080/"
        },
        "outputId": "df3fdecf-d85d-48c2-91ce-5ec6385eea53"
      },
      "source": [
        "carros = ['Jetta Variant', 'Passat', 'Crossfox']\n",
        "carros"
      ],
      "execution_count": null,
      "outputs": [
        {
          "output_type": "execute_result",
          "data": {
            "text/plain": [
              "['Jetta Variant', 'Passat', 'Crossfox']"
            ]
          },
          "metadata": {},
          "execution_count": 68
        }
      ]
    },
    {
      "cell_type": "code",
      "metadata": {
        "id": "2LHiBn3-D0_2",
        "colab": {
          "base_uri": "https://localhost:8080/"
        },
        "outputId": "a9b71b9b-b7c8-4bfe-da63-a94cbe09b1f0"
      },
      "source": [
        "valores = [88078.64, 106161.94, 72832.16]\n",
        "valores"
      ],
      "execution_count": null,
      "outputs": [
        {
          "output_type": "execute_result",
          "data": {
            "text/plain": [
              "[88078.64, 106161.94, 72832.16]"
            ]
          },
          "metadata": {},
          "execution_count": 69
        }
      ]
    },
    {
      "cell_type": "code",
      "metadata": {
        "id": "YxLAx_sqD0_4",
        "colab": {
          "base_uri": "https://localhost:8080/"
        },
        "outputId": "4e1118f5-00ab-4f40-b8b6-59de7803de73"
      },
      "source": [
        "carros.index('Passat')"
      ],
      "execution_count": null,
      "outputs": [
        {
          "output_type": "execute_result",
          "data": {
            "text/plain": [
              "1"
            ]
          },
          "metadata": {},
          "execution_count": 72
        }
      ]
    },
    {
      "cell_type": "code",
      "metadata": {
        "id": "WITNWExID0_7",
        "colab": {
          "base_uri": "https://localhost:8080/"
        },
        "outputId": "70913c3a-61de-4cc1-cb1d-76784d9d8b18"
      },
      "source": [
        "valores[carros.index('Passat')]"
      ],
      "execution_count": null,
      "outputs": [
        {
          "output_type": "execute_result",
          "data": {
            "text/plain": [
              "106161.94"
            ]
          },
          "metadata": {},
          "execution_count": 73
        }
      ]
    },
    {
      "cell_type": "code",
      "metadata": {
        "id": "bHNqoDbTD0_8",
        "colab": {
          "base_uri": "https://localhost:8080/"
        },
        "outputId": "aa97dcc6-c6f0-4b1d-ee48-618f19b9aa30"
      },
      "source": [
        "dados = {'Jetta Variant': 88078.64, 'Passat':106161.94, 'Crossfox': 72832.16}\n",
        "dados"
      ],
      "execution_count": null,
      "outputs": [
        {
          "output_type": "execute_result",
          "data": {
            "text/plain": [
              "{'Crossfox': 72832.16, 'Jetta Variant': 88078.64, 'Passat': 106161.94}"
            ]
          },
          "metadata": {},
          "execution_count": 76
        }
      ]
    },
    {
      "cell_type": "code",
      "metadata": {
        "id": "4FyQgmcAD0_9",
        "colab": {
          "base_uri": "https://localhost:8080/"
        },
        "outputId": "3c26c0e5-b8bf-45d1-acc8-7d4a975bcdfb"
      },
      "source": [
        "type(dados)"
      ],
      "execution_count": null,
      "outputs": [
        {
          "output_type": "execute_result",
          "data": {
            "text/plain": [
              "dict"
            ]
          },
          "metadata": {},
          "execution_count": 78
        }
      ]
    },
    {
      "cell_type": "markdown",
      "metadata": {
        "id": "PQg-MLkGD0_-"
      },
      "source": [
        "### Criando dicionários com *zip()*"
      ]
    },
    {
      "cell_type": "code",
      "metadata": {
        "id": "iB4Q_gbND0__",
        "colab": {
          "base_uri": "https://localhost:8080/"
        },
        "outputId": "4c66c9ce-08f7-44a6-d6b0-d9ca11d7a851"
      },
      "source": [
        "list(zip(carros, valores))"
      ],
      "execution_count": null,
      "outputs": [
        {
          "output_type": "execute_result",
          "data": {
            "text/plain": [
              "[('Jetta Variant', 88078.64), ('Passat', 106161.94), ('Crossfox', 72832.16)]"
            ]
          },
          "metadata": {},
          "execution_count": 79
        }
      ]
    },
    {
      "cell_type": "code",
      "metadata": {
        "id": "mIgZqdKKD1AA",
        "colab": {
          "base_uri": "https://localhost:8080/"
        },
        "outputId": "0ac9d75d-ca94-4c57-9ddb-53e36466b29f"
      },
      "source": [
        "dados = dict(zip(carros, valores))\n",
        "dados"
      ],
      "execution_count": null,
      "outputs": [
        {
          "output_type": "execute_result",
          "data": {
            "text/plain": [
              "{'Crossfox': 72832.16, 'Jetta Variant': 88078.64, 'Passat': 106161.94}"
            ]
          },
          "metadata": {},
          "execution_count": 83
        }
      ]
    },
    {
      "cell_type": "markdown",
      "metadata": {
        "id": "KYeRqavFD1AD"
      },
      "source": [
        "# 3.2 Operações com dicionários"
      ]
    },
    {
      "cell_type": "markdown",
      "metadata": {
        "id": "KzmWbEltD1AD"
      },
      "source": [
        "## *dict[ key ]*\n",
        "\n",
        "Retorna o valor correspondente à chave (*key*) no dicionário."
      ]
    },
    {
      "cell_type": "code",
      "metadata": {
        "id": "hFFDz6wKD1AD",
        "colab": {
          "base_uri": "https://localhost:8080/"
        },
        "outputId": "cd46b838-75da-4aee-e7be-9b9cf093f59d"
      },
      "source": [
        "dados = {'Jetta Variant': 88078.64, 'Passat':106161.94, 'Crossfox': 72832.16}\n",
        "dados"
      ],
      "execution_count": null,
      "outputs": [
        {
          "output_type": "execute_result",
          "data": {
            "text/plain": [
              "{'Crossfox': 72832.16, 'Jetta Variant': 88078.64, 'Passat': 106161.94}"
            ]
          },
          "metadata": {},
          "execution_count": 1
        }
      ]
    },
    {
      "cell_type": "code",
      "metadata": {
        "colab": {
          "base_uri": "https://localhost:8080/"
        },
        "id": "JYnBqDnJmZpl",
        "outputId": "840956c3-d47f-429f-8437-7fb0b1ac9758"
      },
      "source": [
        "dados['Passat']"
      ],
      "execution_count": null,
      "outputs": [
        {
          "output_type": "execute_result",
          "data": {
            "text/plain": [
              "106161.94"
            ]
          },
          "metadata": {},
          "execution_count": 3
        }
      ]
    },
    {
      "cell_type": "markdown",
      "metadata": {
        "id": "SWlE6VTBD1AE"
      },
      "source": [
        "## *key in dict*\n",
        "\n",
        "Retorna **True** se a chave (*key*) for encontrada no dicionário."
      ]
    },
    {
      "cell_type": "code",
      "metadata": {
        "id": "Iy88SxBtD1AE",
        "colab": {
          "base_uri": "https://localhost:8080/"
        },
        "outputId": "284bc458-2de4-4533-8aa2-1f10316cf937"
      },
      "source": [
        "'Passat'in dados"
      ],
      "execution_count": null,
      "outputs": [
        {
          "output_type": "execute_result",
          "data": {
            "text/plain": [
              "True"
            ]
          },
          "metadata": {},
          "execution_count": 4
        }
      ]
    },
    {
      "cell_type": "code",
      "metadata": {
        "id": "Oma56NkAD1AF",
        "colab": {
          "base_uri": "https://localhost:8080/"
        },
        "outputId": "87747aac-f76c-4814-99a6-7148c5c4c910"
      },
      "source": [
        "'Fusca'in dados"
      ],
      "execution_count": null,
      "outputs": [
        {
          "output_type": "execute_result",
          "data": {
            "text/plain": [
              "False"
            ]
          },
          "metadata": {},
          "execution_count": 5
        }
      ]
    },
    {
      "cell_type": "code",
      "metadata": {
        "id": "yS2U-_8gD1AG",
        "colab": {
          "base_uri": "https://localhost:8080/"
        },
        "outputId": "7d810758-6e6d-4863-b0b8-798286a01a6d"
      },
      "source": [
        "'Fusca'not in dados"
      ],
      "execution_count": null,
      "outputs": [
        {
          "output_type": "execute_result",
          "data": {
            "text/plain": [
              "True"
            ]
          },
          "metadata": {},
          "execution_count": 6
        }
      ]
    },
    {
      "cell_type": "markdown",
      "metadata": {
        "id": "oWbWyDd0D1AI"
      },
      "source": [
        "## *len(dict)*\n",
        "\n",
        "Retorna o número de itens do dicionário."
      ]
    },
    {
      "cell_type": "code",
      "metadata": {
        "id": "k08YkCc1D1AJ",
        "colab": {
          "base_uri": "https://localhost:8080/"
        },
        "outputId": "a3374267-ba40-42a9-a164-de0e25f6e0dc"
      },
      "source": [
        "len(dados)"
      ],
      "execution_count": null,
      "outputs": [
        {
          "output_type": "execute_result",
          "data": {
            "text/plain": [
              "3"
            ]
          },
          "metadata": {},
          "execution_count": 7
        }
      ]
    },
    {
      "cell_type": "markdown",
      "metadata": {
        "id": "yYNqIHJBD1AK"
      },
      "source": [
        "## *dict[ key ] = value*\n",
        "\n",
        "Inclui um item ao dicionário."
      ]
    },
    {
      "cell_type": "code",
      "metadata": {
        "id": "5jj3i52bD1AK"
      },
      "source": [
        "dados['BS5'] = 123457.49"
      ],
      "execution_count": null,
      "outputs": []
    },
    {
      "cell_type": "code",
      "metadata": {
        "id": "y6rso5hLD1AL",
        "colab": {
          "base_uri": "https://localhost:8080/"
        },
        "outputId": "057e1073-c433-490c-ff8b-b4739316b00b"
      },
      "source": [
        "dados"
      ],
      "execution_count": null,
      "outputs": [
        {
          "output_type": "execute_result",
          "data": {
            "text/plain": [
              "{'BS5': 123457.49,\n",
              " 'Crossfox': 72832.16,\n",
              " 'Jetta Variant': 88078.64,\n",
              " 'Passat': 106161.94}"
            ]
          },
          "metadata": {},
          "execution_count": 9
        }
      ]
    },
    {
      "cell_type": "markdown",
      "metadata": {
        "id": "_z0JySuqD1AL"
      },
      "source": [
        "## *del dict[ key ]*\n",
        "\n",
        "Remove o item de chave (*key*) do dicionário."
      ]
    },
    {
      "cell_type": "code",
      "metadata": {
        "id": "PPfh6sfID1AM",
        "colab": {
          "base_uri": "https://localhost:8080/"
        },
        "outputId": "58207804-0fa2-42fb-fcec-f9647a56818b"
      },
      "source": [
        "dados"
      ],
      "execution_count": null,
      "outputs": [
        {
          "output_type": "execute_result",
          "data": {
            "text/plain": [
              "{'BS5': 123457.49,\n",
              " 'Crossfox': 72832.16,\n",
              " 'Jetta Variant': 88078.64,\n",
              " 'Passat': 106161.94}"
            ]
          },
          "metadata": {},
          "execution_count": 10
        }
      ]
    },
    {
      "cell_type": "code",
      "metadata": {
        "id": "BtjGpXtGD1AN",
        "colab": {
          "base_uri": "https://localhost:8080/"
        },
        "outputId": "e151c79e-1f81-4575-c38e-fd6116f7b208"
      },
      "source": [
        "del dados['Passat']\n",
        "dados"
      ],
      "execution_count": null,
      "outputs": [
        {
          "output_type": "execute_result",
          "data": {
            "text/plain": [
              "{'BS5': 123457.49, 'Crossfox': 72832.16, 'Jetta Variant': 88078.64}"
            ]
          },
          "metadata": {},
          "execution_count": 11
        }
      ]
    },
    {
      "cell_type": "markdown",
      "metadata": {
        "id": "FodJVx5sD1AP"
      },
      "source": [
        "# 3.3 Métodos de dicionários"
      ]
    },
    {
      "cell_type": "markdown",
      "metadata": {
        "id": "7pqdPOkYD1AP"
      },
      "source": [
        "## *dict.update()*\n",
        "\n",
        "Atualiza o dicionário."
      ]
    },
    {
      "cell_type": "code",
      "metadata": {
        "id": "DUySYxKQD1AQ",
        "colab": {
          "base_uri": "https://localhost:8080/"
        },
        "outputId": "a8e9ba9d-7f2e-42e1-fc13-1411f345fce8"
      },
      "source": [
        "dados"
      ],
      "execution_count": null,
      "outputs": [
        {
          "output_type": "execute_result",
          "data": {
            "text/plain": [
              "{'BS5': 123457.49, 'Crossfox': 72832.16, 'Jetta Variant': 88078.64}"
            ]
          },
          "metadata": {},
          "execution_count": 12
        }
      ]
    },
    {
      "cell_type": "code",
      "metadata": {
        "id": "DLsqp71cD1AR",
        "colab": {
          "base_uri": "https://localhost:8080/"
        },
        "outputId": "cc3fb0b9-e368-4efd-a8c4-aca85486160b"
      },
      "source": [
        "dados.update({'Passat':106161.94})\n",
        "dados"
      ],
      "execution_count": null,
      "outputs": [
        {
          "output_type": "execute_result",
          "data": {
            "text/plain": [
              "{'BS5': 123457.49,\n",
              " 'Crossfox': 72832.16,\n",
              " 'Jetta Variant': 88078.64,\n",
              " 'Passat': 106161.94}"
            ]
          },
          "metadata": {},
          "execution_count": 14
        }
      ]
    },
    {
      "cell_type": "markdown",
      "metadata": {
        "id": "JLs5c0DeD1AR"
      },
      "source": [
        "## *dict.copy()*\n",
        "\n",
        "Cria uma cópia do dicionário."
      ]
    },
    {
      "cell_type": "code",
      "metadata": {
        "id": "X9F7OB3eD1AS",
        "colab": {
          "base_uri": "https://localhost:8080/"
        },
        "outputId": "cdbc8fed-1fa8-4629-813b-7574675b8732"
      },
      "source": [
        "dados.update({'Passat':106161.95, 'Fusca': 150000})\n",
        "dados"
      ],
      "execution_count": null,
      "outputs": [
        {
          "output_type": "execute_result",
          "data": {
            "text/plain": [
              "{'BS5': 123457.49,\n",
              " 'Crossfox': 72832.16,\n",
              " 'Fusca': 150000,\n",
              " 'Jetta Variant': 88078.64,\n",
              " 'Passat': 106161.95}"
            ]
          },
          "metadata": {},
          "execution_count": 15
        }
      ]
    },
    {
      "cell_type": "code",
      "metadata": {
        "id": "v0rL0bveD1AS"
      },
      "source": [
        "dadosCopy = dados.copy()"
      ],
      "execution_count": null,
      "outputs": []
    },
    {
      "cell_type": "code",
      "metadata": {
        "id": "M-abRGGrD1AT",
        "colab": {
          "base_uri": "https://localhost:8080/"
        },
        "outputId": "55621341-470f-4153-d147-93b2d150c186"
      },
      "source": [
        "dadosCopy"
      ],
      "execution_count": null,
      "outputs": [
        {
          "output_type": "execute_result",
          "data": {
            "text/plain": [
              "{'BS5': 123457.49,\n",
              " 'Crossfox': 72832.16,\n",
              " 'Fusca': 150000,\n",
              " 'Jetta Variant': 88078.64,\n",
              " 'Passat': 106161.95}"
            ]
          },
          "metadata": {},
          "execution_count": 25
        }
      ]
    },
    {
      "cell_type": "code",
      "metadata": {
        "id": "ETBD0TkND1AU",
        "colab": {
          "base_uri": "https://localhost:8080/"
        },
        "outputId": "15422e35-884f-457b-8bb2-a8875db54c33"
      },
      "source": [
        "del dadosCopy['Fusca']\n",
        "dados"
      ],
      "execution_count": null,
      "outputs": [
        {
          "output_type": "execute_result",
          "data": {
            "text/plain": [
              "{'BS5': 123457.49,\n",
              " 'Crossfox': 72832.16,\n",
              " 'Fusca': 150000,\n",
              " 'Jetta Variant': 88078.64,\n",
              " 'Passat': 106161.95}"
            ]
          },
          "metadata": {},
          "execution_count": 26
        }
      ]
    },
    {
      "cell_type": "markdown",
      "metadata": {
        "id": "mNODkmHCD1AV"
      },
      "source": [
        "## *dict.pop(key[, default ])*\n",
        "\n",
        "Se a chave for encontrada no dicionário, o item é removido e seu valor é retornado. Caso contrário, o valor especificado como *default* é retornado. Se o valor *default* não for fornecido e a chave não for encontrada no dicionário um erro será gerado."
      ]
    },
    {
      "cell_type": "code",
      "metadata": {
        "id": "_4QEPwScD1AW",
        "colab": {
          "base_uri": "https://localhost:8080/"
        },
        "outputId": "a5bf61c3-c845-4183-9e23-4727ac706b2a"
      },
      "source": [
        "dadosCopy"
      ],
      "execution_count": null,
      "outputs": [
        {
          "output_type": "execute_result",
          "data": {
            "text/plain": [
              "{'BS5': 123457.49,\n",
              " 'Crossfox': 72832.16,\n",
              " 'Jetta Variant': 88078.64,\n",
              " 'Passat': 106161.95}"
            ]
          },
          "metadata": {},
          "execution_count": 27
        }
      ]
    },
    {
      "cell_type": "code",
      "metadata": {
        "id": "Hjh0MuymD1AX",
        "colab": {
          "base_uri": "https://localhost:8080/"
        },
        "outputId": "d066761d-cfcb-40cf-fe81-010c7a55ffbf"
      },
      "source": [
        "dadosCopy.pop('Passat')"
      ],
      "execution_count": null,
      "outputs": [
        {
          "output_type": "execute_result",
          "data": {
            "text/plain": [
              "106161.95"
            ]
          },
          "metadata": {},
          "execution_count": 29
        }
      ]
    },
    {
      "cell_type": "code",
      "metadata": {
        "id": "f51rKjkuD1AX",
        "colab": {
          "base_uri": "https://localhost:8080/"
        },
        "outputId": "f7ba7159-87ff-40b3-9bf3-c3f7258ea278"
      },
      "source": [
        "dadosCopy"
      ],
      "execution_count": null,
      "outputs": [
        {
          "output_type": "execute_result",
          "data": {
            "text/plain": [
              "{'BS5': 123457.49, 'Crossfox': 72832.16, 'Jetta Variant': 88078.64}"
            ]
          },
          "metadata": {},
          "execution_count": 30
        }
      ]
    },
    {
      "cell_type": "code",
      "metadata": {
        "id": "Ah4sZ7axD1AZ",
        "colab": {
          "base_uri": "https://localhost:8080/",
          "height": 35
        },
        "outputId": "9737b095-b83a-46ea-a65f-473b7663f5a6"
      },
      "source": [
        "dadosCopy.pop('Passat', 'chave não encontrada')"
      ],
      "execution_count": null,
      "outputs": [
        {
          "output_type": "execute_result",
          "data": {
            "application/vnd.google.colaboratory.intrinsic+json": {
              "type": "string"
            },
            "text/plain": [
              "'chave não encontrada'"
            ]
          },
          "metadata": {},
          "execution_count": 32
        }
      ]
    },
    {
      "cell_type": "code",
      "metadata": {
        "id": "SJATRY8RD1Aa",
        "colab": {
          "base_uri": "https://localhost:8080/"
        },
        "outputId": "adf975e2-b5eb-48a1-aa5a-6733aa5dd7f2"
      },
      "source": [
        "dadosCopy.pop('BS5', 'CHAVE NAO ENCONTRADA')"
      ],
      "execution_count": null,
      "outputs": [
        {
          "output_type": "execute_result",
          "data": {
            "text/plain": [
              "123457.49"
            ]
          },
          "metadata": {},
          "execution_count": 34
        }
      ]
    },
    {
      "cell_type": "code",
      "metadata": {
        "id": "V36wHdzmD1Ab"
      },
      "source": [
        ""
      ],
      "execution_count": null,
      "outputs": []
    },
    {
      "cell_type": "code",
      "metadata": {
        "id": "LJ0lQIrdD1Ac"
      },
      "source": [
        ""
      ],
      "execution_count": null,
      "outputs": []
    },
    {
      "cell_type": "code",
      "metadata": {
        "id": "yKGu-fYkD1Ad"
      },
      "source": [
        ""
      ],
      "execution_count": null,
      "outputs": []
    },
    {
      "cell_type": "code",
      "metadata": {
        "id": "x-h8nVyhD1Af"
      },
      "source": [
        ""
      ],
      "execution_count": null,
      "outputs": []
    },
    {
      "cell_type": "markdown",
      "metadata": {
        "id": "Q5J0R7d3D1Ag"
      },
      "source": [
        "## *dict.clear()*\n",
        "\n",
        "Remove todos os itens do dicionário."
      ]
    },
    {
      "cell_type": "code",
      "metadata": {
        "id": "AvkP_8mND1Ag"
      },
      "source": [
        "dadosCopy.clear()"
      ],
      "execution_count": null,
      "outputs": []
    },
    {
      "cell_type": "code",
      "metadata": {
        "id": "S69pMYboD1Ah",
        "colab": {
          "base_uri": "https://localhost:8080/"
        },
        "outputId": "6546370b-37ac-4a98-dc48-3c6de476671b"
      },
      "source": [
        "dadosCopy"
      ],
      "execution_count": null,
      "outputs": [
        {
          "output_type": "execute_result",
          "data": {
            "text/plain": [
              "{}"
            ]
          },
          "metadata": {},
          "execution_count": 36
        }
      ]
    },
    {
      "cell_type": "markdown",
      "metadata": {
        "id": "QhoSRfPsD1Ai"
      },
      "source": [
        "# 3.4 Iterando em dicionários"
      ]
    },
    {
      "cell_type": "markdown",
      "metadata": {
        "id": "E-agaqakD1Ai"
      },
      "source": [
        "## *dict.keys()*\n",
        "\n",
        "Retorna uma lista contendo as chaves (*keys*) do dicionário."
      ]
    },
    {
      "cell_type": "code",
      "metadata": {
        "id": "qFADEYmBD1Aj",
        "colab": {
          "base_uri": "https://localhost:8080/"
        },
        "outputId": "9cf547c1-08a2-4235-ff46-23ea651fb2ff"
      },
      "source": [
        "dados = {'Jetta Variant': 88078.64, 'Passat':106161.94, 'Crossfox': 72832.16, 'Fusca': 150000, 'Gol': 70000}\n",
        "dados"
      ],
      "execution_count": null,
      "outputs": [
        {
          "output_type": "execute_result",
          "data": {
            "text/plain": [
              "{'Crossfox': 72832.16,\n",
              " 'Fusca': 150000,\n",
              " 'Gol': 70000,\n",
              " 'Jetta Variant': 88078.64,\n",
              " 'Passat': 106161.94}"
            ]
          },
          "metadata": {},
          "execution_count": 37
        }
      ]
    },
    {
      "cell_type": "code",
      "metadata": {
        "id": "niwh9AgDD1Aj",
        "colab": {
          "base_uri": "https://localhost:8080/"
        },
        "outputId": "99d8d509-d6e1-4ca1-c064-427c504db1e9"
      },
      "source": [
        "dados.keys()"
      ],
      "execution_count": null,
      "outputs": [
        {
          "output_type": "execute_result",
          "data": {
            "text/plain": [
              "dict_keys(['Jetta Variant', 'Passat', 'Crossfox', 'Fusca', 'Gol'])"
            ]
          },
          "metadata": {},
          "execution_count": 39
        }
      ]
    },
    {
      "cell_type": "code",
      "metadata": {
        "colab": {
          "base_uri": "https://localhost:8080/"
        },
        "id": "TcOcOK2Ls_rj",
        "outputId": "316da0db-604a-444c-afaf-cbfc93de02db"
      },
      "source": [
        "for key in dados.keys():\n",
        "  print(dados[key])"
      ],
      "execution_count": null,
      "outputs": [
        {
          "output_type": "stream",
          "name": "stdout",
          "text": [
            "88078.64\n",
            "106161.94\n",
            "72832.16\n",
            "150000\n",
            "70000\n"
          ]
        }
      ]
    },
    {
      "cell_type": "markdown",
      "metadata": {
        "id": "qFj6Cc7dD1Ak"
      },
      "source": [
        "## *dict.values()*\n",
        "\n",
        "Retorna uma lista com todos os valores (*values*) do dicionário."
      ]
    },
    {
      "cell_type": "code",
      "metadata": {
        "id": "nfpLxrQVD1Al",
        "colab": {
          "base_uri": "https://localhost:8080/"
        },
        "outputId": "55ce8a5a-2666-40e4-9fe0-b9f3e425f3ff"
      },
      "source": [
        "dados.values()"
      ],
      "execution_count": null,
      "outputs": [
        {
          "output_type": "execute_result",
          "data": {
            "text/plain": [
              "dict_values([88078.64, 106161.94, 72832.16, 150000, 70000])"
            ]
          },
          "metadata": {},
          "execution_count": 41
        }
      ]
    },
    {
      "cell_type": "markdown",
      "metadata": {
        "id": "-NGRwX0AD1Al"
      },
      "source": [
        "## *dict.items()*\n",
        "\n",
        "Retorna uma lista contendo uma tupla para cada par chave-valor (*key-value*) do dicionário."
      ]
    },
    {
      "cell_type": "code",
      "metadata": {
        "id": "Q2I9_6YvD1Am",
        "colab": {
          "base_uri": "https://localhost:8080/"
        },
        "outputId": "604489d3-2768-45f8-efe1-e4ec540c3d31"
      },
      "source": [
        "dados.items()"
      ],
      "execution_count": null,
      "outputs": [
        {
          "output_type": "execute_result",
          "data": {
            "text/plain": [
              "dict_items([('Jetta Variant', 88078.64), ('Passat', 106161.94), ('Crossfox', 72832.16), ('Fusca', 150000), ('Gol', 70000)])"
            ]
          },
          "metadata": {},
          "execution_count": 42
        }
      ]
    },
    {
      "cell_type": "code",
      "metadata": {
        "id": "0j41ZqgQD1Am",
        "colab": {
          "base_uri": "https://localhost:8080/"
        },
        "outputId": "c780ddf8-e078-44dc-e3e0-7ef08b516cfe"
      },
      "source": [
        "for item in dados.items():\n",
        "  print(item)"
      ],
      "execution_count": null,
      "outputs": [
        {
          "output_type": "stream",
          "name": "stdout",
          "text": [
            "('Jetta Variant', 88078.64)\n",
            "('Passat', 106161.94)\n",
            "('Crossfox', 72832.16)\n",
            "('Fusca', 150000)\n",
            "('Gol', 70000)\n"
          ]
        }
      ]
    },
    {
      "cell_type": "code",
      "metadata": {
        "id": "OVY9rIwFD1An",
        "colab": {
          "base_uri": "https://localhost:8080/"
        },
        "outputId": "c5bdac02-8895-4244-a74a-2f810a1722a2"
      },
      "source": [
        "for item, value in dados.items():\n",
        "  print(item, value)"
      ],
      "execution_count": null,
      "outputs": [
        {
          "output_type": "stream",
          "name": "stdout",
          "text": [
            "Jetta Variant 88078.64\n",
            "Passat 106161.94\n",
            "Crossfox 72832.16\n",
            "Fusca 150000\n",
            "Gol 70000\n"
          ]
        }
      ]
    },
    {
      "cell_type": "code",
      "metadata": {
        "id": "ma2Ol8vcD1Ap",
        "colab": {
          "base_uri": "https://localhost:8080/"
        },
        "outputId": "9aed99d5-cd18-4e07-8b72-117f6374a83b"
      },
      "source": [
        "for key, value in dados.items():\n",
        "  if(value>100000):\n",
        "    print(key)"
      ],
      "execution_count": null,
      "outputs": [
        {
          "output_type": "stream",
          "name": "stdout",
          "text": [
            "Passat\n",
            "Fusca\n"
          ]
        }
      ]
    },
    {
      "cell_type": "markdown",
      "metadata": {
        "id": "-q3AlSg3D1Aq"
      },
      "source": [
        "# <font color=green> 4. FUNÇÕES E PACOTES\n",
        "---\n",
        "    \n",
        "Funções são unidades de código reutilizáveis que realizam uma tarefa específica, podem receber alguma entrada e também podem retornar alguma resultado."
      ]
    },
    {
      "cell_type": "markdown",
      "metadata": {
        "id": "5CfEcU58D1Aq"
      },
      "source": [
        "# 4.1 Built-in function\n",
        "\n",
        "A linguagem Python possui várias funções integradas que estão sempre acessíveis. Algumas já utilizamos em nosso treinamento: type(), print(), zip(), len(), set() etc.\n",
        "\n",
        "https://docs.python.org/3.6/library/functions.html"
      ]
    },
    {
      "cell_type": "code",
      "metadata": {
        "id": "DP7cmY7xD1Aq",
        "colab": {
          "base_uri": "https://localhost:8080/"
        },
        "outputId": "598fbb00-2a1e-4d0c-c9d5-72136e901035"
      },
      "source": [
        "dados = {'Jetta Variant': 88078.64, 'Passat': 106161.94, 'Crossfox': 72832.16}\n",
        "dados"
      ],
      "execution_count": null,
      "outputs": [
        {
          "output_type": "execute_result",
          "data": {
            "text/plain": [
              "{'Crossfox': 72832.16, 'Jetta Variant': 88078.64, 'Passat': 106161.94}"
            ]
          },
          "metadata": {},
          "execution_count": 1
        }
      ]
    },
    {
      "cell_type": "code",
      "metadata": {
        "id": "5zAcGSCbD1Ar",
        "colab": {
          "base_uri": "https://localhost:8080/"
        },
        "outputId": "f3a3f288-3bda-4ed9-f697-5498a53b2811"
      },
      "source": [
        "valores = []\n",
        "for valor in dados.values():\n",
        "  valores.append(valor)\n",
        "\n",
        "valores"
      ],
      "execution_count": null,
      "outputs": [
        {
          "output_type": "execute_result",
          "data": {
            "text/plain": [
              "[88078.64, 106161.94, 72832.16]"
            ]
          },
          "metadata": {},
          "execution_count": 52
        }
      ]
    },
    {
      "cell_type": "code",
      "metadata": {
        "id": "zG9_jU_1D1At",
        "colab": {
          "base_uri": "https://localhost:8080/"
        },
        "outputId": "fc130ef7-465a-4d95-97cd-7ff26c0a93b1"
      },
      "source": [
        "soma = 0\n",
        "for valor in dados.values():\n",
        "  soma += valor\n",
        "soma"
      ],
      "execution_count": null,
      "outputs": [
        {
          "output_type": "execute_result",
          "data": {
            "text/plain": [
              "267072.74"
            ]
          },
          "metadata": {},
          "execution_count": 53
        }
      ]
    },
    {
      "cell_type": "code",
      "metadata": {
        "id": "jn0O3uXZD1Au",
        "colab": {
          "base_uri": "https://localhost:8080/"
        },
        "outputId": "bfb532f4-ff83-4e64-b399-d0f747cdddb3"
      },
      "source": [
        "list(dados.values())"
      ],
      "execution_count": null,
      "outputs": [
        {
          "output_type": "execute_result",
          "data": {
            "text/plain": [
              "[88078.64, 106161.94, 72832.16]"
            ]
          },
          "metadata": {},
          "execution_count": 56
        }
      ]
    },
    {
      "cell_type": "code",
      "metadata": {
        "id": "lnUjKVnoD1Aw",
        "colab": {
          "base_uri": "https://localhost:8080/"
        },
        "outputId": "18f4fdfc-2d66-4379-ff05-59dda33aee77"
      },
      "source": [
        "sum(dados.values())"
      ],
      "execution_count": null,
      "outputs": [
        {
          "output_type": "execute_result",
          "data": {
            "text/plain": [
              "267072.74"
            ]
          },
          "metadata": {},
          "execution_count": 57
        }
      ]
    },
    {
      "cell_type": "code",
      "metadata": {
        "scrolled": false,
        "id": "WdEuYXe2D1Ay",
        "colab": {
          "base_uri": "https://localhost:8080/"
        },
        "outputId": "90f19050-46cb-4c19-f545-5aaf3d9f7c26"
      },
      "source": [
        "sum(dados.values(), 100000000)"
      ],
      "execution_count": null,
      "outputs": [
        {
          "output_type": "execute_result",
          "data": {
            "text/plain": [
              "100267072.74"
            ]
          },
          "metadata": {},
          "execution_count": 58
        }
      ]
    },
    {
      "cell_type": "code",
      "metadata": {
        "id": "hIA29O3tD1Az",
        "colab": {
          "base_uri": "https://localhost:8080/"
        },
        "outputId": "ed3675ab-2c83-4a07-dbf3-3038e51cdb82"
      },
      "source": [
        "help(print)"
      ],
      "execution_count": null,
      "outputs": [
        {
          "output_type": "stream",
          "name": "stdout",
          "text": [
            "\n",
            "Welcome to Python 3.7's help utility!\n",
            "\n",
            "If this is your first time using Python, you should definitely check out\n",
            "the tutorial on the Internet at https://docs.python.org/3.7/tutorial/.\n",
            "\n",
            "Enter the name of any module, keyword, or topic to get help on writing\n",
            "Python programs and using Python modules.  To quit this help utility and\n",
            "return to the interpreter, just type \"quit\".\n",
            "\n",
            "To get a list of available modules, keywords, symbols, or topics, type\n",
            "\"modules\", \"keywords\", \"symbols\", or \"topics\".  Each module also comes\n",
            "with a one-line summary of what it does; to list the modules whose name\n",
            "or summary contain a given string such as \"spam\", type \"modules spam\".\n",
            "\n",
            "\n",
            "You are now leaving help and returning to the Python interpreter.\n",
            "If you want to ask for help on a particular object directly from the\n",
            "interpreter, you can type \"help(object)\".  Executing \"help('string')\"\n",
            "has the same effect as typing a particular string at the help> prompt.\n"
          ]
        }
      ]
    },
    {
      "cell_type": "markdown",
      "metadata": {
        "id": "6w62Sl5ZD1A0"
      },
      "source": [
        "# 4.2 Definindo funções sem e com parâmetros"
      ]
    },
    {
      "cell_type": "markdown",
      "metadata": {
        "id": "OADZiBP2D1A0"
      },
      "source": [
        "### Funções sem parâmetros\n",
        "\n",
        "#### Formato padrão\n",
        "\n",
        "```\n",
        "def <nome>():\n",
        "    <instruções>\n",
        "```"
      ]
    },
    {
      "cell_type": "code",
      "metadata": {
        "id": "uCkplEpQD1A0"
      },
      "source": [
        "def media():\n",
        "  valor = (1 + 2 + 3) / 3\n",
        "  print(valor)\n"
      ],
      "execution_count": null,
      "outputs": []
    },
    {
      "cell_type": "code",
      "metadata": {
        "id": "fOCEGq5VD1A1",
        "colab": {
          "base_uri": "https://localhost:8080/"
        },
        "outputId": "ee739b3d-f817-49cb-b2bd-a1839a50efad"
      },
      "source": [
        "media()"
      ],
      "execution_count": null,
      "outputs": [
        {
          "output_type": "stream",
          "name": "stdout",
          "text": [
            "2.0\n"
          ]
        }
      ]
    },
    {
      "cell_type": "markdown",
      "metadata": {
        "id": "PwSlYSVAD1A2"
      },
      "source": [
        "### Funções com parâmetros\n",
        "\n",
        "#### Formato padrão\n",
        "\n",
        "```\n",
        "def <nome>(<param_1>, <param_2>, ..., <param_n>):\n",
        "    <instruções>\n",
        "```"
      ]
    },
    {
      "cell_type": "code",
      "metadata": {
        "id": "A3YnBUduD1A3"
      },
      "source": [
        "def media(number_1,number_2,number_3):\n",
        "  valor = (number_1 + number_2 + number_3) / 3\n",
        "  print(valor)"
      ],
      "execution_count": null,
      "outputs": []
    },
    {
      "cell_type": "code",
      "metadata": {
        "id": "rGUZbRERD1A3",
        "colab": {
          "base_uri": "https://localhost:8080/"
        },
        "outputId": "47b44070-2349-4e62-dfb2-abf5f77f7d7d"
      },
      "source": [
        "media(1,2,3)"
      ],
      "execution_count": null,
      "outputs": [
        {
          "output_type": "stream",
          "name": "stdout",
          "text": [
            "2.0\n"
          ]
        }
      ]
    },
    {
      "cell_type": "code",
      "metadata": {
        "id": "B9WDlRE7D1A5",
        "colab": {
          "base_uri": "https://localhost:8080/"
        },
        "outputId": "ab5d2a6c-3166-465d-8b77-0bb3c997fa59"
      },
      "source": [
        "media(23.5,45,67)"
      ],
      "execution_count": null,
      "outputs": [
        {
          "output_type": "stream",
          "name": "stdout",
          "text": [
            "45.166666666666664\n"
          ]
        }
      ]
    },
    {
      "cell_type": "code",
      "metadata": {
        "id": "1HAy8OK_D1A6"
      },
      "source": [
        "# Print não retorna valores\n",
        "def media(lista):\n",
        "  valor = sum(lista)/ len(lista)\n",
        "  print(valor)"
      ],
      "execution_count": null,
      "outputs": []
    },
    {
      "cell_type": "code",
      "metadata": {
        "id": "_CDa4oOfD1A6",
        "colab": {
          "base_uri": "https://localhost:8080/"
        },
        "outputId": "729e6297-492c-4fb1-f9f6-4d9a49628a50"
      },
      "source": [
        "resultado = media([1,2,3,4,5,6,7,8,9,10])"
      ],
      "execution_count": null,
      "outputs": [
        {
          "output_type": "stream",
          "name": "stdout",
          "text": [
            "5.5\n"
          ]
        }
      ]
    },
    {
      "cell_type": "code",
      "metadata": {
        "id": "xH-mxqYAD1A8"
      },
      "source": [
        "resultado"
      ],
      "execution_count": null,
      "outputs": []
    },
    {
      "cell_type": "code",
      "metadata": {
        "id": "WXXC_UidD1A8",
        "colab": {
          "base_uri": "https://localhost:8080/"
        },
        "outputId": "221c7f29-71ae-473c-d9be-955e70cae186"
      },
      "source": [
        "type(resultado)"
      ],
      "execution_count": null,
      "outputs": [
        {
          "output_type": "execute_result",
          "data": {
            "text/plain": [
              "NoneType"
            ]
          },
          "metadata": {},
          "execution_count": 80
        }
      ]
    },
    {
      "cell_type": "markdown",
      "metadata": {
        "id": "8zNYrmFbD1A9"
      },
      "source": [
        "\\# 4.3 Definindo funções que retornam valores"
      ]
    },
    {
      "cell_type": "markdown",
      "metadata": {
        "id": "J44K-dMOD1A9"
      },
      "source": [
        "### Funções que retornam um valor\n",
        "\n",
        "#### Formato padrão\n",
        "\n",
        "```\n",
        "def <nome>(<param_1>, <param_2>, ..., <param_n>):\n",
        "    <instruções>\n",
        "    return <resultado>\n",
        "```"
      ]
    },
    {
      "cell_type": "code",
      "metadata": {
        "id": "-UG42RQJD1A9"
      },
      "source": [
        "def media(lista):\n",
        "  valor = sum(lista)/ len(lista)\n",
        "  return valor "
      ],
      "execution_count": null,
      "outputs": []
    },
    {
      "cell_type": "code",
      "metadata": {
        "id": "VJwdvoT5D1A-"
      },
      "source": [
        "resultado = media([1,2,3,4,5,6,7,8])"
      ],
      "execution_count": null,
      "outputs": []
    },
    {
      "cell_type": "code",
      "metadata": {
        "id": "AgAeJkpND1A-",
        "colab": {
          "base_uri": "https://localhost:8080/"
        },
        "outputId": "950662fc-e852-4681-f749-cfc54d127a6a"
      },
      "source": [
        "resultado"
      ],
      "execution_count": null,
      "outputs": [
        {
          "output_type": "execute_result",
          "data": {
            "text/plain": [
              "4.5"
            ]
          },
          "metadata": {},
          "execution_count": 9
        }
      ]
    },
    {
      "cell_type": "code",
      "metadata": {
        "id": "_r616TevD1A_"
      },
      "source": [
        ""
      ],
      "execution_count": null,
      "outputs": []
    },
    {
      "cell_type": "markdown",
      "metadata": {
        "id": "MQaK8GV5D1BA"
      },
      "source": [
        "### Funções que retornam mais de um valor\n",
        "\n",
        "#### Formato padrão\n",
        "\n",
        "```\n",
        "def <nome>(<param_1>, <param_2>, ..., <param_n>):\n",
        "    <instruções>\n",
        "    return (<resultado_1>, <resultado_2>, ..., <resultado_n>)\n",
        "```"
      ]
    },
    {
      "cell_type": "code",
      "metadata": {
        "id": "v0PUMegVD1BA"
      },
      "source": [
        "def media(lista):\n",
        "  valor = sum(lista) / len(lista)\n",
        "  return (valor,len(lista))"
      ],
      "execution_count": null,
      "outputs": []
    },
    {
      "cell_type": "code",
      "metadata": {
        "id": "Ys-etom8D1BA",
        "colab": {
          "base_uri": "https://localhost:8080/"
        },
        "outputId": "83ba31f6-5253-4ac7-aab0-4cf16c8b4cea"
      },
      "source": [
        "resultado = media([1,2,3,4,5,6,7,8,9])\n",
        "resultado"
      ],
      "execution_count": null,
      "outputs": [
        {
          "output_type": "execute_result",
          "data": {
            "text/plain": [
              "(5.0, 9)"
            ]
          },
          "metadata": {},
          "execution_count": 12
        }
      ]
    },
    {
      "cell_type": "code",
      "metadata": {
        "id": "LERrvkMHD1BC",
        "colab": {
          "base_uri": "https://localhost:8080/"
        },
        "outputId": "727a8c1a-e47f-4005-e108-929c76ccdf54"
      },
      "source": [
        "resultado, n = media([1,2,3,4,5,6,7,8,9])\n",
        "resultado"
      ],
      "execution_count": null,
      "outputs": [
        {
          "output_type": "execute_result",
          "data": {
            "text/plain": [
              "5.0"
            ]
          },
          "metadata": {},
          "execution_count": 13
        }
      ]
    },
    {
      "cell_type": "code",
      "metadata": {
        "id": "sqoFOWSsD1BC",
        "colab": {
          "base_uri": "https://localhost:8080/"
        },
        "outputId": "20b804ac-f10c-4b39-8ff4-ab8ff7a21bc3"
      },
      "source": [
        "n"
      ],
      "execution_count": null,
      "outputs": [
        {
          "output_type": "execute_result",
          "data": {
            "text/plain": [
              "9"
            ]
          },
          "metadata": {},
          "execution_count": 14
        }
      ]
    },
    {
      "cell_type": "code",
      "metadata": {
        "id": "NdB_Jyw_D1BD",
        "colab": {
          "base_uri": "https://localhost:8080/"
        },
        "outputId": "fba98965-ad04-4ed1-a170-3c9c6d1bca27"
      },
      "source": [
        "# Exercícios\n",
        "dados = {\n",
        "    'Crossfox': {'km': 35000, 'ano': 2005}, \n",
        "    'DS5': {'km': 17000, 'ano': 2015}, \n",
        "    'Fusca': {'km': 130000, 'ano': 1979}, \n",
        "    'Jetta': {'km': 56000, 'ano': 2011}, \n",
        "    'Passat': {'km': 62000, 'ano': 1999}\n",
        "}\n",
        "\n",
        "def km_media(dataset, ano_atual):\n",
        "    result = {}\n",
        "    for item in dataset.items():\n",
        "        media = item[1]['km'] / (ano_atual - item[1]['ano'])\n",
        "        result.update({item[0]: media})\n",
        "    return result\n",
        "\n",
        "km_media(dados, 2020)"
      ],
      "execution_count": null,
      "outputs": [
        {
          "output_type": "execute_result",
          "data": {
            "text/plain": [
              "{'Crossfox': 2333.3333333333335,\n",
              " 'DS5': 3400.0,\n",
              " 'Fusca': 3170.731707317073,\n",
              " 'Jetta': 6222.222222222223,\n",
              " 'Passat': 2952.3809523809523}"
            ]
          },
          "metadata": {},
          "execution_count": 16
        }
      ]
    },
    {
      "cell_type": "code",
      "metadata": {
        "colab": {
          "base_uri": "https://localhost:8080/"
        },
        "id": "5xIx5aovDKxh",
        "outputId": "492ad5f9-3105-46e2-ca85-2224d4211372"
      },
      "source": [
        "# Exercício 2\n",
        "dados = {\n",
        "    'Crossfox': {'km': 35000, 'ano': 2005}, \n",
        "    'DS5': {'km': 17000, 'ano': 2015}, \n",
        "    'Fusca': {'km': 130000, 'ano': 1979}, \n",
        "    'Jetta': {'km': 56000, 'ano': 2011}, \n",
        "    'Passat': {'km': 62000, 'ano': 1999}\n",
        "}\n",
        "\n",
        "def km_media(dataset, ano_atual):\n",
        "    result = {}\n",
        "    for item in dataset.items():\n",
        "        media = item[1]['km'] / (ano_atual - item[1]['ano'])\n",
        "        item[1].update({ 'km_media': media })\n",
        "        result.update({ item[0]: item })\n",
        "    return result\n",
        "\n",
        "km_media(dados, 2019)"
      ],
      "execution_count": null,
      "outputs": [
        {
          "output_type": "execute_result",
          "data": {
            "text/plain": [
              "{'Crossfox': ('Crossfox', {'ano': 2005, 'km': 35000, 'km_media': 2500.0}),\n",
              " 'DS5': ('DS5', {'ano': 2015, 'km': 17000, 'km_media': 4250.0}),\n",
              " 'Fusca': ('Fusca', {'ano': 1979, 'km': 130000, 'km_media': 3250.0}),\n",
              " 'Jetta': ('Jetta', {'ano': 2011, 'km': 56000, 'km_media': 7000.0}),\n",
              " 'Passat': ('Passat', {'ano': 1999, 'km': 62000, 'km_media': 3100.0})}"
            ]
          },
          "metadata": {},
          "execution_count": 20
        }
      ]
    },
    {
      "cell_type": "markdown",
      "metadata": {
        "id": "uQ5lNnKrD1BD"
      },
      "source": [
        "# <font color=green> 5. PANDAS BÁSICO\n",
        "---\n",
        "\n",
        "**versão: 0.25.2**\n",
        "  \n",
        "Pandas é uma ferramenta de manipulação de dados de alto nível, construída com base no pacote Numpy. O pacote pandas possui estruturas de dados bastante interessantes para manipulação de dados e por isso é muito utilizado por cientistas de dados.\n",
        "\n",
        "\n",
        "## Estruturas de Dados\n",
        "\n",
        "### Series\n",
        "\n",
        "Series são arrays unidimensionais rotulados capazes de armazenar qualquer tipo de dado. Os rótulos das linhas são chamados de **index**. A forma básica de criação de uma Series é a seguinte:\n",
        "\n",
        "\n",
        "```\n",
        "    s = pd.Series(dados, index = index)\n",
        "```\n",
        "\n",
        "O argumento *dados* pode ser um dicionário, uma lista, um array Numpy ou uma constante.\n",
        "\n",
        "### DataFrames\n",
        "\n",
        "DataFrame é uma estrutura de dados tabular bidimensional com rótulos nas linha e colunas. Como a Series, os DataFrames são capazes de armazenar qualquer tipo de dados.\n",
        "\n",
        "\n",
        "```\n",
        "    df = pd.DataFrame(dados, index = index, columns = columns)\n",
        "```\n",
        "\n",
        "O argumento *dados* pode ser um dicionário, uma lista, um array Numpy, uma Series e outro DataFrame.\n",
        "\n",
        "**Documentação:** https://pandas.pydata.org/pandas-docs/version/0.25/"
      ]
    },
    {
      "cell_type": "markdown",
      "metadata": {
        "id": "2qa7RC03D1BD"
      },
      "source": [
        "# 5.1 Estruturas de dados"
      ]
    },
    {
      "cell_type": "code",
      "metadata": {
        "id": "4QyFDeS4D1BD"
      },
      "source": [
        "import pandas as pd"
      ],
      "execution_count": null,
      "outputs": []
    },
    {
      "cell_type": "markdown",
      "metadata": {
        "id": "kIey8_OcD1BF"
      },
      "source": [
        "### Criando uma Series a partir de uma lista"
      ]
    },
    {
      "cell_type": "code",
      "metadata": {
        "id": "yEZR6DWiD1BF",
        "colab": {
          "base_uri": "https://localhost:8080/"
        },
        "outputId": "5d87b5a9-d369-4f29-e5d9-c20183546861"
      },
      "source": [
        "carros = [ 'Jetta Variant', 'Passat', 'Crossfox']\n",
        "carros"
      ],
      "execution_count": null,
      "outputs": [
        {
          "output_type": "execute_result",
          "data": {
            "text/plain": [
              "['Jetta Variant', 'Passat', 'Crossfox']"
            ]
          },
          "metadata": {},
          "execution_count": 2
        }
      ]
    },
    {
      "cell_type": "code",
      "metadata": {
        "id": "rLudWKZ_D1BF",
        "colab": {
          "base_uri": "https://localhost:8080/"
        },
        "outputId": "065295a0-baf6-44a5-db8c-fe4a344d75f6"
      },
      "source": [
        "s = pd.Series(carros)\n",
        "s"
      ],
      "execution_count": null,
      "outputs": [
        {
          "output_type": "execute_result",
          "data": {
            "text/plain": [
              "0    Jetta Variant\n",
              "1           Passat\n",
              "2         Crossfox\n",
              "dtype: object"
            ]
          },
          "metadata": {},
          "execution_count": 5
        }
      ]
    },
    {
      "cell_type": "markdown",
      "metadata": {
        "id": "VYVIKd1-D1BG"
      },
      "source": [
        "### Criando um DataFrame a partir de uma lista de dicionários"
      ]
    },
    {
      "cell_type": "code",
      "metadata": {
        "id": "QFNS9PckD1BG"
      },
      "source": [
        "dados = [\n",
        "    {'Nome': 'Jetta Variant', 'Motor': 'Motor 4.0 Turbo', 'Ano': 2003, 'Quilometragem': 44410.0, 'Zero_km': False, 'Valor': 88078.64},\n",
        "    {'Nome': 'Passat', 'Motor': 'Motor Diesel', 'Ano': 1991, 'Quilometragem': 5712.0, 'Zero_km': False, 'Valor': 106161.94},\n",
        "    {'Nome': 'Crossfox', 'Motor': 'Motor Diesel V8', 'Ano': 1990, 'Quilometragem': 37123.0, 'Zero_km': False, 'Valor': 72832.16}\n",
        "]"
      ],
      "execution_count": null,
      "outputs": []
    },
    {
      "cell_type": "code",
      "metadata": {
        "id": "WDQb9AnKD1BH",
        "colab": {
          "base_uri": "https://localhost:8080/",
          "height": 142
        },
        "outputId": "b096ef6c-9bff-4722-a673-1e913acb31ca"
      },
      "source": [
        "dataset = pd.DataFrame(dados)\n",
        "dataset"
      ],
      "execution_count": null,
      "outputs": [
        {
          "output_type": "execute_result",
          "data": {
            "text/html": [
              "<div>\n",
              "<style scoped>\n",
              "    .dataframe tbody tr th:only-of-type {\n",
              "        vertical-align: middle;\n",
              "    }\n",
              "\n",
              "    .dataframe tbody tr th {\n",
              "        vertical-align: top;\n",
              "    }\n",
              "\n",
              "    .dataframe thead th {\n",
              "        text-align: right;\n",
              "    }\n",
              "</style>\n",
              "<table border=\"1\" class=\"dataframe\">\n",
              "  <thead>\n",
              "    <tr style=\"text-align: right;\">\n",
              "      <th></th>\n",
              "      <th>Nome</th>\n",
              "      <th>Motor</th>\n",
              "      <th>Ano</th>\n",
              "      <th>Quilometragem</th>\n",
              "      <th>Zero_km</th>\n",
              "      <th>Valor</th>\n",
              "    </tr>\n",
              "  </thead>\n",
              "  <tbody>\n",
              "    <tr>\n",
              "      <th>0</th>\n",
              "      <td>Jetta Variant</td>\n",
              "      <td>Motor 4.0 Turbo</td>\n",
              "      <td>2003</td>\n",
              "      <td>44410.0</td>\n",
              "      <td>False</td>\n",
              "      <td>88078.64</td>\n",
              "    </tr>\n",
              "    <tr>\n",
              "      <th>1</th>\n",
              "      <td>Passat</td>\n",
              "      <td>Motor Diesel</td>\n",
              "      <td>1991</td>\n",
              "      <td>5712.0</td>\n",
              "      <td>False</td>\n",
              "      <td>106161.94</td>\n",
              "    </tr>\n",
              "    <tr>\n",
              "      <th>2</th>\n",
              "      <td>Crossfox</td>\n",
              "      <td>Motor Diesel V8</td>\n",
              "      <td>1990</td>\n",
              "      <td>37123.0</td>\n",
              "      <td>False</td>\n",
              "      <td>72832.16</td>\n",
              "    </tr>\n",
              "  </tbody>\n",
              "</table>\n",
              "</div>"
            ],
            "text/plain": [
              "            Nome            Motor   Ano  Quilometragem  Zero_km      Valor\n",
              "0  Jetta Variant  Motor 4.0 Turbo  2003        44410.0    False   88078.64\n",
              "1         Passat     Motor Diesel  1991         5712.0    False  106161.94\n",
              "2       Crossfox  Motor Diesel V8  1990        37123.0    False   72832.16"
            ]
          },
          "metadata": {},
          "execution_count": 8
        }
      ]
    },
    {
      "cell_type": "code",
      "metadata": {
        "id": "-2-jGvmGD1BI",
        "colab": {
          "base_uri": "https://localhost:8080/",
          "height": 142
        },
        "outputId": "a3c270b5-12e8-4827-e160-c02ee983f735"
      },
      "source": [
        "# Modificando a ordem das colunas\n",
        "dataset[['Nome','Motor','Ano','Quilometragem', 'Zero_km', 'Valor']]"
      ],
      "execution_count": null,
      "outputs": [
        {
          "output_type": "execute_result",
          "data": {
            "text/html": [
              "<div>\n",
              "<style scoped>\n",
              "    .dataframe tbody tr th:only-of-type {\n",
              "        vertical-align: middle;\n",
              "    }\n",
              "\n",
              "    .dataframe tbody tr th {\n",
              "        vertical-align: top;\n",
              "    }\n",
              "\n",
              "    .dataframe thead th {\n",
              "        text-align: right;\n",
              "    }\n",
              "</style>\n",
              "<table border=\"1\" class=\"dataframe\">\n",
              "  <thead>\n",
              "    <tr style=\"text-align: right;\">\n",
              "      <th></th>\n",
              "      <th>Nome</th>\n",
              "      <th>Motor</th>\n",
              "      <th>Ano</th>\n",
              "      <th>Quilometragem</th>\n",
              "      <th>Zero_km</th>\n",
              "      <th>Valor</th>\n",
              "    </tr>\n",
              "  </thead>\n",
              "  <tbody>\n",
              "    <tr>\n",
              "      <th>0</th>\n",
              "      <td>Jetta Variant</td>\n",
              "      <td>Motor 4.0 Turbo</td>\n",
              "      <td>2003</td>\n",
              "      <td>44410.0</td>\n",
              "      <td>False</td>\n",
              "      <td>88078.64</td>\n",
              "    </tr>\n",
              "    <tr>\n",
              "      <th>1</th>\n",
              "      <td>Passat</td>\n",
              "      <td>Motor Diesel</td>\n",
              "      <td>1991</td>\n",
              "      <td>5712.0</td>\n",
              "      <td>False</td>\n",
              "      <td>106161.94</td>\n",
              "    </tr>\n",
              "    <tr>\n",
              "      <th>2</th>\n",
              "      <td>Crossfox</td>\n",
              "      <td>Motor Diesel V8</td>\n",
              "      <td>1990</td>\n",
              "      <td>37123.0</td>\n",
              "      <td>False</td>\n",
              "      <td>72832.16</td>\n",
              "    </tr>\n",
              "  </tbody>\n",
              "</table>\n",
              "</div>"
            ],
            "text/plain": [
              "            Nome            Motor   Ano  Quilometragem  Zero_km      Valor\n",
              "0  Jetta Variant  Motor 4.0 Turbo  2003        44410.0    False   88078.64\n",
              "1         Passat     Motor Diesel  1991         5712.0    False  106161.94\n",
              "2       Crossfox  Motor Diesel V8  1990        37123.0    False   72832.16"
            ]
          },
          "metadata": {},
          "execution_count": 9
        }
      ]
    },
    {
      "cell_type": "code",
      "metadata": {
        "id": "2kbyOThiD1BJ"
      },
      "source": [
        ""
      ],
      "execution_count": null,
      "outputs": []
    },
    {
      "cell_type": "markdown",
      "metadata": {
        "id": "pJK2tQgYD1BK"
      },
      "source": [
        "### Criando um DataFrame a partir de um dicionário"
      ]
    },
    {
      "cell_type": "code",
      "metadata": {
        "id": "WKNQwKucD1BK"
      },
      "source": [
        "dados = {\n",
        "    'Nome': ['Jetta Variant', 'Passat', 'Crossfox'], \n",
        "    'Motor': ['Motor 4.0 Turbo', 'Motor Diesel', 'Motor Diesel V8'],\n",
        "    'Ano': [2003, 1991, 1990],\n",
        "    'Quilometragem': [44410.0, 5712.0, 37123.0],\n",
        "    'Zero_km': [False, False, False],\n",
        "    'Valor': [88078.64, 106161.94, 72832.16]\n",
        "}"
      ],
      "execution_count": null,
      "outputs": []
    },
    {
      "cell_type": "code",
      "metadata": {
        "id": "lKnuZfzcD1BK"
      },
      "source": [
        "dataset = pd.DataFrame(dados)"
      ],
      "execution_count": null,
      "outputs": []
    },
    {
      "cell_type": "code",
      "metadata": {
        "id": "PNqTytC-D1BL",
        "colab": {
          "base_uri": "https://localhost:8080/",
          "height": 142
        },
        "outputId": "78ed7020-7c35-4c31-b9ea-776f24d88163"
      },
      "source": [
        "dataset"
      ],
      "execution_count": null,
      "outputs": [
        {
          "output_type": "execute_result",
          "data": {
            "text/html": [
              "<div>\n",
              "<style scoped>\n",
              "    .dataframe tbody tr th:only-of-type {\n",
              "        vertical-align: middle;\n",
              "    }\n",
              "\n",
              "    .dataframe tbody tr th {\n",
              "        vertical-align: top;\n",
              "    }\n",
              "\n",
              "    .dataframe thead th {\n",
              "        text-align: right;\n",
              "    }\n",
              "</style>\n",
              "<table border=\"1\" class=\"dataframe\">\n",
              "  <thead>\n",
              "    <tr style=\"text-align: right;\">\n",
              "      <th></th>\n",
              "      <th>Nome</th>\n",
              "      <th>Motor</th>\n",
              "      <th>Ano</th>\n",
              "      <th>Quilometragem</th>\n",
              "      <th>Zero_km</th>\n",
              "      <th>Valor</th>\n",
              "    </tr>\n",
              "  </thead>\n",
              "  <tbody>\n",
              "    <tr>\n",
              "      <th>0</th>\n",
              "      <td>Jetta Variant</td>\n",
              "      <td>Motor 4.0 Turbo</td>\n",
              "      <td>2003</td>\n",
              "      <td>44410.0</td>\n",
              "      <td>False</td>\n",
              "      <td>88078.64</td>\n",
              "    </tr>\n",
              "    <tr>\n",
              "      <th>1</th>\n",
              "      <td>Passat</td>\n",
              "      <td>Motor Diesel</td>\n",
              "      <td>1991</td>\n",
              "      <td>5712.0</td>\n",
              "      <td>False</td>\n",
              "      <td>106161.94</td>\n",
              "    </tr>\n",
              "    <tr>\n",
              "      <th>2</th>\n",
              "      <td>Crossfox</td>\n",
              "      <td>Motor Diesel V8</td>\n",
              "      <td>1990</td>\n",
              "      <td>37123.0</td>\n",
              "      <td>False</td>\n",
              "      <td>72832.16</td>\n",
              "    </tr>\n",
              "  </tbody>\n",
              "</table>\n",
              "</div>"
            ],
            "text/plain": [
              "            Nome            Motor   Ano  Quilometragem  Zero_km      Valor\n",
              "0  Jetta Variant  Motor 4.0 Turbo  2003        44410.0    False   88078.64\n",
              "1         Passat     Motor Diesel  1991         5712.0    False  106161.94\n",
              "2       Crossfox  Motor Diesel V8  1990        37123.0    False   72832.16"
            ]
          },
          "metadata": {},
          "execution_count": 12
        }
      ]
    },
    {
      "cell_type": "markdown",
      "metadata": {
        "id": "fCCXs0reD1BL"
      },
      "source": [
        "### Criando um DataFrame a partir de uma arquivo externo"
      ]
    },
    {
      "cell_type": "code",
      "metadata": {
        "id": "78PRHGeZD1BL"
      },
      "source": [
        "import pandas as pd\n",
        "# Quando retira o index da coluna, a coluna 1 começa a ser a indexação\n",
        "# Caso contrário, aparecerá os números.\n",
        "dataset = pd.read_csv('db.csv', sep = ';', index_col = 0)"
      ],
      "execution_count": null,
      "outputs": []
    },
    {
      "cell_type": "code",
      "metadata": {
        "scrolled": true,
        "id": "1o1YlnVPD1BM",
        "colab": {
          "base_uri": "https://localhost:8080/",
          "height": 450
        },
        "outputId": "b50baa86-1357-4cb0-de1d-b06284c3c70f"
      },
      "source": [
        "dataset"
      ],
      "execution_count": null,
      "outputs": [
        {
          "output_type": "execute_result",
          "data": {
            "text/html": [
              "<div>\n",
              "<style scoped>\n",
              "    .dataframe tbody tr th:only-of-type {\n",
              "        vertical-align: middle;\n",
              "    }\n",
              "\n",
              "    .dataframe tbody tr th {\n",
              "        vertical-align: top;\n",
              "    }\n",
              "\n",
              "    .dataframe thead th {\n",
              "        text-align: right;\n",
              "    }\n",
              "</style>\n",
              "<table border=\"1\" class=\"dataframe\">\n",
              "  <thead>\n",
              "    <tr style=\"text-align: right;\">\n",
              "      <th></th>\n",
              "      <th>Motor</th>\n",
              "      <th>Ano</th>\n",
              "      <th>Quilometragem</th>\n",
              "      <th>Zero_km</th>\n",
              "      <th>Acessórios</th>\n",
              "      <th>Valor</th>\n",
              "    </tr>\n",
              "    <tr>\n",
              "      <th>Nome</th>\n",
              "      <th></th>\n",
              "      <th></th>\n",
              "      <th></th>\n",
              "      <th></th>\n",
              "      <th></th>\n",
              "      <th></th>\n",
              "    </tr>\n",
              "  </thead>\n",
              "  <tbody>\n",
              "    <tr>\n",
              "      <th>Jetta Variant</th>\n",
              "      <td>Motor 4.0 Turbo</td>\n",
              "      <td>2003</td>\n",
              "      <td>44410.0</td>\n",
              "      <td>False</td>\n",
              "      <td>['Rodas de liga', 'Travas elétricas', 'Piloto ...</td>\n",
              "      <td>88078.64</td>\n",
              "    </tr>\n",
              "    <tr>\n",
              "      <th>Passat</th>\n",
              "      <td>Motor Diesel</td>\n",
              "      <td>1991</td>\n",
              "      <td>5712.0</td>\n",
              "      <td>False</td>\n",
              "      <td>['Central multimídia', 'Teto panorâmico', 'Fre...</td>\n",
              "      <td>106161.94</td>\n",
              "    </tr>\n",
              "    <tr>\n",
              "      <th>Crossfox</th>\n",
              "      <td>Motor Diesel V8</td>\n",
              "      <td>1990</td>\n",
              "      <td>37123.0</td>\n",
              "      <td>False</td>\n",
              "      <td>['Piloto automático', 'Controle de estabilidad...</td>\n",
              "      <td>72832.16</td>\n",
              "    </tr>\n",
              "    <tr>\n",
              "      <th>DS5</th>\n",
              "      <td>Motor 2.4 Turbo</td>\n",
              "      <td>2019</td>\n",
              "      <td>NaN</td>\n",
              "      <td>True</td>\n",
              "      <td>['Travas elétricas', '4 X 4', 'Vidros elétrico...</td>\n",
              "      <td>124549.07</td>\n",
              "    </tr>\n",
              "    <tr>\n",
              "      <th>Aston Martin DB4</th>\n",
              "      <td>Motor 2.4 Turbo</td>\n",
              "      <td>2006</td>\n",
              "      <td>25757.0</td>\n",
              "      <td>False</td>\n",
              "      <td>['Rodas de liga', '4 X 4', 'Central multimídia...</td>\n",
              "      <td>92612.10</td>\n",
              "    </tr>\n",
              "    <tr>\n",
              "      <th>...</th>\n",
              "      <td>...</td>\n",
              "      <td>...</td>\n",
              "      <td>...</td>\n",
              "      <td>...</td>\n",
              "      <td>...</td>\n",
              "      <td>...</td>\n",
              "    </tr>\n",
              "    <tr>\n",
              "      <th>Phantom 2013</th>\n",
              "      <td>Motor V8</td>\n",
              "      <td>2014</td>\n",
              "      <td>27505.0</td>\n",
              "      <td>False</td>\n",
              "      <td>['Controle de estabilidade', 'Piloto automátic...</td>\n",
              "      <td>51759.58</td>\n",
              "    </tr>\n",
              "    <tr>\n",
              "      <th>Cadillac Ciel concept</th>\n",
              "      <td>Motor V8</td>\n",
              "      <td>1991</td>\n",
              "      <td>29981.0</td>\n",
              "      <td>False</td>\n",
              "      <td>['Bancos de couro', 'Painel digital', 'Sensor ...</td>\n",
              "      <td>51667.06</td>\n",
              "    </tr>\n",
              "    <tr>\n",
              "      <th>Classe GLK</th>\n",
              "      <td>Motor 5.0 V8 Bi-Turbo</td>\n",
              "      <td>2002</td>\n",
              "      <td>52637.0</td>\n",
              "      <td>False</td>\n",
              "      <td>['Rodas de liga', 'Controle de tração', 'Câmbi...</td>\n",
              "      <td>68934.03</td>\n",
              "    </tr>\n",
              "    <tr>\n",
              "      <th>Aston Martin DB5</th>\n",
              "      <td>Motor Diesel</td>\n",
              "      <td>1996</td>\n",
              "      <td>7685.0</td>\n",
              "      <td>False</td>\n",
              "      <td>['Ar condicionado', '4 X 4', 'Câmbio automátic...</td>\n",
              "      <td>122110.90</td>\n",
              "    </tr>\n",
              "    <tr>\n",
              "      <th>Macan</th>\n",
              "      <td>Motor Diesel V6</td>\n",
              "      <td>1992</td>\n",
              "      <td>50188.0</td>\n",
              "      <td>False</td>\n",
              "      <td>['Central multimídia', 'Teto panorâmico', 'Vid...</td>\n",
              "      <td>90381.47</td>\n",
              "    </tr>\n",
              "  </tbody>\n",
              "</table>\n",
              "<p>258 rows × 6 columns</p>\n",
              "</div>"
            ],
            "text/plain": [
              "                                       Motor  ...      Valor\n",
              "Nome                                          ...           \n",
              "Jetta Variant                Motor 4.0 Turbo  ...   88078.64\n",
              "Passat                          Motor Diesel  ...  106161.94\n",
              "Crossfox                     Motor Diesel V8  ...   72832.16\n",
              "DS5                          Motor 2.4 Turbo  ...  124549.07\n",
              "Aston Martin DB4             Motor 2.4 Turbo  ...   92612.10\n",
              "...                                      ...  ...        ...\n",
              "Phantom 2013                        Motor V8  ...   51759.58\n",
              "Cadillac Ciel concept               Motor V8  ...   51667.06\n",
              "Classe GLK             Motor 5.0 V8 Bi-Turbo  ...   68934.03\n",
              "Aston Martin DB5                Motor Diesel  ...  122110.90\n",
              "Macan                        Motor Diesel V6  ...   90381.47\n",
              "\n",
              "[258 rows x 6 columns]"
            ]
          },
          "metadata": {},
          "execution_count": 5
        }
      ]
    },
    {
      "cell_type": "code",
      "metadata": {
        "id": "vCjy4zAVCPft"
      },
      "source": [
        "# Exercício\n",
        "dados = {\n",
        "    'Crossfox': {'km': 35000, 'ano': 2005}, \n",
        "    'DS5': {'km': 17000, 'ano': 2015}, \n",
        "    'Fusca': {'km': 130000, 'ano': 1979}, \n",
        "    'Jetta': {'km': 56000, 'ano': 2011}, \n",
        "    'Passat': {'km': 62000, 'ano': 1999}\n",
        "}\n",
        "\n",
        "\n",
        "def km_media(dataset, ano_atual):\n",
        "    result = {}\n",
        "    for item in dataset.items():\n",
        "        media = item[1]['km'] / (ano_atual - item[1]['ano'])\n",
        "        item[1].update({ 'km_media': media })\n",
        "        result.update({ item[0]: item[1] })\n",
        "\n",
        "    return result\n"
      ],
      "execution_count": null,
      "outputs": []
    },
    {
      "cell_type": "code",
      "metadata": {
        "colab": {
          "base_uri": "https://localhost:8080/",
          "height": 204
        },
        "id": "Rx0v2mAGCkXz",
        "outputId": "4c4330f3-6206-4e2a-d3c5-2d6cbb652eac"
      },
      "source": [
        "# T converte linha em coluna\n",
        "carros = pd.DataFrame(km_media(dados, 2019)).T\n",
        "carros"
      ],
      "execution_count": null,
      "outputs": [
        {
          "output_type": "execute_result",
          "data": {
            "text/html": [
              "<div>\n",
              "<style scoped>\n",
              "    .dataframe tbody tr th:only-of-type {\n",
              "        vertical-align: middle;\n",
              "    }\n",
              "\n",
              "    .dataframe tbody tr th {\n",
              "        vertical-align: top;\n",
              "    }\n",
              "\n",
              "    .dataframe thead th {\n",
              "        text-align: right;\n",
              "    }\n",
              "</style>\n",
              "<table border=\"1\" class=\"dataframe\">\n",
              "  <thead>\n",
              "    <tr style=\"text-align: right;\">\n",
              "      <th></th>\n",
              "      <th>km</th>\n",
              "      <th>ano</th>\n",
              "      <th>km_media</th>\n",
              "    </tr>\n",
              "  </thead>\n",
              "  <tbody>\n",
              "    <tr>\n",
              "      <th>Crossfox</th>\n",
              "      <td>35000.0</td>\n",
              "      <td>2005.0</td>\n",
              "      <td>2500.0</td>\n",
              "    </tr>\n",
              "    <tr>\n",
              "      <th>DS5</th>\n",
              "      <td>17000.0</td>\n",
              "      <td>2015.0</td>\n",
              "      <td>4250.0</td>\n",
              "    </tr>\n",
              "    <tr>\n",
              "      <th>Fusca</th>\n",
              "      <td>130000.0</td>\n",
              "      <td>1979.0</td>\n",
              "      <td>3250.0</td>\n",
              "    </tr>\n",
              "    <tr>\n",
              "      <th>Jetta</th>\n",
              "      <td>56000.0</td>\n",
              "      <td>2011.0</td>\n",
              "      <td>7000.0</td>\n",
              "    </tr>\n",
              "    <tr>\n",
              "      <th>Passat</th>\n",
              "      <td>62000.0</td>\n",
              "      <td>1999.0</td>\n",
              "      <td>3100.0</td>\n",
              "    </tr>\n",
              "  </tbody>\n",
              "</table>\n",
              "</div>"
            ],
            "text/plain": [
              "                km     ano  km_media\n",
              "Crossfox   35000.0  2005.0    2500.0\n",
              "DS5        17000.0  2015.0    4250.0\n",
              "Fusca     130000.0  1979.0    3250.0\n",
              "Jetta      56000.0  2011.0    7000.0\n",
              "Passat     62000.0  1999.0    3100.0"
            ]
          },
          "metadata": {},
          "execution_count": 23
        }
      ]
    },
    {
      "cell_type": "markdown",
      "metadata": {
        "id": "y5V-1AK-D1BN"
      },
      "source": [
        "# 5.2 Seleções com DataFrames"
      ]
    },
    {
      "cell_type": "markdown",
      "metadata": {
        "id": "wZjqlHe9D1BN"
      },
      "source": [
        "### Selecionando colunas"
      ]
    },
    {
      "cell_type": "code",
      "metadata": {
        "scrolled": true,
        "id": "gM3LbtzlD1BN",
        "colab": {
          "base_uri": "https://localhost:8080/",
          "height": 235
        },
        "outputId": "8da74a79-7806-4446-a6ec-30cc81acdf8e"
      },
      "source": [
        "dataset.head()"
      ],
      "execution_count": null,
      "outputs": [
        {
          "output_type": "execute_result",
          "data": {
            "text/html": [
              "<div>\n",
              "<style scoped>\n",
              "    .dataframe tbody tr th:only-of-type {\n",
              "        vertical-align: middle;\n",
              "    }\n",
              "\n",
              "    .dataframe tbody tr th {\n",
              "        vertical-align: top;\n",
              "    }\n",
              "\n",
              "    .dataframe thead th {\n",
              "        text-align: right;\n",
              "    }\n",
              "</style>\n",
              "<table border=\"1\" class=\"dataframe\">\n",
              "  <thead>\n",
              "    <tr style=\"text-align: right;\">\n",
              "      <th></th>\n",
              "      <th>Motor</th>\n",
              "      <th>Ano</th>\n",
              "      <th>Quilometragem</th>\n",
              "      <th>Zero_km</th>\n",
              "      <th>Acessórios</th>\n",
              "      <th>Valor</th>\n",
              "    </tr>\n",
              "    <tr>\n",
              "      <th>Nome</th>\n",
              "      <th></th>\n",
              "      <th></th>\n",
              "      <th></th>\n",
              "      <th></th>\n",
              "      <th></th>\n",
              "      <th></th>\n",
              "    </tr>\n",
              "  </thead>\n",
              "  <tbody>\n",
              "    <tr>\n",
              "      <th>Jetta Variant</th>\n",
              "      <td>Motor 4.0 Turbo</td>\n",
              "      <td>2003</td>\n",
              "      <td>44410.0</td>\n",
              "      <td>False</td>\n",
              "      <td>['Rodas de liga', 'Travas elétricas', 'Piloto ...</td>\n",
              "      <td>88078.64</td>\n",
              "    </tr>\n",
              "    <tr>\n",
              "      <th>Passat</th>\n",
              "      <td>Motor Diesel</td>\n",
              "      <td>1991</td>\n",
              "      <td>5712.0</td>\n",
              "      <td>False</td>\n",
              "      <td>['Central multimídia', 'Teto panorâmico', 'Fre...</td>\n",
              "      <td>106161.94</td>\n",
              "    </tr>\n",
              "    <tr>\n",
              "      <th>Crossfox</th>\n",
              "      <td>Motor Diesel V8</td>\n",
              "      <td>1990</td>\n",
              "      <td>37123.0</td>\n",
              "      <td>False</td>\n",
              "      <td>['Piloto automático', 'Controle de estabilidad...</td>\n",
              "      <td>72832.16</td>\n",
              "    </tr>\n",
              "    <tr>\n",
              "      <th>DS5</th>\n",
              "      <td>Motor 2.4 Turbo</td>\n",
              "      <td>2019</td>\n",
              "      <td>NaN</td>\n",
              "      <td>True</td>\n",
              "      <td>['Travas elétricas', '4 X 4', 'Vidros elétrico...</td>\n",
              "      <td>124549.07</td>\n",
              "    </tr>\n",
              "    <tr>\n",
              "      <th>Aston Martin DB4</th>\n",
              "      <td>Motor 2.4 Turbo</td>\n",
              "      <td>2006</td>\n",
              "      <td>25757.0</td>\n",
              "      <td>False</td>\n",
              "      <td>['Rodas de liga', '4 X 4', 'Central multimídia...</td>\n",
              "      <td>92612.10</td>\n",
              "    </tr>\n",
              "  </tbody>\n",
              "</table>\n",
              "</div>"
            ],
            "text/plain": [
              "                            Motor  ...      Valor\n",
              "Nome                               ...           \n",
              "Jetta Variant     Motor 4.0 Turbo  ...   88078.64\n",
              "Passat               Motor Diesel  ...  106161.94\n",
              "Crossfox          Motor Diesel V8  ...   72832.16\n",
              "DS5               Motor 2.4 Turbo  ...  124549.07\n",
              "Aston Martin DB4  Motor 2.4 Turbo  ...   92612.10\n",
              "\n",
              "[5 rows x 6 columns]"
            ]
          },
          "metadata": {},
          "execution_count": 6
        }
      ]
    },
    {
      "cell_type": "code",
      "metadata": {
        "id": "R2FWgCM_D1BO",
        "colab": {
          "base_uri": "https://localhost:8080/"
        },
        "outputId": "25f1f935-b3dc-4d06-c470-354d05f546f2"
      },
      "source": [
        "# Nome está vindo, pois é o index do banco\n",
        "dataset['Valor']"
      ],
      "execution_count": null,
      "outputs": [
        {
          "output_type": "execute_result",
          "data": {
            "text/plain": [
              "Nome\n",
              "Jetta Variant             88078.64\n",
              "Passat                   106161.94\n",
              "Crossfox                  72832.16\n",
              "DS5                      124549.07\n",
              "Aston Martin DB4          92612.10\n",
              "                           ...    \n",
              "Phantom 2013              51759.58\n",
              "Cadillac Ciel concept     51667.06\n",
              "Classe GLK                68934.03\n",
              "Aston Martin DB5         122110.90\n",
              "Macan                     90381.47\n",
              "Name: Valor, Length: 258, dtype: float64"
            ]
          },
          "metadata": {},
          "execution_count": 7
        }
      ]
    },
    {
      "cell_type": "code",
      "metadata": {
        "scrolled": true,
        "id": "lCCumsxsD1BP",
        "colab": {
          "base_uri": "https://localhost:8080/"
        },
        "outputId": "bf21bf90-da25-494b-d074-a0281a4fe085"
      },
      "source": [
        "type(dataset['Valor'])"
      ],
      "execution_count": null,
      "outputs": [
        {
          "output_type": "execute_result",
          "data": {
            "text/plain": [
              "pandas.core.series.Series"
            ]
          },
          "metadata": {},
          "execution_count": 8
        }
      ]
    },
    {
      "cell_type": "code",
      "metadata": {
        "id": "zxlyC3B8D1BP",
        "colab": {
          "base_uri": "https://localhost:8080/",
          "height": 450
        },
        "outputId": "8cc76972-1e2e-4bb6-dc68-727b1d42b1c2"
      },
      "source": [
        "# Quando abre dois conchetes ele retorna um datafram\n",
        "dataset[['Valor']]"
      ],
      "execution_count": null,
      "outputs": [
        {
          "output_type": "execute_result",
          "data": {
            "text/html": [
              "<div>\n",
              "<style scoped>\n",
              "    .dataframe tbody tr th:only-of-type {\n",
              "        vertical-align: middle;\n",
              "    }\n",
              "\n",
              "    .dataframe tbody tr th {\n",
              "        vertical-align: top;\n",
              "    }\n",
              "\n",
              "    .dataframe thead th {\n",
              "        text-align: right;\n",
              "    }\n",
              "</style>\n",
              "<table border=\"1\" class=\"dataframe\">\n",
              "  <thead>\n",
              "    <tr style=\"text-align: right;\">\n",
              "      <th></th>\n",
              "      <th>Valor</th>\n",
              "    </tr>\n",
              "    <tr>\n",
              "      <th>Nome</th>\n",
              "      <th></th>\n",
              "    </tr>\n",
              "  </thead>\n",
              "  <tbody>\n",
              "    <tr>\n",
              "      <th>Jetta Variant</th>\n",
              "      <td>88078.64</td>\n",
              "    </tr>\n",
              "    <tr>\n",
              "      <th>Passat</th>\n",
              "      <td>106161.94</td>\n",
              "    </tr>\n",
              "    <tr>\n",
              "      <th>Crossfox</th>\n",
              "      <td>72832.16</td>\n",
              "    </tr>\n",
              "    <tr>\n",
              "      <th>DS5</th>\n",
              "      <td>124549.07</td>\n",
              "    </tr>\n",
              "    <tr>\n",
              "      <th>Aston Martin DB4</th>\n",
              "      <td>92612.10</td>\n",
              "    </tr>\n",
              "    <tr>\n",
              "      <th>...</th>\n",
              "      <td>...</td>\n",
              "    </tr>\n",
              "    <tr>\n",
              "      <th>Phantom 2013</th>\n",
              "      <td>51759.58</td>\n",
              "    </tr>\n",
              "    <tr>\n",
              "      <th>Cadillac Ciel concept</th>\n",
              "      <td>51667.06</td>\n",
              "    </tr>\n",
              "    <tr>\n",
              "      <th>Classe GLK</th>\n",
              "      <td>68934.03</td>\n",
              "    </tr>\n",
              "    <tr>\n",
              "      <th>Aston Martin DB5</th>\n",
              "      <td>122110.90</td>\n",
              "    </tr>\n",
              "    <tr>\n",
              "      <th>Macan</th>\n",
              "      <td>90381.47</td>\n",
              "    </tr>\n",
              "  </tbody>\n",
              "</table>\n",
              "<p>258 rows × 1 columns</p>\n",
              "</div>"
            ],
            "text/plain": [
              "                           Valor\n",
              "Nome                            \n",
              "Jetta Variant           88078.64\n",
              "Passat                 106161.94\n",
              "Crossfox                72832.16\n",
              "DS5                    124549.07\n",
              "Aston Martin DB4        92612.10\n",
              "...                          ...\n",
              "Phantom 2013            51759.58\n",
              "Cadillac Ciel concept   51667.06\n",
              "Classe GLK              68934.03\n",
              "Aston Martin DB5       122110.90\n",
              "Macan                   90381.47\n",
              "\n",
              "[258 rows x 1 columns]"
            ]
          },
          "metadata": {},
          "execution_count": 9
        }
      ]
    },
    {
      "cell_type": "code",
      "metadata": {
        "colab": {
          "base_uri": "https://localhost:8080/"
        },
        "id": "i4nvhlJcXVcK",
        "outputId": "eec8c103-6744-476a-9c2b-58c4043bf2fe"
      },
      "source": [
        "type(dataset[['Valor']])"
      ],
      "execution_count": null,
      "outputs": [
        {
          "output_type": "execute_result",
          "data": {
            "text/plain": [
              "pandas.core.frame.DataFrame"
            ]
          },
          "metadata": {},
          "execution_count": 12
        }
      ]
    },
    {
      "cell_type": "markdown",
      "metadata": {
        "id": "7RPXPm1XD1BQ"
      },
      "source": [
        "### Selecionando linhas - [ i : j ] \n",
        "\n",
        "<font color=red>**Observação:**</font> A indexação tem origem no zero e nos fatiamentos (*slices*) a linha com índice i é **incluída** e a linha com índice j **não é incluída** no resultado."
      ]
    },
    {
      "cell_type": "code",
      "metadata": {
        "id": "PdDUwPw3D1BQ",
        "colab": {
          "base_uri": "https://localhost:8080/",
          "height": 204
        },
        "outputId": "f081907d-fa0e-4535-9408-90af9f92ff9f"
      },
      "source": [
        "dataset[0:4] #Retorna as 3 primeiras linhas"
      ],
      "execution_count": null,
      "outputs": [
        {
          "output_type": "execute_result",
          "data": {
            "text/html": [
              "<div>\n",
              "<style scoped>\n",
              "    .dataframe tbody tr th:only-of-type {\n",
              "        vertical-align: middle;\n",
              "    }\n",
              "\n",
              "    .dataframe tbody tr th {\n",
              "        vertical-align: top;\n",
              "    }\n",
              "\n",
              "    .dataframe thead th {\n",
              "        text-align: right;\n",
              "    }\n",
              "</style>\n",
              "<table border=\"1\" class=\"dataframe\">\n",
              "  <thead>\n",
              "    <tr style=\"text-align: right;\">\n",
              "      <th></th>\n",
              "      <th>Motor</th>\n",
              "      <th>Ano</th>\n",
              "      <th>Quilometragem</th>\n",
              "      <th>Zero_km</th>\n",
              "      <th>Acessórios</th>\n",
              "      <th>Valor</th>\n",
              "    </tr>\n",
              "    <tr>\n",
              "      <th>Nome</th>\n",
              "      <th></th>\n",
              "      <th></th>\n",
              "      <th></th>\n",
              "      <th></th>\n",
              "      <th></th>\n",
              "      <th></th>\n",
              "    </tr>\n",
              "  </thead>\n",
              "  <tbody>\n",
              "    <tr>\n",
              "      <th>Jetta Variant</th>\n",
              "      <td>Motor 4.0 Turbo</td>\n",
              "      <td>2003</td>\n",
              "      <td>44410.0</td>\n",
              "      <td>False</td>\n",
              "      <td>['Rodas de liga', 'Travas elétricas', 'Piloto ...</td>\n",
              "      <td>88078.64</td>\n",
              "    </tr>\n",
              "    <tr>\n",
              "      <th>Passat</th>\n",
              "      <td>Motor Diesel</td>\n",
              "      <td>1991</td>\n",
              "      <td>5712.0</td>\n",
              "      <td>False</td>\n",
              "      <td>['Central multimídia', 'Teto panorâmico', 'Fre...</td>\n",
              "      <td>106161.94</td>\n",
              "    </tr>\n",
              "    <tr>\n",
              "      <th>Crossfox</th>\n",
              "      <td>Motor Diesel V8</td>\n",
              "      <td>1990</td>\n",
              "      <td>37123.0</td>\n",
              "      <td>False</td>\n",
              "      <td>['Piloto automático', 'Controle de estabilidad...</td>\n",
              "      <td>72832.16</td>\n",
              "    </tr>\n",
              "    <tr>\n",
              "      <th>DS5</th>\n",
              "      <td>Motor 2.4 Turbo</td>\n",
              "      <td>2019</td>\n",
              "      <td>NaN</td>\n",
              "      <td>True</td>\n",
              "      <td>['Travas elétricas', '4 X 4', 'Vidros elétrico...</td>\n",
              "      <td>124549.07</td>\n",
              "    </tr>\n",
              "  </tbody>\n",
              "</table>\n",
              "</div>"
            ],
            "text/plain": [
              "                         Motor  ...      Valor\n",
              "Nome                            ...           \n",
              "Jetta Variant  Motor 4.0 Turbo  ...   88078.64\n",
              "Passat            Motor Diesel  ...  106161.94\n",
              "Crossfox       Motor Diesel V8  ...   72832.16\n",
              "DS5            Motor 2.4 Turbo  ...  124549.07\n",
              "\n",
              "[4 rows x 6 columns]"
            ]
          },
          "metadata": {},
          "execution_count": 13
        }
      ]
    },
    {
      "cell_type": "markdown",
      "metadata": {
        "id": "G3DMSk97D1BR"
      },
      "source": [
        "### Utilizando .loc para seleções\n",
        "\n",
        "<font color=red>**Observação:**</font> Seleciona um grupo de linhas e colunas segundo os rótulos ou uma matriz booleana."
      ]
    },
    {
      "cell_type": "code",
      "metadata": {
        "id": "Ftg-hNOoD1BR",
        "colab": {
          "base_uri": "https://localhost:8080/"
        },
        "outputId": "ad1b9886-8b5f-4e37-b733-49e9dedbfe25"
      },
      "source": [
        "# Retorna uma series com as informações das linhas\n",
        "dataset.loc['Passat']"
      ],
      "execution_count": null,
      "outputs": [
        {
          "output_type": "execute_result",
          "data": {
            "text/plain": [
              "Motor                                                 Motor Diesel\n",
              "Ano                                                           1991\n",
              "Quilometragem                                                 5712\n",
              "Zero_km                                                      False\n",
              "Acessórios       ['Central multimídia', 'Teto panorâmico', 'Fre...\n",
              "Valor                                                       106162\n",
              "Name: Passat, dtype: object"
            ]
          },
          "metadata": {},
          "execution_count": 14
        }
      ]
    },
    {
      "cell_type": "code",
      "metadata": {
        "id": "xdxkDrHvD1BS",
        "colab": {
          "base_uri": "https://localhost:8080/",
          "height": 142
        },
        "outputId": "261ed00e-cfdb-4ea9-d050-d5b72d136a24"
      },
      "source": [
        "dataset.loc[['Passat','DS5']]"
      ],
      "execution_count": null,
      "outputs": [
        {
          "output_type": "execute_result",
          "data": {
            "text/html": [
              "<div>\n",
              "<style scoped>\n",
              "    .dataframe tbody tr th:only-of-type {\n",
              "        vertical-align: middle;\n",
              "    }\n",
              "\n",
              "    .dataframe tbody tr th {\n",
              "        vertical-align: top;\n",
              "    }\n",
              "\n",
              "    .dataframe thead th {\n",
              "        text-align: right;\n",
              "    }\n",
              "</style>\n",
              "<table border=\"1\" class=\"dataframe\">\n",
              "  <thead>\n",
              "    <tr style=\"text-align: right;\">\n",
              "      <th></th>\n",
              "      <th>Motor</th>\n",
              "      <th>Ano</th>\n",
              "      <th>Quilometragem</th>\n",
              "      <th>Zero_km</th>\n",
              "      <th>Acessórios</th>\n",
              "      <th>Valor</th>\n",
              "    </tr>\n",
              "    <tr>\n",
              "      <th>Nome</th>\n",
              "      <th></th>\n",
              "      <th></th>\n",
              "      <th></th>\n",
              "      <th></th>\n",
              "      <th></th>\n",
              "      <th></th>\n",
              "    </tr>\n",
              "  </thead>\n",
              "  <tbody>\n",
              "    <tr>\n",
              "      <th>Passat</th>\n",
              "      <td>Motor Diesel</td>\n",
              "      <td>1991</td>\n",
              "      <td>5712.0</td>\n",
              "      <td>False</td>\n",
              "      <td>['Central multimídia', 'Teto panorâmico', 'Fre...</td>\n",
              "      <td>106161.94</td>\n",
              "    </tr>\n",
              "    <tr>\n",
              "      <th>DS5</th>\n",
              "      <td>Motor 2.4 Turbo</td>\n",
              "      <td>2019</td>\n",
              "      <td>NaN</td>\n",
              "      <td>True</td>\n",
              "      <td>['Travas elétricas', '4 X 4', 'Vidros elétrico...</td>\n",
              "      <td>124549.07</td>\n",
              "    </tr>\n",
              "  </tbody>\n",
              "</table>\n",
              "</div>"
            ],
            "text/plain": [
              "                  Motor  ...      Valor\n",
              "Nome                     ...           \n",
              "Passat     Motor Diesel  ...  106161.94\n",
              "DS5     Motor 2.4 Turbo  ...  124549.07\n",
              "\n",
              "[2 rows x 6 columns]"
            ]
          },
          "metadata": {},
          "execution_count": 17
        }
      ]
    },
    {
      "cell_type": "code",
      "metadata": {
        "id": "pMN3U1KjD1BS",
        "colab": {
          "base_uri": "https://localhost:8080/",
          "height": 142
        },
        "outputId": "58a3e1f0-aac7-47f8-9549-735d10bbe90f"
      },
      "source": [
        "# Retornando apenas duas colunas\n",
        "dataset.loc[['Passat','DS5'],['Motor','Valor']]"
      ],
      "execution_count": null,
      "outputs": [
        {
          "output_type": "execute_result",
          "data": {
            "text/html": [
              "<div>\n",
              "<style scoped>\n",
              "    .dataframe tbody tr th:only-of-type {\n",
              "        vertical-align: middle;\n",
              "    }\n",
              "\n",
              "    .dataframe tbody tr th {\n",
              "        vertical-align: top;\n",
              "    }\n",
              "\n",
              "    .dataframe thead th {\n",
              "        text-align: right;\n",
              "    }\n",
              "</style>\n",
              "<table border=\"1\" class=\"dataframe\">\n",
              "  <thead>\n",
              "    <tr style=\"text-align: right;\">\n",
              "      <th></th>\n",
              "      <th>Motor</th>\n",
              "      <th>Valor</th>\n",
              "    </tr>\n",
              "    <tr>\n",
              "      <th>Nome</th>\n",
              "      <th></th>\n",
              "      <th></th>\n",
              "    </tr>\n",
              "  </thead>\n",
              "  <tbody>\n",
              "    <tr>\n",
              "      <th>Passat</th>\n",
              "      <td>Motor Diesel</td>\n",
              "      <td>106161.94</td>\n",
              "    </tr>\n",
              "    <tr>\n",
              "      <th>DS5</th>\n",
              "      <td>Motor 2.4 Turbo</td>\n",
              "      <td>124549.07</td>\n",
              "    </tr>\n",
              "  </tbody>\n",
              "</table>\n",
              "</div>"
            ],
            "text/plain": [
              "                  Motor      Valor\n",
              "Nome                              \n",
              "Passat     Motor Diesel  106161.94\n",
              "DS5     Motor 2.4 Turbo  124549.07"
            ]
          },
          "metadata": {},
          "execution_count": 19
        }
      ]
    },
    {
      "cell_type": "code",
      "metadata": {
        "scrolled": true,
        "id": "oOEO72uZD1BT",
        "colab": {
          "base_uri": "https://localhost:8080/",
          "height": 450
        },
        "outputId": "fbbb151b-f9c2-4f29-e5ea-fb115ed31752"
      },
      "source": [
        "# Retorna todas as linhas\n",
        "dataset.loc[:,['Motor','Valor']] "
      ],
      "execution_count": null,
      "outputs": [
        {
          "output_type": "execute_result",
          "data": {
            "text/html": [
              "<div>\n",
              "<style scoped>\n",
              "    .dataframe tbody tr th:only-of-type {\n",
              "        vertical-align: middle;\n",
              "    }\n",
              "\n",
              "    .dataframe tbody tr th {\n",
              "        vertical-align: top;\n",
              "    }\n",
              "\n",
              "    .dataframe thead th {\n",
              "        text-align: right;\n",
              "    }\n",
              "</style>\n",
              "<table border=\"1\" class=\"dataframe\">\n",
              "  <thead>\n",
              "    <tr style=\"text-align: right;\">\n",
              "      <th></th>\n",
              "      <th>Motor</th>\n",
              "      <th>Valor</th>\n",
              "    </tr>\n",
              "    <tr>\n",
              "      <th>Nome</th>\n",
              "      <th></th>\n",
              "      <th></th>\n",
              "    </tr>\n",
              "  </thead>\n",
              "  <tbody>\n",
              "    <tr>\n",
              "      <th>Jetta Variant</th>\n",
              "      <td>Motor 4.0 Turbo</td>\n",
              "      <td>88078.64</td>\n",
              "    </tr>\n",
              "    <tr>\n",
              "      <th>Passat</th>\n",
              "      <td>Motor Diesel</td>\n",
              "      <td>106161.94</td>\n",
              "    </tr>\n",
              "    <tr>\n",
              "      <th>Crossfox</th>\n",
              "      <td>Motor Diesel V8</td>\n",
              "      <td>72832.16</td>\n",
              "    </tr>\n",
              "    <tr>\n",
              "      <th>DS5</th>\n",
              "      <td>Motor 2.4 Turbo</td>\n",
              "      <td>124549.07</td>\n",
              "    </tr>\n",
              "    <tr>\n",
              "      <th>Aston Martin DB4</th>\n",
              "      <td>Motor 2.4 Turbo</td>\n",
              "      <td>92612.10</td>\n",
              "    </tr>\n",
              "    <tr>\n",
              "      <th>...</th>\n",
              "      <td>...</td>\n",
              "      <td>...</td>\n",
              "    </tr>\n",
              "    <tr>\n",
              "      <th>Phantom 2013</th>\n",
              "      <td>Motor V8</td>\n",
              "      <td>51759.58</td>\n",
              "    </tr>\n",
              "    <tr>\n",
              "      <th>Cadillac Ciel concept</th>\n",
              "      <td>Motor V8</td>\n",
              "      <td>51667.06</td>\n",
              "    </tr>\n",
              "    <tr>\n",
              "      <th>Classe GLK</th>\n",
              "      <td>Motor 5.0 V8 Bi-Turbo</td>\n",
              "      <td>68934.03</td>\n",
              "    </tr>\n",
              "    <tr>\n",
              "      <th>Aston Martin DB5</th>\n",
              "      <td>Motor Diesel</td>\n",
              "      <td>122110.90</td>\n",
              "    </tr>\n",
              "    <tr>\n",
              "      <th>Macan</th>\n",
              "      <td>Motor Diesel V6</td>\n",
              "      <td>90381.47</td>\n",
              "    </tr>\n",
              "  </tbody>\n",
              "</table>\n",
              "<p>258 rows × 2 columns</p>\n",
              "</div>"
            ],
            "text/plain": [
              "                                       Motor      Valor\n",
              "Nome                                                   \n",
              "Jetta Variant                Motor 4.0 Turbo   88078.64\n",
              "Passat                          Motor Diesel  106161.94\n",
              "Crossfox                     Motor Diesel V8   72832.16\n",
              "DS5                          Motor 2.4 Turbo  124549.07\n",
              "Aston Martin DB4             Motor 2.4 Turbo   92612.10\n",
              "...                                      ...        ...\n",
              "Phantom 2013                        Motor V8   51759.58\n",
              "Cadillac Ciel concept               Motor V8   51667.06\n",
              "Classe GLK             Motor 5.0 V8 Bi-Turbo   68934.03\n",
              "Aston Martin DB5                Motor Diesel  122110.90\n",
              "Macan                        Motor Diesel V6   90381.47\n",
              "\n",
              "[258 rows x 2 columns]"
            ]
          },
          "metadata": {},
          "execution_count": 20
        }
      ]
    },
    {
      "cell_type": "markdown",
      "metadata": {
        "id": "SYKEe3vCD1BT"
      },
      "source": [
        "### Utilizando .iloc para seleções\n",
        "\n",
        "<font color=red>**Observação:**</font> Seleciona com base nos índices, ou seja, se baseia na posição das informações."
      ]
    },
    {
      "cell_type": "code",
      "metadata": {
        "colab": {
          "base_uri": "https://localhost:8080/",
          "height": 450
        },
        "id": "eROnOV-hbfei",
        "outputId": "61f8138f-21bb-43d8-b4f0-d8bf7b2bbf04"
      },
      "source": [
        "dataset"
      ],
      "execution_count": null,
      "outputs": [
        {
          "output_type": "execute_result",
          "data": {
            "text/html": [
              "<div>\n",
              "<style scoped>\n",
              "    .dataframe tbody tr th:only-of-type {\n",
              "        vertical-align: middle;\n",
              "    }\n",
              "\n",
              "    .dataframe tbody tr th {\n",
              "        vertical-align: top;\n",
              "    }\n",
              "\n",
              "    .dataframe thead th {\n",
              "        text-align: right;\n",
              "    }\n",
              "</style>\n",
              "<table border=\"1\" class=\"dataframe\">\n",
              "  <thead>\n",
              "    <tr style=\"text-align: right;\">\n",
              "      <th></th>\n",
              "      <th>Motor</th>\n",
              "      <th>Ano</th>\n",
              "      <th>Quilometragem</th>\n",
              "      <th>Zero_km</th>\n",
              "      <th>Acessórios</th>\n",
              "      <th>Valor</th>\n",
              "    </tr>\n",
              "    <tr>\n",
              "      <th>Nome</th>\n",
              "      <th></th>\n",
              "      <th></th>\n",
              "      <th></th>\n",
              "      <th></th>\n",
              "      <th></th>\n",
              "      <th></th>\n",
              "    </tr>\n",
              "  </thead>\n",
              "  <tbody>\n",
              "    <tr>\n",
              "      <th>Jetta Variant</th>\n",
              "      <td>Motor 4.0 Turbo</td>\n",
              "      <td>2003</td>\n",
              "      <td>44410.0</td>\n",
              "      <td>False</td>\n",
              "      <td>['Rodas de liga', 'Travas elétricas', 'Piloto ...</td>\n",
              "      <td>88078.64</td>\n",
              "    </tr>\n",
              "    <tr>\n",
              "      <th>Passat</th>\n",
              "      <td>Motor Diesel</td>\n",
              "      <td>1991</td>\n",
              "      <td>5712.0</td>\n",
              "      <td>False</td>\n",
              "      <td>['Central multimídia', 'Teto panorâmico', 'Fre...</td>\n",
              "      <td>106161.94</td>\n",
              "    </tr>\n",
              "    <tr>\n",
              "      <th>Crossfox</th>\n",
              "      <td>Motor Diesel V8</td>\n",
              "      <td>1990</td>\n",
              "      <td>37123.0</td>\n",
              "      <td>False</td>\n",
              "      <td>['Piloto automático', 'Controle de estabilidad...</td>\n",
              "      <td>72832.16</td>\n",
              "    </tr>\n",
              "    <tr>\n",
              "      <th>DS5</th>\n",
              "      <td>Motor 2.4 Turbo</td>\n",
              "      <td>2019</td>\n",
              "      <td>NaN</td>\n",
              "      <td>True</td>\n",
              "      <td>['Travas elétricas', '4 X 4', 'Vidros elétrico...</td>\n",
              "      <td>124549.07</td>\n",
              "    </tr>\n",
              "    <tr>\n",
              "      <th>Aston Martin DB4</th>\n",
              "      <td>Motor 2.4 Turbo</td>\n",
              "      <td>2006</td>\n",
              "      <td>25757.0</td>\n",
              "      <td>False</td>\n",
              "      <td>['Rodas de liga', '4 X 4', 'Central multimídia...</td>\n",
              "      <td>92612.10</td>\n",
              "    </tr>\n",
              "    <tr>\n",
              "      <th>...</th>\n",
              "      <td>...</td>\n",
              "      <td>...</td>\n",
              "      <td>...</td>\n",
              "      <td>...</td>\n",
              "      <td>...</td>\n",
              "      <td>...</td>\n",
              "    </tr>\n",
              "    <tr>\n",
              "      <th>Phantom 2013</th>\n",
              "      <td>Motor V8</td>\n",
              "      <td>2014</td>\n",
              "      <td>27505.0</td>\n",
              "      <td>False</td>\n",
              "      <td>['Controle de estabilidade', 'Piloto automátic...</td>\n",
              "      <td>51759.58</td>\n",
              "    </tr>\n",
              "    <tr>\n",
              "      <th>Cadillac Ciel concept</th>\n",
              "      <td>Motor V8</td>\n",
              "      <td>1991</td>\n",
              "      <td>29981.0</td>\n",
              "      <td>False</td>\n",
              "      <td>['Bancos de couro', 'Painel digital', 'Sensor ...</td>\n",
              "      <td>51667.06</td>\n",
              "    </tr>\n",
              "    <tr>\n",
              "      <th>Classe GLK</th>\n",
              "      <td>Motor 5.0 V8 Bi-Turbo</td>\n",
              "      <td>2002</td>\n",
              "      <td>52637.0</td>\n",
              "      <td>False</td>\n",
              "      <td>['Rodas de liga', 'Controle de tração', 'Câmbi...</td>\n",
              "      <td>68934.03</td>\n",
              "    </tr>\n",
              "    <tr>\n",
              "      <th>Aston Martin DB5</th>\n",
              "      <td>Motor Diesel</td>\n",
              "      <td>1996</td>\n",
              "      <td>7685.0</td>\n",
              "      <td>False</td>\n",
              "      <td>['Ar condicionado', '4 X 4', 'Câmbio automátic...</td>\n",
              "      <td>122110.90</td>\n",
              "    </tr>\n",
              "    <tr>\n",
              "      <th>Macan</th>\n",
              "      <td>Motor Diesel V6</td>\n",
              "      <td>1992</td>\n",
              "      <td>50188.0</td>\n",
              "      <td>False</td>\n",
              "      <td>['Central multimídia', 'Teto panorâmico', 'Vid...</td>\n",
              "      <td>90381.47</td>\n",
              "    </tr>\n",
              "  </tbody>\n",
              "</table>\n",
              "<p>258 rows × 6 columns</p>\n",
              "</div>"
            ],
            "text/plain": [
              "                                       Motor  ...      Valor\n",
              "Nome                                          ...           \n",
              "Jetta Variant                Motor 4.0 Turbo  ...   88078.64\n",
              "Passat                          Motor Diesel  ...  106161.94\n",
              "Crossfox                     Motor Diesel V8  ...   72832.16\n",
              "DS5                          Motor 2.4 Turbo  ...  124549.07\n",
              "Aston Martin DB4             Motor 2.4 Turbo  ...   92612.10\n",
              "...                                      ...  ...        ...\n",
              "Phantom 2013                        Motor V8  ...   51759.58\n",
              "Cadillac Ciel concept               Motor V8  ...   51667.06\n",
              "Classe GLK             Motor 5.0 V8 Bi-Turbo  ...   68934.03\n",
              "Aston Martin DB5                Motor Diesel  ...  122110.90\n",
              "Macan                        Motor Diesel V6  ...   90381.47\n",
              "\n",
              "[258 rows x 6 columns]"
            ]
          },
          "metadata": {},
          "execution_count": 23
        }
      ]
    },
    {
      "cell_type": "code",
      "metadata": {
        "id": "U4Bru90bD1BT",
        "colab": {
          "base_uri": "https://localhost:8080/",
          "height": 111
        },
        "outputId": "3093f9e8-f9de-42a2-e011-882ca81576a6"
      },
      "source": [
        "dataset.iloc[[1]]"
      ],
      "execution_count": null,
      "outputs": [
        {
          "output_type": "execute_result",
          "data": {
            "text/html": [
              "<div>\n",
              "<style scoped>\n",
              "    .dataframe tbody tr th:only-of-type {\n",
              "        vertical-align: middle;\n",
              "    }\n",
              "\n",
              "    .dataframe tbody tr th {\n",
              "        vertical-align: top;\n",
              "    }\n",
              "\n",
              "    .dataframe thead th {\n",
              "        text-align: right;\n",
              "    }\n",
              "</style>\n",
              "<table border=\"1\" class=\"dataframe\">\n",
              "  <thead>\n",
              "    <tr style=\"text-align: right;\">\n",
              "      <th></th>\n",
              "      <th>Motor</th>\n",
              "      <th>Ano</th>\n",
              "      <th>Quilometragem</th>\n",
              "      <th>Zero_km</th>\n",
              "      <th>Acessórios</th>\n",
              "      <th>Valor</th>\n",
              "    </tr>\n",
              "    <tr>\n",
              "      <th>Nome</th>\n",
              "      <th></th>\n",
              "      <th></th>\n",
              "      <th></th>\n",
              "      <th></th>\n",
              "      <th></th>\n",
              "      <th></th>\n",
              "    </tr>\n",
              "  </thead>\n",
              "  <tbody>\n",
              "    <tr>\n",
              "      <th>Passat</th>\n",
              "      <td>Motor Diesel</td>\n",
              "      <td>1991</td>\n",
              "      <td>5712.0</td>\n",
              "      <td>False</td>\n",
              "      <td>['Central multimídia', 'Teto panorâmico', 'Fre...</td>\n",
              "      <td>106161.94</td>\n",
              "    </tr>\n",
              "  </tbody>\n",
              "</table>\n",
              "</div>"
            ],
            "text/plain": [
              "               Motor  ...      Valor\n",
              "Nome                  ...           \n",
              "Passat  Motor Diesel  ...  106161.94\n",
              "\n",
              "[1 rows x 6 columns]"
            ]
          },
          "metadata": {},
          "execution_count": 22
        }
      ]
    },
    {
      "cell_type": "code",
      "metadata": {
        "id": "iLKUyrzND1BU",
        "colab": {
          "base_uri": "https://localhost:8080/",
          "height": 173
        },
        "outputId": "0c1712e1-cb37-4bcf-97d9-d4e9fc3f668a"
      },
      "source": [
        "dataset.iloc[1:4]"
      ],
      "execution_count": null,
      "outputs": [
        {
          "output_type": "execute_result",
          "data": {
            "text/html": [
              "<div>\n",
              "<style scoped>\n",
              "    .dataframe tbody tr th:only-of-type {\n",
              "        vertical-align: middle;\n",
              "    }\n",
              "\n",
              "    .dataframe tbody tr th {\n",
              "        vertical-align: top;\n",
              "    }\n",
              "\n",
              "    .dataframe thead th {\n",
              "        text-align: right;\n",
              "    }\n",
              "</style>\n",
              "<table border=\"1\" class=\"dataframe\">\n",
              "  <thead>\n",
              "    <tr style=\"text-align: right;\">\n",
              "      <th></th>\n",
              "      <th>Motor</th>\n",
              "      <th>Ano</th>\n",
              "      <th>Quilometragem</th>\n",
              "      <th>Zero_km</th>\n",
              "      <th>Acessórios</th>\n",
              "      <th>Valor</th>\n",
              "    </tr>\n",
              "    <tr>\n",
              "      <th>Nome</th>\n",
              "      <th></th>\n",
              "      <th></th>\n",
              "      <th></th>\n",
              "      <th></th>\n",
              "      <th></th>\n",
              "      <th></th>\n",
              "    </tr>\n",
              "  </thead>\n",
              "  <tbody>\n",
              "    <tr>\n",
              "      <th>Passat</th>\n",
              "      <td>Motor Diesel</td>\n",
              "      <td>1991</td>\n",
              "      <td>5712.0</td>\n",
              "      <td>False</td>\n",
              "      <td>['Central multimídia', 'Teto panorâmico', 'Fre...</td>\n",
              "      <td>106161.94</td>\n",
              "    </tr>\n",
              "    <tr>\n",
              "      <th>Crossfox</th>\n",
              "      <td>Motor Diesel V8</td>\n",
              "      <td>1990</td>\n",
              "      <td>37123.0</td>\n",
              "      <td>False</td>\n",
              "      <td>['Piloto automático', 'Controle de estabilidad...</td>\n",
              "      <td>72832.16</td>\n",
              "    </tr>\n",
              "    <tr>\n",
              "      <th>DS5</th>\n",
              "      <td>Motor 2.4 Turbo</td>\n",
              "      <td>2019</td>\n",
              "      <td>NaN</td>\n",
              "      <td>True</td>\n",
              "      <td>['Travas elétricas', '4 X 4', 'Vidros elétrico...</td>\n",
              "      <td>124549.07</td>\n",
              "    </tr>\n",
              "  </tbody>\n",
              "</table>\n",
              "</div>"
            ],
            "text/plain": [
              "                    Motor  ...      Valor\n",
              "Nome                       ...           \n",
              "Passat       Motor Diesel  ...  106161.94\n",
              "Crossfox  Motor Diesel V8  ...   72832.16\n",
              "DS5       Motor 2.4 Turbo  ...  124549.07\n",
              "\n",
              "[3 rows x 6 columns]"
            ]
          },
          "metadata": {},
          "execution_count": 24
        }
      ]
    },
    {
      "cell_type": "code",
      "metadata": {
        "id": "KGZpixYUD1BU",
        "colab": {
          "base_uri": "https://localhost:8080/",
          "height": 173
        },
        "outputId": "9f36522a-9968-4b7d-f792-62077babbd95"
      },
      "source": [
        "dataset.iloc[1:4,[0,5,2]]"
      ],
      "execution_count": null,
      "outputs": [
        {
          "output_type": "execute_result",
          "data": {
            "text/html": [
              "<div>\n",
              "<style scoped>\n",
              "    .dataframe tbody tr th:only-of-type {\n",
              "        vertical-align: middle;\n",
              "    }\n",
              "\n",
              "    .dataframe tbody tr th {\n",
              "        vertical-align: top;\n",
              "    }\n",
              "\n",
              "    .dataframe thead th {\n",
              "        text-align: right;\n",
              "    }\n",
              "</style>\n",
              "<table border=\"1\" class=\"dataframe\">\n",
              "  <thead>\n",
              "    <tr style=\"text-align: right;\">\n",
              "      <th></th>\n",
              "      <th>Motor</th>\n",
              "      <th>Valor</th>\n",
              "      <th>Quilometragem</th>\n",
              "    </tr>\n",
              "    <tr>\n",
              "      <th>Nome</th>\n",
              "      <th></th>\n",
              "      <th></th>\n",
              "      <th></th>\n",
              "    </tr>\n",
              "  </thead>\n",
              "  <tbody>\n",
              "    <tr>\n",
              "      <th>Passat</th>\n",
              "      <td>Motor Diesel</td>\n",
              "      <td>106161.94</td>\n",
              "      <td>5712.0</td>\n",
              "    </tr>\n",
              "    <tr>\n",
              "      <th>Crossfox</th>\n",
              "      <td>Motor Diesel V8</td>\n",
              "      <td>72832.16</td>\n",
              "      <td>37123.0</td>\n",
              "    </tr>\n",
              "    <tr>\n",
              "      <th>DS5</th>\n",
              "      <td>Motor 2.4 Turbo</td>\n",
              "      <td>124549.07</td>\n",
              "      <td>NaN</td>\n",
              "    </tr>\n",
              "  </tbody>\n",
              "</table>\n",
              "</div>"
            ],
            "text/plain": [
              "                    Motor      Valor  Quilometragem\n",
              "Nome                                               \n",
              "Passat       Motor Diesel  106161.94         5712.0\n",
              "Crossfox  Motor Diesel V8   72832.16        37123.0\n",
              "DS5       Motor 2.4 Turbo  124549.07            NaN"
            ]
          },
          "metadata": {},
          "execution_count": 25
        }
      ]
    },
    {
      "cell_type": "code",
      "metadata": {
        "id": "GxdqIz4LD1BV",
        "colab": {
          "base_uri": "https://localhost:8080/",
          "height": 173
        },
        "outputId": "a417ccb3-5725-4d2f-e9c1-c2468463f751"
      },
      "source": [
        "#[linhas/ colunas]\n",
        "dataset.iloc[[1,42,22], [0,5,2]]"
      ],
      "execution_count": null,
      "outputs": [
        {
          "output_type": "execute_result",
          "data": {
            "text/html": [
              "<div>\n",
              "<style scoped>\n",
              "    .dataframe tbody tr th:only-of-type {\n",
              "        vertical-align: middle;\n",
              "    }\n",
              "\n",
              "    .dataframe tbody tr th {\n",
              "        vertical-align: top;\n",
              "    }\n",
              "\n",
              "    .dataframe thead th {\n",
              "        text-align: right;\n",
              "    }\n",
              "</style>\n",
              "<table border=\"1\" class=\"dataframe\">\n",
              "  <thead>\n",
              "    <tr style=\"text-align: right;\">\n",
              "      <th></th>\n",
              "      <th>Motor</th>\n",
              "      <th>Valor</th>\n",
              "      <th>Quilometragem</th>\n",
              "    </tr>\n",
              "    <tr>\n",
              "      <th>Nome</th>\n",
              "      <th></th>\n",
              "      <th></th>\n",
              "      <th></th>\n",
              "    </tr>\n",
              "  </thead>\n",
              "  <tbody>\n",
              "    <tr>\n",
              "      <th>Passat</th>\n",
              "      <td>Motor Diesel</td>\n",
              "      <td>106161.94</td>\n",
              "      <td>5712.0</td>\n",
              "    </tr>\n",
              "    <tr>\n",
              "      <th>Optima</th>\n",
              "      <td>Motor 1.8 16v</td>\n",
              "      <td>86641.34</td>\n",
              "      <td>NaN</td>\n",
              "    </tr>\n",
              "    <tr>\n",
              "      <th>Lamborghini Obvious</th>\n",
              "      <td>Motor Diesel V6</td>\n",
              "      <td>133529.84</td>\n",
              "      <td>98079.0</td>\n",
              "    </tr>\n",
              "  </tbody>\n",
              "</table>\n",
              "</div>"
            ],
            "text/plain": [
              "                               Motor      Valor  Quilometragem\n",
              "Nome                                                          \n",
              "Passat                  Motor Diesel  106161.94         5712.0\n",
              "Optima                 Motor 1.8 16v   86641.34            NaN\n",
              "Lamborghini Obvious  Motor Diesel V6  133529.84        98079.0"
            ]
          },
          "metadata": {},
          "execution_count": 26
        }
      ]
    },
    {
      "cell_type": "code",
      "metadata": {
        "scrolled": true,
        "id": "AVIhs7uLD1BW",
        "colab": {
          "base_uri": "https://localhost:8080/",
          "height": 173
        },
        "outputId": "5ce69154-02f2-4b5f-e0f2-b9f59f204704"
      },
      "source": [
        "dataset.iloc[[1,42,22], :]"
      ],
      "execution_count": null,
      "outputs": [
        {
          "output_type": "execute_result",
          "data": {
            "text/html": [
              "<div>\n",
              "<style scoped>\n",
              "    .dataframe tbody tr th:only-of-type {\n",
              "        vertical-align: middle;\n",
              "    }\n",
              "\n",
              "    .dataframe tbody tr th {\n",
              "        vertical-align: top;\n",
              "    }\n",
              "\n",
              "    .dataframe thead th {\n",
              "        text-align: right;\n",
              "    }\n",
              "</style>\n",
              "<table border=\"1\" class=\"dataframe\">\n",
              "  <thead>\n",
              "    <tr style=\"text-align: right;\">\n",
              "      <th></th>\n",
              "      <th>Motor</th>\n",
              "      <th>Ano</th>\n",
              "      <th>Quilometragem</th>\n",
              "      <th>Zero_km</th>\n",
              "      <th>Acessórios</th>\n",
              "      <th>Valor</th>\n",
              "    </tr>\n",
              "    <tr>\n",
              "      <th>Nome</th>\n",
              "      <th></th>\n",
              "      <th></th>\n",
              "      <th></th>\n",
              "      <th></th>\n",
              "      <th></th>\n",
              "      <th></th>\n",
              "    </tr>\n",
              "  </thead>\n",
              "  <tbody>\n",
              "    <tr>\n",
              "      <th>Passat</th>\n",
              "      <td>Motor Diesel</td>\n",
              "      <td>1991</td>\n",
              "      <td>5712.0</td>\n",
              "      <td>False</td>\n",
              "      <td>['Central multimídia', 'Teto panorâmico', 'Fre...</td>\n",
              "      <td>106161.94</td>\n",
              "    </tr>\n",
              "    <tr>\n",
              "      <th>Optima</th>\n",
              "      <td>Motor 1.8 16v</td>\n",
              "      <td>2019</td>\n",
              "      <td>NaN</td>\n",
              "      <td>True</td>\n",
              "      <td>['Central multimídia', 'Ar condicionado', 'Tet...</td>\n",
              "      <td>86641.34</td>\n",
              "    </tr>\n",
              "    <tr>\n",
              "      <th>Lamborghini Obvious</th>\n",
              "      <td>Motor Diesel V6</td>\n",
              "      <td>1994</td>\n",
              "      <td>98079.0</td>\n",
              "      <td>False</td>\n",
              "      <td>['Rodas de liga', 'Câmbio automático', 'Travas...</td>\n",
              "      <td>133529.84</td>\n",
              "    </tr>\n",
              "  </tbody>\n",
              "</table>\n",
              "</div>"
            ],
            "text/plain": [
              "                               Motor  ...      Valor\n",
              "Nome                                  ...           \n",
              "Passat                  Motor Diesel  ...  106161.94\n",
              "Optima                 Motor 1.8 16v  ...   86641.34\n",
              "Lamborghini Obvious  Motor Diesel V6  ...  133529.84\n",
              "\n",
              "[3 rows x 6 columns]"
            ]
          },
          "metadata": {},
          "execution_count": 27
        }
      ]
    },
    {
      "cell_type": "markdown",
      "metadata": {
        "id": "YaHvDs60b6Sn"
      },
      "source": [
        "<font color=red>**Principal diferença é que o iloc trabalha com os índices e o loc com os nomes:**</font>"
      ]
    },
    {
      "cell_type": "markdown",
      "metadata": {
        "id": "eAbwq1oLD1BW"
      },
      "source": [
        "# 5.3 Queries com DataFrames"
      ]
    },
    {
      "cell_type": "code",
      "metadata": {
        "id": "SskJzkep_LIJ"
      },
      "source": [
        "import pandas  as pd"
      ],
      "execution_count": null,
      "outputs": []
    },
    {
      "cell_type": "code",
      "metadata": {
        "colab": {
          "base_uri": "https://localhost:8080/",
          "height": 450
        },
        "id": "9OJg-1vN_LAY",
        "outputId": "391e9f40-79d6-476f-a49f-a8870a4dd11c"
      },
      "source": [
        "dataset = pd.read_csv('db.csv', sep = ';', index_col = 0)\n",
        "dataset"
      ],
      "execution_count": null,
      "outputs": [
        {
          "output_type": "execute_result",
          "data": {
            "text/html": [
              "<div>\n",
              "<style scoped>\n",
              "    .dataframe tbody tr th:only-of-type {\n",
              "        vertical-align: middle;\n",
              "    }\n",
              "\n",
              "    .dataframe tbody tr th {\n",
              "        vertical-align: top;\n",
              "    }\n",
              "\n",
              "    .dataframe thead th {\n",
              "        text-align: right;\n",
              "    }\n",
              "</style>\n",
              "<table border=\"1\" class=\"dataframe\">\n",
              "  <thead>\n",
              "    <tr style=\"text-align: right;\">\n",
              "      <th></th>\n",
              "      <th>Motor</th>\n",
              "      <th>Ano</th>\n",
              "      <th>Quilometragem</th>\n",
              "      <th>Zero_km</th>\n",
              "      <th>Acessórios</th>\n",
              "      <th>Valor</th>\n",
              "    </tr>\n",
              "    <tr>\n",
              "      <th>Nome</th>\n",
              "      <th></th>\n",
              "      <th></th>\n",
              "      <th></th>\n",
              "      <th></th>\n",
              "      <th></th>\n",
              "      <th></th>\n",
              "    </tr>\n",
              "  </thead>\n",
              "  <tbody>\n",
              "    <tr>\n",
              "      <th>Jetta Variant</th>\n",
              "      <td>Motor 4.0 Turbo</td>\n",
              "      <td>2003</td>\n",
              "      <td>44410.0</td>\n",
              "      <td>False</td>\n",
              "      <td>['Rodas de liga', 'Travas elétricas', 'Piloto ...</td>\n",
              "      <td>88078.64</td>\n",
              "    </tr>\n",
              "    <tr>\n",
              "      <th>Passat</th>\n",
              "      <td>Motor Diesel</td>\n",
              "      <td>1991</td>\n",
              "      <td>5712.0</td>\n",
              "      <td>False</td>\n",
              "      <td>['Central multimídia', 'Teto panorâmico', 'Fre...</td>\n",
              "      <td>106161.94</td>\n",
              "    </tr>\n",
              "    <tr>\n",
              "      <th>Crossfox</th>\n",
              "      <td>Motor Diesel V8</td>\n",
              "      <td>1990</td>\n",
              "      <td>37123.0</td>\n",
              "      <td>False</td>\n",
              "      <td>['Piloto automático', 'Controle de estabilidad...</td>\n",
              "      <td>72832.16</td>\n",
              "    </tr>\n",
              "    <tr>\n",
              "      <th>DS5</th>\n",
              "      <td>Motor 2.4 Turbo</td>\n",
              "      <td>2019</td>\n",
              "      <td>NaN</td>\n",
              "      <td>True</td>\n",
              "      <td>['Travas elétricas', '4 X 4', 'Vidros elétrico...</td>\n",
              "      <td>124549.07</td>\n",
              "    </tr>\n",
              "    <tr>\n",
              "      <th>Aston Martin DB4</th>\n",
              "      <td>Motor 2.4 Turbo</td>\n",
              "      <td>2006</td>\n",
              "      <td>25757.0</td>\n",
              "      <td>False</td>\n",
              "      <td>['Rodas de liga', '4 X 4', 'Central multimídia...</td>\n",
              "      <td>92612.10</td>\n",
              "    </tr>\n",
              "    <tr>\n",
              "      <th>...</th>\n",
              "      <td>...</td>\n",
              "      <td>...</td>\n",
              "      <td>...</td>\n",
              "      <td>...</td>\n",
              "      <td>...</td>\n",
              "      <td>...</td>\n",
              "    </tr>\n",
              "    <tr>\n",
              "      <th>Phantom 2013</th>\n",
              "      <td>Motor V8</td>\n",
              "      <td>2014</td>\n",
              "      <td>27505.0</td>\n",
              "      <td>False</td>\n",
              "      <td>['Controle de estabilidade', 'Piloto automátic...</td>\n",
              "      <td>51759.58</td>\n",
              "    </tr>\n",
              "    <tr>\n",
              "      <th>Cadillac Ciel concept</th>\n",
              "      <td>Motor V8</td>\n",
              "      <td>1991</td>\n",
              "      <td>29981.0</td>\n",
              "      <td>False</td>\n",
              "      <td>['Bancos de couro', 'Painel digital', 'Sensor ...</td>\n",
              "      <td>51667.06</td>\n",
              "    </tr>\n",
              "    <tr>\n",
              "      <th>Classe GLK</th>\n",
              "      <td>Motor 5.0 V8 Bi-Turbo</td>\n",
              "      <td>2002</td>\n",
              "      <td>52637.0</td>\n",
              "      <td>False</td>\n",
              "      <td>['Rodas de liga', 'Controle de tração', 'Câmbi...</td>\n",
              "      <td>68934.03</td>\n",
              "    </tr>\n",
              "    <tr>\n",
              "      <th>Aston Martin DB5</th>\n",
              "      <td>Motor Diesel</td>\n",
              "      <td>1996</td>\n",
              "      <td>7685.0</td>\n",
              "      <td>False</td>\n",
              "      <td>['Ar condicionado', '4 X 4', 'Câmbio automátic...</td>\n",
              "      <td>122110.90</td>\n",
              "    </tr>\n",
              "    <tr>\n",
              "      <th>Macan</th>\n",
              "      <td>Motor Diesel V6</td>\n",
              "      <td>1992</td>\n",
              "      <td>50188.0</td>\n",
              "      <td>False</td>\n",
              "      <td>['Central multimídia', 'Teto panorâmico', 'Vid...</td>\n",
              "      <td>90381.47</td>\n",
              "    </tr>\n",
              "  </tbody>\n",
              "</table>\n",
              "<p>258 rows × 6 columns</p>\n",
              "</div>"
            ],
            "text/plain": [
              "                                       Motor  ...      Valor\n",
              "Nome                                          ...           \n",
              "Jetta Variant                Motor 4.0 Turbo  ...   88078.64\n",
              "Passat                          Motor Diesel  ...  106161.94\n",
              "Crossfox                     Motor Diesel V8  ...   72832.16\n",
              "DS5                          Motor 2.4 Turbo  ...  124549.07\n",
              "Aston Martin DB4             Motor 2.4 Turbo  ...   92612.10\n",
              "...                                      ...  ...        ...\n",
              "Phantom 2013                        Motor V8  ...   51759.58\n",
              "Cadillac Ciel concept               Motor V8  ...   51667.06\n",
              "Classe GLK             Motor 5.0 V8 Bi-Turbo  ...   68934.03\n",
              "Aston Martin DB5                Motor Diesel  ...  122110.90\n",
              "Macan                        Motor Diesel V6  ...   90381.47\n",
              "\n",
              "[258 rows x 6 columns]"
            ]
          },
          "metadata": {},
          "execution_count": 15
        }
      ]
    },
    {
      "cell_type": "code",
      "metadata": {
        "scrolled": true,
        "id": "AOZTWzehD1BW",
        "colab": {
          "base_uri": "https://localhost:8080/"
        },
        "outputId": "f8fda7c1-b275-478e-e174-7efbf7d0ba66"
      },
      "source": [
        "# Traz todas as informações da coluna motor, método utilizado quando não há espaços nas colunas\n",
        "dataset.Motor"
      ],
      "execution_count": null,
      "outputs": [
        {
          "output_type": "execute_result",
          "data": {
            "text/plain": [
              "Nome\n",
              "Jetta Variant                  Motor 4.0 Turbo\n",
              "Passat                            Motor Diesel\n",
              "Crossfox                       Motor Diesel V8\n",
              "DS5                            Motor 2.4 Turbo\n",
              "Aston Martin DB4               Motor 2.4 Turbo\n",
              "                                 ...          \n",
              "Phantom 2013                          Motor V8\n",
              "Cadillac Ciel concept                 Motor V8\n",
              "Classe GLK               Motor 5.0 V8 Bi-Turbo\n",
              "Aston Martin DB5                  Motor Diesel\n",
              "Macan                          Motor Diesel V6\n",
              "Name: Motor, Length: 258, dtype: object"
            ]
          },
          "metadata": {},
          "execution_count": 16
        }
      ]
    },
    {
      "cell_type": "code",
      "metadata": {
        "scrolled": true,
        "id": "rO5T4h94D1BX",
        "colab": {
          "base_uri": "https://localhost:8080/"
        },
        "outputId": "fb218ca8-c048-4e80-8d2c-31ec4d49c2ae"
      },
      "source": [
        "dataset.Motor == 'Motor Disel'"
      ],
      "execution_count": null,
      "outputs": [
        {
          "output_type": "execute_result",
          "data": {
            "text/plain": [
              "Nome\n",
              "Jetta Variant            False\n",
              "Passat                   False\n",
              "Crossfox                 False\n",
              "DS5                      False\n",
              "Aston Martin DB4         False\n",
              "                         ...  \n",
              "Phantom 2013             False\n",
              "Cadillac Ciel concept    False\n",
              "Classe GLK               False\n",
              "Aston Martin DB5         False\n",
              "Macan                    False\n",
              "Name: Motor, Length: 258, dtype: bool"
            ]
          },
          "metadata": {},
          "execution_count": 17
        }
      ]
    },
    {
      "cell_type": "code",
      "metadata": {
        "id": "qgqmNdTeCi1I"
      },
      "source": [
        "select = dataset.Motor == 'Motor Diesel'"
      ],
      "execution_count": null,
      "outputs": []
    },
    {
      "cell_type": "code",
      "metadata": {
        "id": "STZ-l8oaD1BX",
        "colab": {
          "base_uri": "https://localhost:8080/"
        },
        "outputId": "f6816c65-aabb-4def-bb2a-e79d2dce3c3a"
      },
      "source": [
        "type(select)"
      ],
      "execution_count": null,
      "outputs": [
        {
          "output_type": "execute_result",
          "data": {
            "text/plain": [
              "pandas.core.series.Series"
            ]
          },
          "metadata": {},
          "execution_count": 23
        }
      ]
    },
    {
      "cell_type": "code",
      "metadata": {
        "id": "OZC8NAn6D1BX",
        "colab": {
          "base_uri": "https://localhost:8080/",
          "height": 886
        },
        "outputId": "2e8888c0-faec-4490-8746-aa73070ddc09"
      },
      "source": [
        "dataset[select]"
      ],
      "execution_count": null,
      "outputs": [
        {
          "output_type": "execute_result",
          "data": {
            "text/html": [
              "<div>\n",
              "<style scoped>\n",
              "    .dataframe tbody tr th:only-of-type {\n",
              "        vertical-align: middle;\n",
              "    }\n",
              "\n",
              "    .dataframe tbody tr th {\n",
              "        vertical-align: top;\n",
              "    }\n",
              "\n",
              "    .dataframe thead th {\n",
              "        text-align: right;\n",
              "    }\n",
              "</style>\n",
              "<table border=\"1\" class=\"dataframe\">\n",
              "  <thead>\n",
              "    <tr style=\"text-align: right;\">\n",
              "      <th></th>\n",
              "      <th>Motor</th>\n",
              "      <th>Ano</th>\n",
              "      <th>Quilometragem</th>\n",
              "      <th>Zero_km</th>\n",
              "      <th>Acessórios</th>\n",
              "      <th>Valor</th>\n",
              "    </tr>\n",
              "    <tr>\n",
              "      <th>Nome</th>\n",
              "      <th></th>\n",
              "      <th></th>\n",
              "      <th></th>\n",
              "      <th></th>\n",
              "      <th></th>\n",
              "      <th></th>\n",
              "    </tr>\n",
              "  </thead>\n",
              "  <tbody>\n",
              "    <tr>\n",
              "      <th>Passat</th>\n",
              "      <td>Motor Diesel</td>\n",
              "      <td>1991</td>\n",
              "      <td>5712.0</td>\n",
              "      <td>False</td>\n",
              "      <td>['Central multimídia', 'Teto panorâmico', 'Fre...</td>\n",
              "      <td>106161.94</td>\n",
              "    </tr>\n",
              "    <tr>\n",
              "      <th>Effa Hafei Picape Baú</th>\n",
              "      <td>Motor Diesel</td>\n",
              "      <td>1991</td>\n",
              "      <td>102959.0</td>\n",
              "      <td>False</td>\n",
              "      <td>['Controle de estabilidade', 'Painel digital',...</td>\n",
              "      <td>125684.65</td>\n",
              "    </tr>\n",
              "    <tr>\n",
              "      <th>Sorento</th>\n",
              "      <td>Motor Diesel</td>\n",
              "      <td>2019</td>\n",
              "      <td>NaN</td>\n",
              "      <td>True</td>\n",
              "      <td>['Sensor de chuva', 'Câmera de estacionamento'...</td>\n",
              "      <td>81399.35</td>\n",
              "    </tr>\n",
              "    <tr>\n",
              "      <th>New Fiesta Hatch</th>\n",
              "      <td>Motor Diesel</td>\n",
              "      <td>2017</td>\n",
              "      <td>118895.0</td>\n",
              "      <td>False</td>\n",
              "      <td>['Sensor de estacionamento', 'Travas elétricas...</td>\n",
              "      <td>66007.16</td>\n",
              "    </tr>\n",
              "    <tr>\n",
              "      <th>Kangoo Express</th>\n",
              "      <td>Motor Diesel</td>\n",
              "      <td>2007</td>\n",
              "      <td>29132.0</td>\n",
              "      <td>False</td>\n",
              "      <td>['Bancos de couro', 'Câmbio automático', 'Pilo...</td>\n",
              "      <td>146716.91</td>\n",
              "    </tr>\n",
              "    <tr>\n",
              "      <th>Fit</th>\n",
              "      <td>Motor Diesel</td>\n",
              "      <td>2013</td>\n",
              "      <td>44329.0</td>\n",
              "      <td>False</td>\n",
              "      <td>['Freios ABS', 'Câmera de estacionamento', 'Câ...</td>\n",
              "      <td>77836.23</td>\n",
              "    </tr>\n",
              "    <tr>\n",
              "      <th>Cielo Hatch</th>\n",
              "      <td>Motor Diesel</td>\n",
              "      <td>2019</td>\n",
              "      <td>NaN</td>\n",
              "      <td>True</td>\n",
              "      <td>['Painel digital', 'Central multimídia', 'Câme...</td>\n",
              "      <td>145197.70</td>\n",
              "    </tr>\n",
              "    <tr>\n",
              "      <th>Symbol</th>\n",
              "      <td>Motor Diesel</td>\n",
              "      <td>2016</td>\n",
              "      <td>117714.0</td>\n",
              "      <td>False</td>\n",
              "      <td>['4 X 4', 'Piloto automático', 'Sensor crepusc...</td>\n",
              "      <td>133030.60</td>\n",
              "    </tr>\n",
              "    <tr>\n",
              "      <th>A4 Sedan</th>\n",
              "      <td>Motor Diesel</td>\n",
              "      <td>2002</td>\n",
              "      <td>30511.0</td>\n",
              "      <td>False</td>\n",
              "      <td>['Câmera de estacionamento', '4 X 4', 'Travas ...</td>\n",
              "      <td>96369.04</td>\n",
              "    </tr>\n",
              "    <tr>\n",
              "      <th>A4 Avant</th>\n",
              "      <td>Motor Diesel</td>\n",
              "      <td>2014</td>\n",
              "      <td>17357.0</td>\n",
              "      <td>False</td>\n",
              "      <td>['Teto panorâmico', '4 X 4', 'Bancos de couro'...</td>\n",
              "      <td>138946.88</td>\n",
              "    </tr>\n",
              "    <tr>\n",
              "      <th>Silver Shadow</th>\n",
              "      <td>Motor Diesel</td>\n",
              "      <td>2015</td>\n",
              "      <td>99052.0</td>\n",
              "      <td>False</td>\n",
              "      <td>['4 X 4', 'Central multimídia', 'Ar condiciona...</td>\n",
              "      <td>143568.22</td>\n",
              "    </tr>\n",
              "    <tr>\n",
              "      <th>Camry</th>\n",
              "      <td>Motor Diesel</td>\n",
              "      <td>2019</td>\n",
              "      <td>NaN</td>\n",
              "      <td>True</td>\n",
              "      <td>['Travas elétricas', 'Rodas de liga', 'Sensor ...</td>\n",
              "      <td>138597.27</td>\n",
              "    </tr>\n",
              "    <tr>\n",
              "      <th>Clio</th>\n",
              "      <td>Motor Diesel</td>\n",
              "      <td>1990</td>\n",
              "      <td>66437.0</td>\n",
              "      <td>False</td>\n",
              "      <td>['4 X 4', 'Câmbio automático', 'Freios ABS', '...</td>\n",
              "      <td>111130.33</td>\n",
              "    </tr>\n",
              "    <tr>\n",
              "      <th>Série 3 M3 Coupé</th>\n",
              "      <td>Motor Diesel</td>\n",
              "      <td>2013</td>\n",
              "      <td>19896.0</td>\n",
              "      <td>False</td>\n",
              "      <td>['Bancos de couro', 'Sensor de chuva', 'Ar con...</td>\n",
              "      <td>69219.89</td>\n",
              "    </tr>\n",
              "    <tr>\n",
              "      <th>Gallardo LP 560 – 4</th>\n",
              "      <td>Motor Diesel</td>\n",
              "      <td>2000</td>\n",
              "      <td>113045.0</td>\n",
              "      <td>False</td>\n",
              "      <td>['Freios ABS', 'Teto panorâmico', 'Central mul...</td>\n",
              "      <td>144118.91</td>\n",
              "    </tr>\n",
              "    <tr>\n",
              "      <th>Chana Utility</th>\n",
              "      <td>Motor Diesel</td>\n",
              "      <td>2009</td>\n",
              "      <td>52034.0</td>\n",
              "      <td>False</td>\n",
              "      <td>['Ar condicionado', 'Sensor de estacionamento'...</td>\n",
              "      <td>132662.32</td>\n",
              "    </tr>\n",
              "    <tr>\n",
              "      <th>TT Roadster</th>\n",
              "      <td>Motor Diesel</td>\n",
              "      <td>1998</td>\n",
              "      <td>107392.0</td>\n",
              "      <td>False</td>\n",
              "      <td>['Ar condicionado', 'Sensor de estacionamento'...</td>\n",
              "      <td>85311.40</td>\n",
              "    </tr>\n",
              "    <tr>\n",
              "      <th>Aston Martin Virage</th>\n",
              "      <td>Motor Diesel</td>\n",
              "      <td>2019</td>\n",
              "      <td>NaN</td>\n",
              "      <td>True</td>\n",
              "      <td>['Travas elétricas', 'Controle de tração', 'Câ...</td>\n",
              "      <td>97290.18</td>\n",
              "    </tr>\n",
              "    <tr>\n",
              "      <th>Sandero</th>\n",
              "      <td>Motor Diesel</td>\n",
              "      <td>2015</td>\n",
              "      <td>34783.0</td>\n",
              "      <td>False</td>\n",
              "      <td>['Piloto automático', 'Teto panorâmico', 'Câmb...</td>\n",
              "      <td>112350.61</td>\n",
              "    </tr>\n",
              "    <tr>\n",
              "      <th>XKR</th>\n",
              "      <td>Motor Diesel</td>\n",
              "      <td>1996</td>\n",
              "      <td>85127.0</td>\n",
              "      <td>False</td>\n",
              "      <td>['Controle de tração', 'Ar condicionado', 'Tra...</td>\n",
              "      <td>54263.16</td>\n",
              "    </tr>\n",
              "    <tr>\n",
              "      <th>X5</th>\n",
              "      <td>Motor Diesel</td>\n",
              "      <td>2002</td>\n",
              "      <td>13606.0</td>\n",
              "      <td>False</td>\n",
              "      <td>['Controle de tração', 'Piloto automático', 'T...</td>\n",
              "      <td>62041.32</td>\n",
              "    </tr>\n",
              "    <tr>\n",
              "      <th>Dodge Dakota</th>\n",
              "      <td>Motor Diesel</td>\n",
              "      <td>1993</td>\n",
              "      <td>71544.0</td>\n",
              "      <td>False</td>\n",
              "      <td>['Controle de tração', 'Sensor de estacionamen...</td>\n",
              "      <td>141083.35</td>\n",
              "    </tr>\n",
              "    <tr>\n",
              "      <th>i30 CW</th>\n",
              "      <td>Motor Diesel</td>\n",
              "      <td>2015</td>\n",
              "      <td>8497.0</td>\n",
              "      <td>False</td>\n",
              "      <td>['Sensor de chuva', 'Vidros elétricos', 'Contr...</td>\n",
              "      <td>73311.75</td>\n",
              "    </tr>\n",
              "    <tr>\n",
              "      <th>Série 7 Sedã</th>\n",
              "      <td>Motor Diesel</td>\n",
              "      <td>2019</td>\n",
              "      <td>NaN</td>\n",
              "      <td>True</td>\n",
              "      <td>['Vidros elétricos', 'Travas elétricas', 'Roda...</td>\n",
              "      <td>67539.79</td>\n",
              "    </tr>\n",
              "    <tr>\n",
              "      <th>V60</th>\n",
              "      <td>Motor Diesel</td>\n",
              "      <td>2004</td>\n",
              "      <td>91840.0</td>\n",
              "      <td>False</td>\n",
              "      <td>['Rodas de liga', 'Sensor crepuscular', 'Ar co...</td>\n",
              "      <td>114728.74</td>\n",
              "    </tr>\n",
              "    <tr>\n",
              "      <th>Aston Martin DB5</th>\n",
              "      <td>Motor Diesel</td>\n",
              "      <td>1996</td>\n",
              "      <td>7685.0</td>\n",
              "      <td>False</td>\n",
              "      <td>['Ar condicionado', '4 X 4', 'Câmbio automátic...</td>\n",
              "      <td>122110.90</td>\n",
              "    </tr>\n",
              "  </tbody>\n",
              "</table>\n",
              "</div>"
            ],
            "text/plain": [
              "                              Motor  ...      Valor\n",
              "Nome                                 ...           \n",
              "Passat                 Motor Diesel  ...  106161.94\n",
              "Effa Hafei Picape Baú  Motor Diesel  ...  125684.65\n",
              "Sorento                Motor Diesel  ...   81399.35\n",
              "New Fiesta Hatch       Motor Diesel  ...   66007.16\n",
              "Kangoo Express         Motor Diesel  ...  146716.91\n",
              "Fit                    Motor Diesel  ...   77836.23\n",
              "Cielo Hatch            Motor Diesel  ...  145197.70\n",
              "Symbol                 Motor Diesel  ...  133030.60\n",
              "A4 Sedan               Motor Diesel  ...   96369.04\n",
              "A4 Avant               Motor Diesel  ...  138946.88\n",
              "Silver Shadow          Motor Diesel  ...  143568.22\n",
              "Camry                  Motor Diesel  ...  138597.27\n",
              "Clio                   Motor Diesel  ...  111130.33\n",
              "Série 3 M3 Coupé       Motor Diesel  ...   69219.89\n",
              "Gallardo LP 560 – 4    Motor Diesel  ...  144118.91\n",
              "Chana Utility          Motor Diesel  ...  132662.32\n",
              "TT Roadster            Motor Diesel  ...   85311.40\n",
              "Aston Martin Virage    Motor Diesel  ...   97290.18\n",
              "Sandero                Motor Diesel  ...  112350.61\n",
              "XKR                    Motor Diesel  ...   54263.16\n",
              "X5                     Motor Diesel  ...   62041.32\n",
              "Dodge Dakota           Motor Diesel  ...  141083.35\n",
              "i30 CW                 Motor Diesel  ...   73311.75\n",
              "Série 7 Sedã           Motor Diesel  ...   67539.79\n",
              "V60                    Motor Diesel  ...  114728.74\n",
              "Aston Martin DB5       Motor Diesel  ...  122110.90\n",
              "\n",
              "[26 rows x 6 columns]"
            ]
          },
          "metadata": {},
          "execution_count": 24
        }
      ]
    },
    {
      "cell_type": "code",
      "metadata": {
        "scrolled": true,
        "id": "OzXC2M40D1BY",
        "colab": {
          "base_uri": "https://localhost:8080/",
          "height": 235
        },
        "outputId": "9b5c1866-6030-4ed1-ce4c-6d380c419946"
      },
      "source": [
        "dataset[(dataset.Motor == 'Motor Diesel') & (dataset.Zero_km ==True)]"
      ],
      "execution_count": null,
      "outputs": [
        {
          "output_type": "execute_result",
          "data": {
            "text/html": [
              "<div>\n",
              "<style scoped>\n",
              "    .dataframe tbody tr th:only-of-type {\n",
              "        vertical-align: middle;\n",
              "    }\n",
              "\n",
              "    .dataframe tbody tr th {\n",
              "        vertical-align: top;\n",
              "    }\n",
              "\n",
              "    .dataframe thead th {\n",
              "        text-align: right;\n",
              "    }\n",
              "</style>\n",
              "<table border=\"1\" class=\"dataframe\">\n",
              "  <thead>\n",
              "    <tr style=\"text-align: right;\">\n",
              "      <th></th>\n",
              "      <th>Motor</th>\n",
              "      <th>Ano</th>\n",
              "      <th>Quilometragem</th>\n",
              "      <th>Zero_km</th>\n",
              "      <th>Acessórios</th>\n",
              "      <th>Valor</th>\n",
              "    </tr>\n",
              "    <tr>\n",
              "      <th>Nome</th>\n",
              "      <th></th>\n",
              "      <th></th>\n",
              "      <th></th>\n",
              "      <th></th>\n",
              "      <th></th>\n",
              "      <th></th>\n",
              "    </tr>\n",
              "  </thead>\n",
              "  <tbody>\n",
              "    <tr>\n",
              "      <th>Sorento</th>\n",
              "      <td>Motor Diesel</td>\n",
              "      <td>2019</td>\n",
              "      <td>NaN</td>\n",
              "      <td>True</td>\n",
              "      <td>['Sensor de chuva', 'Câmera de estacionamento'...</td>\n",
              "      <td>81399.35</td>\n",
              "    </tr>\n",
              "    <tr>\n",
              "      <th>Cielo Hatch</th>\n",
              "      <td>Motor Diesel</td>\n",
              "      <td>2019</td>\n",
              "      <td>NaN</td>\n",
              "      <td>True</td>\n",
              "      <td>['Painel digital', 'Central multimídia', 'Câme...</td>\n",
              "      <td>145197.70</td>\n",
              "    </tr>\n",
              "    <tr>\n",
              "      <th>Camry</th>\n",
              "      <td>Motor Diesel</td>\n",
              "      <td>2019</td>\n",
              "      <td>NaN</td>\n",
              "      <td>True</td>\n",
              "      <td>['Travas elétricas', 'Rodas de liga', 'Sensor ...</td>\n",
              "      <td>138597.27</td>\n",
              "    </tr>\n",
              "    <tr>\n",
              "      <th>Aston Martin Virage</th>\n",
              "      <td>Motor Diesel</td>\n",
              "      <td>2019</td>\n",
              "      <td>NaN</td>\n",
              "      <td>True</td>\n",
              "      <td>['Travas elétricas', 'Controle de tração', 'Câ...</td>\n",
              "      <td>97290.18</td>\n",
              "    </tr>\n",
              "    <tr>\n",
              "      <th>Série 7 Sedã</th>\n",
              "      <td>Motor Diesel</td>\n",
              "      <td>2019</td>\n",
              "      <td>NaN</td>\n",
              "      <td>True</td>\n",
              "      <td>['Vidros elétricos', 'Travas elétricas', 'Roda...</td>\n",
              "      <td>67539.79</td>\n",
              "    </tr>\n",
              "  </tbody>\n",
              "</table>\n",
              "</div>"
            ],
            "text/plain": [
              "                            Motor  ...      Valor\n",
              "Nome                               ...           \n",
              "Sorento              Motor Diesel  ...   81399.35\n",
              "Cielo Hatch          Motor Diesel  ...  145197.70\n",
              "Camry                Motor Diesel  ...  138597.27\n",
              "Aston Martin Virage  Motor Diesel  ...   97290.18\n",
              "Série 7 Sedã         Motor Diesel  ...   67539.79\n",
              "\n",
              "[5 rows x 6 columns]"
            ]
          },
          "metadata": {},
          "execution_count": 26
        }
      ]
    },
    {
      "cell_type": "code",
      "metadata": {
        "colab": {
          "base_uri": "https://localhost:8080/"
        },
        "id": "Zj-ow_40DuI3",
        "outputId": "c3b34941-041b-40ad-e232-7196f10cfd38"
      },
      "source": [
        "(dataset.Motor == 'Motor Diesel') & (dataset.Zero_km ==True)"
      ],
      "execution_count": null,
      "outputs": [
        {
          "output_type": "execute_result",
          "data": {
            "text/plain": [
              "Nome\n",
              "Jetta Variant            False\n",
              "Passat                   False\n",
              "Crossfox                 False\n",
              "DS5                      False\n",
              "Aston Martin DB4         False\n",
              "                         ...  \n",
              "Phantom 2013             False\n",
              "Cadillac Ciel concept    False\n",
              "Classe GLK               False\n",
              "Aston Martin DB5         False\n",
              "Macan                    False\n",
              "Length: 258, dtype: bool"
            ]
          },
          "metadata": {},
          "execution_count": 27
        }
      ]
    },
    {
      "cell_type": "markdown",
      "metadata": {
        "id": "_XKXcWO-D1BY"
      },
      "source": [
        "### Utilizando o método query"
      ]
    },
    {
      "cell_type": "code",
      "metadata": {
        "id": "AB9JirSoD1BY",
        "colab": {
          "base_uri": "https://localhost:8080/",
          "height": 235
        },
        "outputId": "73c833fa-e224-48c5-b736-2840b3c5ae7b"
      },
      "source": [
        "'''Se tiver uma string dentro de outra string e a primeira estiver com aspas simples\n",
        "a segunda deverá, obrigatóriamente, conter aspas duplas'''\n",
        "dataset.query('Motor ==\"Motor Diesel\" and Zero_km == True')"
      ],
      "execution_count": null,
      "outputs": [
        {
          "output_type": "execute_result",
          "data": {
            "text/html": [
              "<div>\n",
              "<style scoped>\n",
              "    .dataframe tbody tr th:only-of-type {\n",
              "        vertical-align: middle;\n",
              "    }\n",
              "\n",
              "    .dataframe tbody tr th {\n",
              "        vertical-align: top;\n",
              "    }\n",
              "\n",
              "    .dataframe thead th {\n",
              "        text-align: right;\n",
              "    }\n",
              "</style>\n",
              "<table border=\"1\" class=\"dataframe\">\n",
              "  <thead>\n",
              "    <tr style=\"text-align: right;\">\n",
              "      <th></th>\n",
              "      <th>Motor</th>\n",
              "      <th>Ano</th>\n",
              "      <th>Quilometragem</th>\n",
              "      <th>Zero_km</th>\n",
              "      <th>Acessórios</th>\n",
              "      <th>Valor</th>\n",
              "    </tr>\n",
              "    <tr>\n",
              "      <th>Nome</th>\n",
              "      <th></th>\n",
              "      <th></th>\n",
              "      <th></th>\n",
              "      <th></th>\n",
              "      <th></th>\n",
              "      <th></th>\n",
              "    </tr>\n",
              "  </thead>\n",
              "  <tbody>\n",
              "    <tr>\n",
              "      <th>Sorento</th>\n",
              "      <td>Motor Diesel</td>\n",
              "      <td>2019</td>\n",
              "      <td>NaN</td>\n",
              "      <td>True</td>\n",
              "      <td>['Sensor de chuva', 'Câmera de estacionamento'...</td>\n",
              "      <td>81399.35</td>\n",
              "    </tr>\n",
              "    <tr>\n",
              "      <th>Cielo Hatch</th>\n",
              "      <td>Motor Diesel</td>\n",
              "      <td>2019</td>\n",
              "      <td>NaN</td>\n",
              "      <td>True</td>\n",
              "      <td>['Painel digital', 'Central multimídia', 'Câme...</td>\n",
              "      <td>145197.70</td>\n",
              "    </tr>\n",
              "    <tr>\n",
              "      <th>Camry</th>\n",
              "      <td>Motor Diesel</td>\n",
              "      <td>2019</td>\n",
              "      <td>NaN</td>\n",
              "      <td>True</td>\n",
              "      <td>['Travas elétricas', 'Rodas de liga', 'Sensor ...</td>\n",
              "      <td>138597.27</td>\n",
              "    </tr>\n",
              "    <tr>\n",
              "      <th>Aston Martin Virage</th>\n",
              "      <td>Motor Diesel</td>\n",
              "      <td>2019</td>\n",
              "      <td>NaN</td>\n",
              "      <td>True</td>\n",
              "      <td>['Travas elétricas', 'Controle de tração', 'Câ...</td>\n",
              "      <td>97290.18</td>\n",
              "    </tr>\n",
              "    <tr>\n",
              "      <th>Série 7 Sedã</th>\n",
              "      <td>Motor Diesel</td>\n",
              "      <td>2019</td>\n",
              "      <td>NaN</td>\n",
              "      <td>True</td>\n",
              "      <td>['Vidros elétricos', 'Travas elétricas', 'Roda...</td>\n",
              "      <td>67539.79</td>\n",
              "    </tr>\n",
              "  </tbody>\n",
              "</table>\n",
              "</div>"
            ],
            "text/plain": [
              "                            Motor  ...      Valor\n",
              "Nome                               ...           \n",
              "Sorento              Motor Diesel  ...   81399.35\n",
              "Cielo Hatch          Motor Diesel  ...  145197.70\n",
              "Camry                Motor Diesel  ...  138597.27\n",
              "Aston Martin Virage  Motor Diesel  ...   97290.18\n",
              "Série 7 Sedã         Motor Diesel  ...   67539.79\n",
              "\n",
              "[5 rows x 6 columns]"
            ]
          },
          "metadata": {},
          "execution_count": 28
        }
      ]
    },
    {
      "cell_type": "markdown",
      "metadata": {
        "id": "ciJ4dw_FD1BZ"
      },
      "source": [
        "# 5.4 Iterando com DataFrames"
      ]
    },
    {
      "cell_type": "code",
      "metadata": {
        "id": "TKAB-g5KD1BZ",
        "colab": {
          "base_uri": "https://localhost:8080/",
          "height": 235
        },
        "outputId": "42fb5e28-57d3-494e-e4c8-d4813ee1e40d"
      },
      "source": [
        "dataset.head()"
      ],
      "execution_count": null,
      "outputs": [
        {
          "output_type": "execute_result",
          "data": {
            "text/html": [
              "<div>\n",
              "<style scoped>\n",
              "    .dataframe tbody tr th:only-of-type {\n",
              "        vertical-align: middle;\n",
              "    }\n",
              "\n",
              "    .dataframe tbody tr th {\n",
              "        vertical-align: top;\n",
              "    }\n",
              "\n",
              "    .dataframe thead th {\n",
              "        text-align: right;\n",
              "    }\n",
              "</style>\n",
              "<table border=\"1\" class=\"dataframe\">\n",
              "  <thead>\n",
              "    <tr style=\"text-align: right;\">\n",
              "      <th></th>\n",
              "      <th>Motor</th>\n",
              "      <th>Ano</th>\n",
              "      <th>Quilometragem</th>\n",
              "      <th>Zero_km</th>\n",
              "      <th>Acessórios</th>\n",
              "      <th>Valor</th>\n",
              "    </tr>\n",
              "    <tr>\n",
              "      <th>Nome</th>\n",
              "      <th></th>\n",
              "      <th></th>\n",
              "      <th></th>\n",
              "      <th></th>\n",
              "      <th></th>\n",
              "      <th></th>\n",
              "    </tr>\n",
              "  </thead>\n",
              "  <tbody>\n",
              "    <tr>\n",
              "      <th>Jetta Variant</th>\n",
              "      <td>Motor 4.0 Turbo</td>\n",
              "      <td>2003</td>\n",
              "      <td>44410.0</td>\n",
              "      <td>False</td>\n",
              "      <td>['Rodas de liga', 'Travas elétricas', 'Piloto ...</td>\n",
              "      <td>88078.64</td>\n",
              "    </tr>\n",
              "    <tr>\n",
              "      <th>Passat</th>\n",
              "      <td>Motor Diesel</td>\n",
              "      <td>1991</td>\n",
              "      <td>5712.0</td>\n",
              "      <td>False</td>\n",
              "      <td>['Central multimídia', 'Teto panorâmico', 'Fre...</td>\n",
              "      <td>106161.94</td>\n",
              "    </tr>\n",
              "    <tr>\n",
              "      <th>Crossfox</th>\n",
              "      <td>Motor Diesel V8</td>\n",
              "      <td>1990</td>\n",
              "      <td>37123.0</td>\n",
              "      <td>False</td>\n",
              "      <td>['Piloto automático', 'Controle de estabilidad...</td>\n",
              "      <td>72832.16</td>\n",
              "    </tr>\n",
              "    <tr>\n",
              "      <th>DS5</th>\n",
              "      <td>Motor 2.4 Turbo</td>\n",
              "      <td>2019</td>\n",
              "      <td>NaN</td>\n",
              "      <td>True</td>\n",
              "      <td>['Travas elétricas', '4 X 4', 'Vidros elétrico...</td>\n",
              "      <td>124549.07</td>\n",
              "    </tr>\n",
              "    <tr>\n",
              "      <th>Aston Martin DB4</th>\n",
              "      <td>Motor 2.4 Turbo</td>\n",
              "      <td>2006</td>\n",
              "      <td>25757.0</td>\n",
              "      <td>False</td>\n",
              "      <td>['Rodas de liga', '4 X 4', 'Central multimídia...</td>\n",
              "      <td>92612.10</td>\n",
              "    </tr>\n",
              "  </tbody>\n",
              "</table>\n",
              "</div>"
            ],
            "text/plain": [
              "                            Motor  ...      Valor\n",
              "Nome                               ...           \n",
              "Jetta Variant     Motor 4.0 Turbo  ...   88078.64\n",
              "Passat               Motor Diesel  ...  106161.94\n",
              "Crossfox          Motor Diesel V8  ...   72832.16\n",
              "DS5               Motor 2.4 Turbo  ...  124549.07\n",
              "Aston Martin DB4  Motor 2.4 Turbo  ...   92612.10\n",
              "\n",
              "[5 rows x 6 columns]"
            ]
          },
          "metadata": {},
          "execution_count": 29
        }
      ]
    },
    {
      "cell_type": "code",
      "metadata": {
        "id": "eFTNtPRWD1Ba",
        "colab": {
          "base_uri": "https://localhost:8080/"
        },
        "outputId": "f830a105-3c80-44a4-bab0-b52385e7e3de"
      },
      "source": [
        "# rótulo de colunas\n",
        "for item in dataset:\n",
        "  print(item)"
      ],
      "execution_count": null,
      "outputs": [
        {
          "output_type": "stream",
          "name": "stdout",
          "text": [
            "Motor\n",
            "Ano\n",
            "Quilometragem\n",
            "Zero_km\n",
            "Acessórios\n",
            "Valor\n"
          ]
        }
      ]
    },
    {
      "cell_type": "code",
      "metadata": {
        "id": "SEnMbL1vFayy"
      },
      "source": [
        "list(dataset.iterrows())"
      ],
      "execution_count": null,
      "outputs": []
    },
    {
      "cell_type": "code",
      "metadata": {
        "colab": {
          "base_uri": "https://localhost:8080/",
          "height": 501
        },
        "id": "eCtggAWpF6Vl",
        "outputId": "bae647d4-5f71-4877-b83d-0c324bd43504"
      },
      "source": [
        "# Criando a coluna de km_media\n",
        "for index, row in dataset.iterrows():\n",
        "  if(2019 - row['Ano'] != 0):\n",
        "    # Cria a coluna de km_media aqui.das\n",
        "    dataset.loc[index, 'km_media'] = row['Quilometragem'] / (2019 - row['Ano'])\n",
        "  else:\n",
        "    dataset.loc[index,'km_media'] = 0\n",
        "\n",
        "dataset"
      ],
      "execution_count": null,
      "outputs": [
        {
          "output_type": "execute_result",
          "data": {
            "text/html": [
              "<div>\n",
              "<style scoped>\n",
              "    .dataframe tbody tr th:only-of-type {\n",
              "        vertical-align: middle;\n",
              "    }\n",
              "\n",
              "    .dataframe tbody tr th {\n",
              "        vertical-align: top;\n",
              "    }\n",
              "\n",
              "    .dataframe thead th {\n",
              "        text-align: right;\n",
              "    }\n",
              "</style>\n",
              "<table border=\"1\" class=\"dataframe\">\n",
              "  <thead>\n",
              "    <tr style=\"text-align: right;\">\n",
              "      <th></th>\n",
              "      <th>Motor</th>\n",
              "      <th>Ano</th>\n",
              "      <th>Quilometragem</th>\n",
              "      <th>Zero_km</th>\n",
              "      <th>Acessórios</th>\n",
              "      <th>Valor</th>\n",
              "      <th>km_media</th>\n",
              "    </tr>\n",
              "    <tr>\n",
              "      <th>Nome</th>\n",
              "      <th></th>\n",
              "      <th></th>\n",
              "      <th></th>\n",
              "      <th></th>\n",
              "      <th></th>\n",
              "      <th></th>\n",
              "      <th></th>\n",
              "    </tr>\n",
              "  </thead>\n",
              "  <tbody>\n",
              "    <tr>\n",
              "      <th>Jetta Variant</th>\n",
              "      <td>Motor 4.0 Turbo</td>\n",
              "      <td>2003</td>\n",
              "      <td>44410.0</td>\n",
              "      <td>False</td>\n",
              "      <td>['Rodas de liga', 'Travas elétricas', 'Piloto ...</td>\n",
              "      <td>88078.64</td>\n",
              "      <td>2775.625000</td>\n",
              "    </tr>\n",
              "    <tr>\n",
              "      <th>Passat</th>\n",
              "      <td>Motor Diesel</td>\n",
              "      <td>1991</td>\n",
              "      <td>5712.0</td>\n",
              "      <td>False</td>\n",
              "      <td>['Central multimídia', 'Teto panorâmico', 'Fre...</td>\n",
              "      <td>106161.94</td>\n",
              "      <td>204.000000</td>\n",
              "    </tr>\n",
              "    <tr>\n",
              "      <th>Crossfox</th>\n",
              "      <td>Motor Diesel V8</td>\n",
              "      <td>1990</td>\n",
              "      <td>37123.0</td>\n",
              "      <td>False</td>\n",
              "      <td>['Piloto automático', 'Controle de estabilidad...</td>\n",
              "      <td>72832.16</td>\n",
              "      <td>1280.103448</td>\n",
              "    </tr>\n",
              "    <tr>\n",
              "      <th>DS5</th>\n",
              "      <td>Motor 2.4 Turbo</td>\n",
              "      <td>2019</td>\n",
              "      <td>NaN</td>\n",
              "      <td>True</td>\n",
              "      <td>['Travas elétricas', '4 X 4', 'Vidros elétrico...</td>\n",
              "      <td>124549.07</td>\n",
              "      <td>0.000000</td>\n",
              "    </tr>\n",
              "    <tr>\n",
              "      <th>Aston Martin DB4</th>\n",
              "      <td>Motor 2.4 Turbo</td>\n",
              "      <td>2006</td>\n",
              "      <td>25757.0</td>\n",
              "      <td>False</td>\n",
              "      <td>['Rodas de liga', '4 X 4', 'Central multimídia...</td>\n",
              "      <td>92612.10</td>\n",
              "      <td>1981.307692</td>\n",
              "    </tr>\n",
              "    <tr>\n",
              "      <th>...</th>\n",
              "      <td>...</td>\n",
              "      <td>...</td>\n",
              "      <td>...</td>\n",
              "      <td>...</td>\n",
              "      <td>...</td>\n",
              "      <td>...</td>\n",
              "      <td>...</td>\n",
              "    </tr>\n",
              "    <tr>\n",
              "      <th>Phantom 2013</th>\n",
              "      <td>Motor V8</td>\n",
              "      <td>2014</td>\n",
              "      <td>27505.0</td>\n",
              "      <td>False</td>\n",
              "      <td>['Controle de estabilidade', 'Piloto automátic...</td>\n",
              "      <td>51759.58</td>\n",
              "      <td>5501.000000</td>\n",
              "    </tr>\n",
              "    <tr>\n",
              "      <th>Cadillac Ciel concept</th>\n",
              "      <td>Motor V8</td>\n",
              "      <td>1991</td>\n",
              "      <td>29981.0</td>\n",
              "      <td>False</td>\n",
              "      <td>['Bancos de couro', 'Painel digital', 'Sensor ...</td>\n",
              "      <td>51667.06</td>\n",
              "      <td>1070.750000</td>\n",
              "    </tr>\n",
              "    <tr>\n",
              "      <th>Classe GLK</th>\n",
              "      <td>Motor 5.0 V8 Bi-Turbo</td>\n",
              "      <td>2002</td>\n",
              "      <td>52637.0</td>\n",
              "      <td>False</td>\n",
              "      <td>['Rodas de liga', 'Controle de tração', 'Câmbi...</td>\n",
              "      <td>68934.03</td>\n",
              "      <td>3096.294118</td>\n",
              "    </tr>\n",
              "    <tr>\n",
              "      <th>Aston Martin DB5</th>\n",
              "      <td>Motor Diesel</td>\n",
              "      <td>1996</td>\n",
              "      <td>7685.0</td>\n",
              "      <td>False</td>\n",
              "      <td>['Ar condicionado', '4 X 4', 'Câmbio automátic...</td>\n",
              "      <td>122110.90</td>\n",
              "      <td>334.130435</td>\n",
              "    </tr>\n",
              "    <tr>\n",
              "      <th>Macan</th>\n",
              "      <td>Motor Diesel V6</td>\n",
              "      <td>1992</td>\n",
              "      <td>50188.0</td>\n",
              "      <td>False</td>\n",
              "      <td>['Central multimídia', 'Teto panorâmico', 'Vid...</td>\n",
              "      <td>90381.47</td>\n",
              "      <td>1858.814815</td>\n",
              "    </tr>\n",
              "  </tbody>\n",
              "</table>\n",
              "<p>258 rows × 7 columns</p>\n",
              "</div>"
            ],
            "text/plain": [
              "                                       Motor   Ano  ...      Valor     km_media\n",
              "Nome                                                ...                        \n",
              "Jetta Variant                Motor 4.0 Turbo  2003  ...   88078.64  2775.625000\n",
              "Passat                          Motor Diesel  1991  ...  106161.94   204.000000\n",
              "Crossfox                     Motor Diesel V8  1990  ...   72832.16  1280.103448\n",
              "DS5                          Motor 2.4 Turbo  2019  ...  124549.07     0.000000\n",
              "Aston Martin DB4             Motor 2.4 Turbo  2006  ...   92612.10  1981.307692\n",
              "...                                      ...   ...  ...        ...          ...\n",
              "Phantom 2013                        Motor V8  2014  ...   51759.58  5501.000000\n",
              "Cadillac Ciel concept               Motor V8  1991  ...   51667.06  1070.750000\n",
              "Classe GLK             Motor 5.0 V8 Bi-Turbo  2002  ...   68934.03  3096.294118\n",
              "Aston Martin DB5                Motor Diesel  1996  ...  122110.90   334.130435\n",
              "Macan                        Motor Diesel V6  1992  ...   90381.47  1858.814815\n",
              "\n",
              "[258 rows x 7 columns]"
            ]
          },
          "metadata": {},
          "execution_count": 34
        }
      ]
    },
    {
      "cell_type": "markdown",
      "metadata": {
        "id": "HnUzHFQPD1Ba"
      },
      "source": [
        "# 5.5 Tratamento de dados"
      ]
    },
    {
      "cell_type": "code",
      "metadata": {
        "id": "FRxBWoBGD1Ba",
        "colab": {
          "base_uri": "https://localhost:8080/",
          "height": 501
        },
        "outputId": "cc5deaf4-2f60-4e85-a613-7380af740bee"
      },
      "source": [
        "dataset"
      ],
      "execution_count": null,
      "outputs": [
        {
          "output_type": "execute_result",
          "data": {
            "text/html": [
              "<div>\n",
              "<style scoped>\n",
              "    .dataframe tbody tr th:only-of-type {\n",
              "        vertical-align: middle;\n",
              "    }\n",
              "\n",
              "    .dataframe tbody tr th {\n",
              "        vertical-align: top;\n",
              "    }\n",
              "\n",
              "    .dataframe thead th {\n",
              "        text-align: right;\n",
              "    }\n",
              "</style>\n",
              "<table border=\"1\" class=\"dataframe\">\n",
              "  <thead>\n",
              "    <tr style=\"text-align: right;\">\n",
              "      <th></th>\n",
              "      <th>Motor</th>\n",
              "      <th>Ano</th>\n",
              "      <th>Quilometragem</th>\n",
              "      <th>Zero_km</th>\n",
              "      <th>Acessórios</th>\n",
              "      <th>Valor</th>\n",
              "      <th>km_media</th>\n",
              "    </tr>\n",
              "    <tr>\n",
              "      <th>Nome</th>\n",
              "      <th></th>\n",
              "      <th></th>\n",
              "      <th></th>\n",
              "      <th></th>\n",
              "      <th></th>\n",
              "      <th></th>\n",
              "      <th></th>\n",
              "    </tr>\n",
              "  </thead>\n",
              "  <tbody>\n",
              "    <tr>\n",
              "      <th>Jetta Variant</th>\n",
              "      <td>Motor 4.0 Turbo</td>\n",
              "      <td>2003</td>\n",
              "      <td>44410.0</td>\n",
              "      <td>False</td>\n",
              "      <td>['Rodas de liga', 'Travas elétricas', 'Piloto ...</td>\n",
              "      <td>88078.64</td>\n",
              "      <td>2775.625000</td>\n",
              "    </tr>\n",
              "    <tr>\n",
              "      <th>Passat</th>\n",
              "      <td>Motor Diesel</td>\n",
              "      <td>1991</td>\n",
              "      <td>5712.0</td>\n",
              "      <td>False</td>\n",
              "      <td>['Central multimídia', 'Teto panorâmico', 'Fre...</td>\n",
              "      <td>106161.94</td>\n",
              "      <td>204.000000</td>\n",
              "    </tr>\n",
              "    <tr>\n",
              "      <th>Crossfox</th>\n",
              "      <td>Motor Diesel V8</td>\n",
              "      <td>1990</td>\n",
              "      <td>37123.0</td>\n",
              "      <td>False</td>\n",
              "      <td>['Piloto automático', 'Controle de estabilidad...</td>\n",
              "      <td>72832.16</td>\n",
              "      <td>1280.103448</td>\n",
              "    </tr>\n",
              "    <tr>\n",
              "      <th>DS5</th>\n",
              "      <td>Motor 2.4 Turbo</td>\n",
              "      <td>2019</td>\n",
              "      <td>NaN</td>\n",
              "      <td>True</td>\n",
              "      <td>['Travas elétricas', '4 X 4', 'Vidros elétrico...</td>\n",
              "      <td>124549.07</td>\n",
              "      <td>0.000000</td>\n",
              "    </tr>\n",
              "    <tr>\n",
              "      <th>Aston Martin DB4</th>\n",
              "      <td>Motor 2.4 Turbo</td>\n",
              "      <td>2006</td>\n",
              "      <td>25757.0</td>\n",
              "      <td>False</td>\n",
              "      <td>['Rodas de liga', '4 X 4', 'Central multimídia...</td>\n",
              "      <td>92612.10</td>\n",
              "      <td>1981.307692</td>\n",
              "    </tr>\n",
              "    <tr>\n",
              "      <th>...</th>\n",
              "      <td>...</td>\n",
              "      <td>...</td>\n",
              "      <td>...</td>\n",
              "      <td>...</td>\n",
              "      <td>...</td>\n",
              "      <td>...</td>\n",
              "      <td>...</td>\n",
              "    </tr>\n",
              "    <tr>\n",
              "      <th>Phantom 2013</th>\n",
              "      <td>Motor V8</td>\n",
              "      <td>2014</td>\n",
              "      <td>27505.0</td>\n",
              "      <td>False</td>\n",
              "      <td>['Controle de estabilidade', 'Piloto automátic...</td>\n",
              "      <td>51759.58</td>\n",
              "      <td>5501.000000</td>\n",
              "    </tr>\n",
              "    <tr>\n",
              "      <th>Cadillac Ciel concept</th>\n",
              "      <td>Motor V8</td>\n",
              "      <td>1991</td>\n",
              "      <td>29981.0</td>\n",
              "      <td>False</td>\n",
              "      <td>['Bancos de couro', 'Painel digital', 'Sensor ...</td>\n",
              "      <td>51667.06</td>\n",
              "      <td>1070.750000</td>\n",
              "    </tr>\n",
              "    <tr>\n",
              "      <th>Classe GLK</th>\n",
              "      <td>Motor 5.0 V8 Bi-Turbo</td>\n",
              "      <td>2002</td>\n",
              "      <td>52637.0</td>\n",
              "      <td>False</td>\n",
              "      <td>['Rodas de liga', 'Controle de tração', 'Câmbi...</td>\n",
              "      <td>68934.03</td>\n",
              "      <td>3096.294118</td>\n",
              "    </tr>\n",
              "    <tr>\n",
              "      <th>Aston Martin DB5</th>\n",
              "      <td>Motor Diesel</td>\n",
              "      <td>1996</td>\n",
              "      <td>7685.0</td>\n",
              "      <td>False</td>\n",
              "      <td>['Ar condicionado', '4 X 4', 'Câmbio automátic...</td>\n",
              "      <td>122110.90</td>\n",
              "      <td>334.130435</td>\n",
              "    </tr>\n",
              "    <tr>\n",
              "      <th>Macan</th>\n",
              "      <td>Motor Diesel V6</td>\n",
              "      <td>1992</td>\n",
              "      <td>50188.0</td>\n",
              "      <td>False</td>\n",
              "      <td>['Central multimídia', 'Teto panorâmico', 'Vid...</td>\n",
              "      <td>90381.47</td>\n",
              "      <td>1858.814815</td>\n",
              "    </tr>\n",
              "  </tbody>\n",
              "</table>\n",
              "<p>258 rows × 7 columns</p>\n",
              "</div>"
            ],
            "text/plain": [
              "                                       Motor   Ano  ...      Valor     km_media\n",
              "Nome                                                ...                        \n",
              "Jetta Variant                Motor 4.0 Turbo  2003  ...   88078.64  2775.625000\n",
              "Passat                          Motor Diesel  1991  ...  106161.94   204.000000\n",
              "Crossfox                     Motor Diesel V8  1990  ...   72832.16  1280.103448\n",
              "DS5                          Motor 2.4 Turbo  2019  ...  124549.07     0.000000\n",
              "Aston Martin DB4             Motor 2.4 Turbo  2006  ...   92612.10  1981.307692\n",
              "...                                      ...   ...  ...        ...          ...\n",
              "Phantom 2013                        Motor V8  2014  ...   51759.58  5501.000000\n",
              "Cadillac Ciel concept               Motor V8  1991  ...   51667.06  1070.750000\n",
              "Classe GLK             Motor 5.0 V8 Bi-Turbo  2002  ...   68934.03  3096.294118\n",
              "Aston Martin DB5                Motor Diesel  1996  ...  122110.90   334.130435\n",
              "Macan                        Motor Diesel V6  1992  ...   90381.47  1858.814815\n",
              "\n",
              "[258 rows x 7 columns]"
            ]
          },
          "metadata": {},
          "execution_count": 35
        }
      ]
    },
    {
      "cell_type": "code",
      "metadata": {
        "id": "HHSwH0ZaD1Bc",
        "colab": {
          "base_uri": "https://localhost:8080/"
        },
        "outputId": "a483b322-c5d6-4b15-e063-5ea7f3c34600"
      },
      "source": [
        "dataset.info()"
      ],
      "execution_count": null,
      "outputs": [
        {
          "output_type": "stream",
          "name": "stdout",
          "text": [
            "<class 'pandas.core.frame.DataFrame'>\n",
            "Index: 258 entries, Jetta Variant to Macan\n",
            "Data columns (total 7 columns):\n",
            " #   Column         Non-Null Count  Dtype  \n",
            "---  ------         --------------  -----  \n",
            " 0   Motor          258 non-null    object \n",
            " 1   Ano            258 non-null    int64  \n",
            " 2   Quilometragem  197 non-null    float64\n",
            " 3   Zero_km        258 non-null    bool   \n",
            " 4   Acessórios     258 non-null    object \n",
            " 5   Valor          258 non-null    float64\n",
            " 6   km_media       258 non-null    float64\n",
            "dtypes: bool(1), float64(3), int64(1), object(2)\n",
            "memory usage: 24.4+ KB\n"
          ]
        }
      ]
    },
    {
      "cell_type": "code",
      "metadata": {
        "scrolled": true,
        "id": "G27pxgZ5D1Bd",
        "colab": {
          "base_uri": "https://localhost:8080/"
        },
        "outputId": "d7fe909c-04c7-42d4-b1bf-23d8c2008520"
      },
      "source": [
        "dataset.Quilometragem.isna()"
      ],
      "execution_count": null,
      "outputs": [
        {
          "output_type": "execute_result",
          "data": {
            "text/plain": [
              "Nome\n",
              "Jetta Variant            False\n",
              "Passat                   False\n",
              "Crossfox                 False\n",
              "DS5                       True\n",
              "Aston Martin DB4         False\n",
              "                         ...  \n",
              "Phantom 2013             False\n",
              "Cadillac Ciel concept    False\n",
              "Classe GLK               False\n",
              "Aston Martin DB5         False\n",
              "Macan                    False\n",
              "Name: Quilometragem, Length: 258, dtype: bool"
            ]
          },
          "metadata": {},
          "execution_count": 37
        }
      ]
    },
    {
      "cell_type": "code",
      "metadata": {
        "scrolled": true,
        "id": "DhlRbxy2D1Bd",
        "colab": {
          "base_uri": "https://localhost:8080/",
          "height": 450
        },
        "outputId": "e1cf9b6d-746b-45e4-dfc4-27457413840e"
      },
      "source": [
        "dataset[dataset.Quilometragem.isna()]"
      ],
      "execution_count": null,
      "outputs": [
        {
          "output_type": "execute_result",
          "data": {
            "text/html": [
              "<div>\n",
              "<style scoped>\n",
              "    .dataframe tbody tr th:only-of-type {\n",
              "        vertical-align: middle;\n",
              "    }\n",
              "\n",
              "    .dataframe tbody tr th {\n",
              "        vertical-align: top;\n",
              "    }\n",
              "\n",
              "    .dataframe thead th {\n",
              "        text-align: right;\n",
              "    }\n",
              "</style>\n",
              "<table border=\"1\" class=\"dataframe\">\n",
              "  <thead>\n",
              "    <tr style=\"text-align: right;\">\n",
              "      <th></th>\n",
              "      <th>Motor</th>\n",
              "      <th>Ano</th>\n",
              "      <th>Quilometragem</th>\n",
              "      <th>Zero_km</th>\n",
              "      <th>Acessórios</th>\n",
              "      <th>Valor</th>\n",
              "      <th>km_media</th>\n",
              "    </tr>\n",
              "    <tr>\n",
              "      <th>Nome</th>\n",
              "      <th></th>\n",
              "      <th></th>\n",
              "      <th></th>\n",
              "      <th></th>\n",
              "      <th></th>\n",
              "      <th></th>\n",
              "      <th></th>\n",
              "    </tr>\n",
              "  </thead>\n",
              "  <tbody>\n",
              "    <tr>\n",
              "      <th>DS5</th>\n",
              "      <td>Motor 2.4 Turbo</td>\n",
              "      <td>2019</td>\n",
              "      <td>NaN</td>\n",
              "      <td>True</td>\n",
              "      <td>['Travas elétricas', '4 X 4', 'Vidros elétrico...</td>\n",
              "      <td>124549.07</td>\n",
              "      <td>0.0</td>\n",
              "    </tr>\n",
              "    <tr>\n",
              "      <th>A5</th>\n",
              "      <td>Motor 4.0 Turbo</td>\n",
              "      <td>2019</td>\n",
              "      <td>NaN</td>\n",
              "      <td>True</td>\n",
              "      <td>['Câmbio automático', 'Câmera de estacionament...</td>\n",
              "      <td>56445.20</td>\n",
              "      <td>0.0</td>\n",
              "    </tr>\n",
              "    <tr>\n",
              "      <th>J5</th>\n",
              "      <td>Motor V6</td>\n",
              "      <td>2019</td>\n",
              "      <td>NaN</td>\n",
              "      <td>True</td>\n",
              "      <td>['Sensor crepuscular', 'Painel digital', 'Roda...</td>\n",
              "      <td>53183.38</td>\n",
              "      <td>0.0</td>\n",
              "    </tr>\n",
              "    <tr>\n",
              "      <th>A3</th>\n",
              "      <td>Motor 1.0 8v</td>\n",
              "      <td>2019</td>\n",
              "      <td>NaN</td>\n",
              "      <td>True</td>\n",
              "      <td>['4 X 4', 'Piloto automático', 'Central multim...</td>\n",
              "      <td>88552.39</td>\n",
              "      <td>0.0</td>\n",
              "    </tr>\n",
              "    <tr>\n",
              "      <th>Série 1 M</th>\n",
              "      <td>Motor V8</td>\n",
              "      <td>2019</td>\n",
              "      <td>NaN</td>\n",
              "      <td>True</td>\n",
              "      <td>['Controle de estabilidade', 'Central multimíd...</td>\n",
              "      <td>94564.40</td>\n",
              "      <td>0.0</td>\n",
              "    </tr>\n",
              "    <tr>\n",
              "      <th>...</th>\n",
              "      <td>...</td>\n",
              "      <td>...</td>\n",
              "      <td>...</td>\n",
              "      <td>...</td>\n",
              "      <td>...</td>\n",
              "      <td>...</td>\n",
              "      <td>...</td>\n",
              "    </tr>\n",
              "    <tr>\n",
              "      <th>Lamborghini Reventón</th>\n",
              "      <td>Motor 4.0 Turbo</td>\n",
              "      <td>2019</td>\n",
              "      <td>NaN</td>\n",
              "      <td>True</td>\n",
              "      <td>['Controle de tração', 'Ar condicionado', 'Cen...</td>\n",
              "      <td>67664.86</td>\n",
              "      <td>0.0</td>\n",
              "    </tr>\n",
              "    <tr>\n",
              "      <th>Benni Mini</th>\n",
              "      <td>Motor V8</td>\n",
              "      <td>2019</td>\n",
              "      <td>NaN</td>\n",
              "      <td>True</td>\n",
              "      <td>['Sensor crepuscular', 'Câmbio automático', 'C...</td>\n",
              "      <td>126247.84</td>\n",
              "      <td>0.0</td>\n",
              "    </tr>\n",
              "    <tr>\n",
              "      <th>Uno</th>\n",
              "      <td>Motor Diesel V6</td>\n",
              "      <td>2019</td>\n",
              "      <td>NaN</td>\n",
              "      <td>True</td>\n",
              "      <td>['Central multimídia', 'Sensor crepuscular', '...</td>\n",
              "      <td>128852.21</td>\n",
              "      <td>0.0</td>\n",
              "    </tr>\n",
              "    <tr>\n",
              "      <th>Santa Fe</th>\n",
              "      <td>Motor 3.0 32v</td>\n",
              "      <td>2019</td>\n",
              "      <td>NaN</td>\n",
              "      <td>True</td>\n",
              "      <td>['Travas elétricas', 'Ar condicionado', '4 X 4...</td>\n",
              "      <td>129415.33</td>\n",
              "      <td>0.0</td>\n",
              "    </tr>\n",
              "    <tr>\n",
              "      <th>XC60</th>\n",
              "      <td>Motor 4.0 Turbo</td>\n",
              "      <td>2019</td>\n",
              "      <td>NaN</td>\n",
              "      <td>True</td>\n",
              "      <td>['Painel digital', 'Piloto automático', 'Centr...</td>\n",
              "      <td>77675.79</td>\n",
              "      <td>0.0</td>\n",
              "    </tr>\n",
              "  </tbody>\n",
              "</table>\n",
              "<p>61 rows × 7 columns</p>\n",
              "</div>"
            ],
            "text/plain": [
              "                                Motor   Ano  ...      Valor  km_media\n",
              "Nome                                         ...                     \n",
              "DS5                   Motor 2.4 Turbo  2019  ...  124549.07       0.0\n",
              "A5                    Motor 4.0 Turbo  2019  ...   56445.20       0.0\n",
              "J5                           Motor V6  2019  ...   53183.38       0.0\n",
              "A3                       Motor 1.0 8v  2019  ...   88552.39       0.0\n",
              "Série 1 M                    Motor V8  2019  ...   94564.40       0.0\n",
              "...                               ...   ...  ...        ...       ...\n",
              "Lamborghini Reventón  Motor 4.0 Turbo  2019  ...   67664.86       0.0\n",
              "Benni Mini                   Motor V8  2019  ...  126247.84       0.0\n",
              "Uno                   Motor Diesel V6  2019  ...  128852.21       0.0\n",
              "Santa Fe                Motor 3.0 32v  2019  ...  129415.33       0.0\n",
              "XC60                  Motor 4.0 Turbo  2019  ...   77675.79       0.0\n",
              "\n",
              "[61 rows x 7 columns]"
            ]
          },
          "metadata": {},
          "execution_count": 39
        }
      ]
    },
    {
      "cell_type": "code",
      "metadata": {
        "id": "OL04QU5RD1Be",
        "colab": {
          "base_uri": "https://localhost:8080/",
          "height": 501
        },
        "outputId": "119d0ad1-9947-47f4-af25-eb7e081ff2eb"
      },
      "source": [
        "# Preenchendo na visualização com zero\n",
        "dataset.fillna(0)"
      ],
      "execution_count": null,
      "outputs": [
        {
          "output_type": "execute_result",
          "data": {
            "text/html": [
              "<div>\n",
              "<style scoped>\n",
              "    .dataframe tbody tr th:only-of-type {\n",
              "        vertical-align: middle;\n",
              "    }\n",
              "\n",
              "    .dataframe tbody tr th {\n",
              "        vertical-align: top;\n",
              "    }\n",
              "\n",
              "    .dataframe thead th {\n",
              "        text-align: right;\n",
              "    }\n",
              "</style>\n",
              "<table border=\"1\" class=\"dataframe\">\n",
              "  <thead>\n",
              "    <tr style=\"text-align: right;\">\n",
              "      <th></th>\n",
              "      <th>Motor</th>\n",
              "      <th>Ano</th>\n",
              "      <th>Quilometragem</th>\n",
              "      <th>Zero_km</th>\n",
              "      <th>Acessórios</th>\n",
              "      <th>Valor</th>\n",
              "      <th>km_media</th>\n",
              "    </tr>\n",
              "    <tr>\n",
              "      <th>Nome</th>\n",
              "      <th></th>\n",
              "      <th></th>\n",
              "      <th></th>\n",
              "      <th></th>\n",
              "      <th></th>\n",
              "      <th></th>\n",
              "      <th></th>\n",
              "    </tr>\n",
              "  </thead>\n",
              "  <tbody>\n",
              "    <tr>\n",
              "      <th>Jetta Variant</th>\n",
              "      <td>Motor 4.0 Turbo</td>\n",
              "      <td>2003</td>\n",
              "      <td>44410.0</td>\n",
              "      <td>False</td>\n",
              "      <td>['Rodas de liga', 'Travas elétricas', 'Piloto ...</td>\n",
              "      <td>88078.64</td>\n",
              "      <td>2775.625000</td>\n",
              "    </tr>\n",
              "    <tr>\n",
              "      <th>Passat</th>\n",
              "      <td>Motor Diesel</td>\n",
              "      <td>1991</td>\n",
              "      <td>5712.0</td>\n",
              "      <td>False</td>\n",
              "      <td>['Central multimídia', 'Teto panorâmico', 'Fre...</td>\n",
              "      <td>106161.94</td>\n",
              "      <td>204.000000</td>\n",
              "    </tr>\n",
              "    <tr>\n",
              "      <th>Crossfox</th>\n",
              "      <td>Motor Diesel V8</td>\n",
              "      <td>1990</td>\n",
              "      <td>37123.0</td>\n",
              "      <td>False</td>\n",
              "      <td>['Piloto automático', 'Controle de estabilidad...</td>\n",
              "      <td>72832.16</td>\n",
              "      <td>1280.103448</td>\n",
              "    </tr>\n",
              "    <tr>\n",
              "      <th>DS5</th>\n",
              "      <td>Motor 2.4 Turbo</td>\n",
              "      <td>2019</td>\n",
              "      <td>0.0</td>\n",
              "      <td>True</td>\n",
              "      <td>['Travas elétricas', '4 X 4', 'Vidros elétrico...</td>\n",
              "      <td>124549.07</td>\n",
              "      <td>0.000000</td>\n",
              "    </tr>\n",
              "    <tr>\n",
              "      <th>Aston Martin DB4</th>\n",
              "      <td>Motor 2.4 Turbo</td>\n",
              "      <td>2006</td>\n",
              "      <td>25757.0</td>\n",
              "      <td>False</td>\n",
              "      <td>['Rodas de liga', '4 X 4', 'Central multimídia...</td>\n",
              "      <td>92612.10</td>\n",
              "      <td>1981.307692</td>\n",
              "    </tr>\n",
              "    <tr>\n",
              "      <th>...</th>\n",
              "      <td>...</td>\n",
              "      <td>...</td>\n",
              "      <td>...</td>\n",
              "      <td>...</td>\n",
              "      <td>...</td>\n",
              "      <td>...</td>\n",
              "      <td>...</td>\n",
              "    </tr>\n",
              "    <tr>\n",
              "      <th>Phantom 2013</th>\n",
              "      <td>Motor V8</td>\n",
              "      <td>2014</td>\n",
              "      <td>27505.0</td>\n",
              "      <td>False</td>\n",
              "      <td>['Controle de estabilidade', 'Piloto automátic...</td>\n",
              "      <td>51759.58</td>\n",
              "      <td>5501.000000</td>\n",
              "    </tr>\n",
              "    <tr>\n",
              "      <th>Cadillac Ciel concept</th>\n",
              "      <td>Motor V8</td>\n",
              "      <td>1991</td>\n",
              "      <td>29981.0</td>\n",
              "      <td>False</td>\n",
              "      <td>['Bancos de couro', 'Painel digital', 'Sensor ...</td>\n",
              "      <td>51667.06</td>\n",
              "      <td>1070.750000</td>\n",
              "    </tr>\n",
              "    <tr>\n",
              "      <th>Classe GLK</th>\n",
              "      <td>Motor 5.0 V8 Bi-Turbo</td>\n",
              "      <td>2002</td>\n",
              "      <td>52637.0</td>\n",
              "      <td>False</td>\n",
              "      <td>['Rodas de liga', 'Controle de tração', 'Câmbi...</td>\n",
              "      <td>68934.03</td>\n",
              "      <td>3096.294118</td>\n",
              "    </tr>\n",
              "    <tr>\n",
              "      <th>Aston Martin DB5</th>\n",
              "      <td>Motor Diesel</td>\n",
              "      <td>1996</td>\n",
              "      <td>7685.0</td>\n",
              "      <td>False</td>\n",
              "      <td>['Ar condicionado', '4 X 4', 'Câmbio automátic...</td>\n",
              "      <td>122110.90</td>\n",
              "      <td>334.130435</td>\n",
              "    </tr>\n",
              "    <tr>\n",
              "      <th>Macan</th>\n",
              "      <td>Motor Diesel V6</td>\n",
              "      <td>1992</td>\n",
              "      <td>50188.0</td>\n",
              "      <td>False</td>\n",
              "      <td>['Central multimídia', 'Teto panorâmico', 'Vid...</td>\n",
              "      <td>90381.47</td>\n",
              "      <td>1858.814815</td>\n",
              "    </tr>\n",
              "  </tbody>\n",
              "</table>\n",
              "<p>258 rows × 7 columns</p>\n",
              "</div>"
            ],
            "text/plain": [
              "                                       Motor   Ano  ...      Valor     km_media\n",
              "Nome                                                ...                        \n",
              "Jetta Variant                Motor 4.0 Turbo  2003  ...   88078.64  2775.625000\n",
              "Passat                          Motor Diesel  1991  ...  106161.94   204.000000\n",
              "Crossfox                     Motor Diesel V8  1990  ...   72832.16  1280.103448\n",
              "DS5                          Motor 2.4 Turbo  2019  ...  124549.07     0.000000\n",
              "Aston Martin DB4             Motor 2.4 Turbo  2006  ...   92612.10  1981.307692\n",
              "...                                      ...   ...  ...        ...          ...\n",
              "Phantom 2013                        Motor V8  2014  ...   51759.58  5501.000000\n",
              "Cadillac Ciel concept               Motor V8  1991  ...   51667.06  1070.750000\n",
              "Classe GLK             Motor 5.0 V8 Bi-Turbo  2002  ...   68934.03  3096.294118\n",
              "Aston Martin DB5                Motor Diesel  1996  ...  122110.90   334.130435\n",
              "Macan                        Motor Diesel V6  1992  ...   90381.47  1858.814815\n",
              "\n",
              "[258 rows x 7 columns]"
            ]
          },
          "metadata": {},
          "execution_count": 40
        }
      ]
    },
    {
      "cell_type": "code",
      "metadata": {
        "scrolled": true,
        "id": "fTH2JkGDD1Bf"
      },
      "source": [
        "# Preenchendo o dataset com o zero/ Função inplace = True\n",
        "dataset.fillna(0, inplace = True)"
      ],
      "execution_count": null,
      "outputs": []
    },
    {
      "cell_type": "code",
      "metadata": {
        "id": "lure2GvpD1Bg",
        "colab": {
          "base_uri": "https://localhost:8080/",
          "height": 450
        },
        "outputId": "6c559d05-a19a-4ad8-bf54-5eb80bf2a832"
      },
      "source": [
        "dataset.query('Zero_km == True')"
      ],
      "execution_count": null,
      "outputs": [
        {
          "output_type": "execute_result",
          "data": {
            "text/html": [
              "<div>\n",
              "<style scoped>\n",
              "    .dataframe tbody tr th:only-of-type {\n",
              "        vertical-align: middle;\n",
              "    }\n",
              "\n",
              "    .dataframe tbody tr th {\n",
              "        vertical-align: top;\n",
              "    }\n",
              "\n",
              "    .dataframe thead th {\n",
              "        text-align: right;\n",
              "    }\n",
              "</style>\n",
              "<table border=\"1\" class=\"dataframe\">\n",
              "  <thead>\n",
              "    <tr style=\"text-align: right;\">\n",
              "      <th></th>\n",
              "      <th>Motor</th>\n",
              "      <th>Ano</th>\n",
              "      <th>Quilometragem</th>\n",
              "      <th>Zero_km</th>\n",
              "      <th>Acessórios</th>\n",
              "      <th>Valor</th>\n",
              "      <th>km_media</th>\n",
              "    </tr>\n",
              "    <tr>\n",
              "      <th>Nome</th>\n",
              "      <th></th>\n",
              "      <th></th>\n",
              "      <th></th>\n",
              "      <th></th>\n",
              "      <th></th>\n",
              "      <th></th>\n",
              "      <th></th>\n",
              "    </tr>\n",
              "  </thead>\n",
              "  <tbody>\n",
              "    <tr>\n",
              "      <th>DS5</th>\n",
              "      <td>Motor 2.4 Turbo</td>\n",
              "      <td>2019</td>\n",
              "      <td>0.0</td>\n",
              "      <td>True</td>\n",
              "      <td>['Travas elétricas', '4 X 4', 'Vidros elétrico...</td>\n",
              "      <td>124549.07</td>\n",
              "      <td>0.0</td>\n",
              "    </tr>\n",
              "    <tr>\n",
              "      <th>A5</th>\n",
              "      <td>Motor 4.0 Turbo</td>\n",
              "      <td>2019</td>\n",
              "      <td>0.0</td>\n",
              "      <td>True</td>\n",
              "      <td>['Câmbio automático', 'Câmera de estacionament...</td>\n",
              "      <td>56445.20</td>\n",
              "      <td>0.0</td>\n",
              "    </tr>\n",
              "    <tr>\n",
              "      <th>J5</th>\n",
              "      <td>Motor V6</td>\n",
              "      <td>2019</td>\n",
              "      <td>0.0</td>\n",
              "      <td>True</td>\n",
              "      <td>['Sensor crepuscular', 'Painel digital', 'Roda...</td>\n",
              "      <td>53183.38</td>\n",
              "      <td>0.0</td>\n",
              "    </tr>\n",
              "    <tr>\n",
              "      <th>A3</th>\n",
              "      <td>Motor 1.0 8v</td>\n",
              "      <td>2019</td>\n",
              "      <td>0.0</td>\n",
              "      <td>True</td>\n",
              "      <td>['4 X 4', 'Piloto automático', 'Central multim...</td>\n",
              "      <td>88552.39</td>\n",
              "      <td>0.0</td>\n",
              "    </tr>\n",
              "    <tr>\n",
              "      <th>Série 1 M</th>\n",
              "      <td>Motor V8</td>\n",
              "      <td>2019</td>\n",
              "      <td>0.0</td>\n",
              "      <td>True</td>\n",
              "      <td>['Controle de estabilidade', 'Central multimíd...</td>\n",
              "      <td>94564.40</td>\n",
              "      <td>0.0</td>\n",
              "    </tr>\n",
              "    <tr>\n",
              "      <th>...</th>\n",
              "      <td>...</td>\n",
              "      <td>...</td>\n",
              "      <td>...</td>\n",
              "      <td>...</td>\n",
              "      <td>...</td>\n",
              "      <td>...</td>\n",
              "      <td>...</td>\n",
              "    </tr>\n",
              "    <tr>\n",
              "      <th>Lamborghini Reventón</th>\n",
              "      <td>Motor 4.0 Turbo</td>\n",
              "      <td>2019</td>\n",
              "      <td>0.0</td>\n",
              "      <td>True</td>\n",
              "      <td>['Controle de tração', 'Ar condicionado', 'Cen...</td>\n",
              "      <td>67664.86</td>\n",
              "      <td>0.0</td>\n",
              "    </tr>\n",
              "    <tr>\n",
              "      <th>Benni Mini</th>\n",
              "      <td>Motor V8</td>\n",
              "      <td>2019</td>\n",
              "      <td>0.0</td>\n",
              "      <td>True</td>\n",
              "      <td>['Sensor crepuscular', 'Câmbio automático', 'C...</td>\n",
              "      <td>126247.84</td>\n",
              "      <td>0.0</td>\n",
              "    </tr>\n",
              "    <tr>\n",
              "      <th>Uno</th>\n",
              "      <td>Motor Diesel V6</td>\n",
              "      <td>2019</td>\n",
              "      <td>0.0</td>\n",
              "      <td>True</td>\n",
              "      <td>['Central multimídia', 'Sensor crepuscular', '...</td>\n",
              "      <td>128852.21</td>\n",
              "      <td>0.0</td>\n",
              "    </tr>\n",
              "    <tr>\n",
              "      <th>Santa Fe</th>\n",
              "      <td>Motor 3.0 32v</td>\n",
              "      <td>2019</td>\n",
              "      <td>0.0</td>\n",
              "      <td>True</td>\n",
              "      <td>['Travas elétricas', 'Ar condicionado', '4 X 4...</td>\n",
              "      <td>129415.33</td>\n",
              "      <td>0.0</td>\n",
              "    </tr>\n",
              "    <tr>\n",
              "      <th>XC60</th>\n",
              "      <td>Motor 4.0 Turbo</td>\n",
              "      <td>2019</td>\n",
              "      <td>0.0</td>\n",
              "      <td>True</td>\n",
              "      <td>['Painel digital', 'Piloto automático', 'Centr...</td>\n",
              "      <td>77675.79</td>\n",
              "      <td>0.0</td>\n",
              "    </tr>\n",
              "  </tbody>\n",
              "</table>\n",
              "<p>61 rows × 7 columns</p>\n",
              "</div>"
            ],
            "text/plain": [
              "                                Motor   Ano  ...      Valor  km_media\n",
              "Nome                                         ...                     \n",
              "DS5                   Motor 2.4 Turbo  2019  ...  124549.07       0.0\n",
              "A5                    Motor 4.0 Turbo  2019  ...   56445.20       0.0\n",
              "J5                           Motor V6  2019  ...   53183.38       0.0\n",
              "A3                       Motor 1.0 8v  2019  ...   88552.39       0.0\n",
              "Série 1 M                    Motor V8  2019  ...   94564.40       0.0\n",
              "...                               ...   ...  ...        ...       ...\n",
              "Lamborghini Reventón  Motor 4.0 Turbo  2019  ...   67664.86       0.0\n",
              "Benni Mini                   Motor V8  2019  ...  126247.84       0.0\n",
              "Uno                   Motor Diesel V6  2019  ...  128852.21       0.0\n",
              "Santa Fe                Motor 3.0 32v  2019  ...  129415.33       0.0\n",
              "XC60                  Motor 4.0 Turbo  2019  ...   77675.79       0.0\n",
              "\n",
              "[61 rows x 7 columns]"
            ]
          },
          "metadata": {},
          "execution_count": 42
        }
      ]
    },
    {
      "cell_type": "code",
      "metadata": {
        "id": "4-ZvhXjvD1Bj"
      },
      "source": [
        "dataset = pd.read_csv('db.csv', sep = ';')"
      ],
      "execution_count": null,
      "outputs": []
    },
    {
      "cell_type": "code",
      "metadata": {
        "scrolled": true,
        "id": "MQUw7i1OD1Bk",
        "colab": {
          "base_uri": "https://localhost:8080/",
          "height": 419
        },
        "outputId": "222d8f01-f749-4cba-e36d-35a96ed9083d"
      },
      "source": [
        "dataset"
      ],
      "execution_count": null,
      "outputs": [
        {
          "output_type": "execute_result",
          "data": {
            "text/html": [
              "<div>\n",
              "<style scoped>\n",
              "    .dataframe tbody tr th:only-of-type {\n",
              "        vertical-align: middle;\n",
              "    }\n",
              "\n",
              "    .dataframe tbody tr th {\n",
              "        vertical-align: top;\n",
              "    }\n",
              "\n",
              "    .dataframe thead th {\n",
              "        text-align: right;\n",
              "    }\n",
              "</style>\n",
              "<table border=\"1\" class=\"dataframe\">\n",
              "  <thead>\n",
              "    <tr style=\"text-align: right;\">\n",
              "      <th></th>\n",
              "      <th>Nome</th>\n",
              "      <th>Motor</th>\n",
              "      <th>Ano</th>\n",
              "      <th>Quilometragem</th>\n",
              "      <th>Zero_km</th>\n",
              "      <th>Acessórios</th>\n",
              "      <th>Valor</th>\n",
              "    </tr>\n",
              "  </thead>\n",
              "  <tbody>\n",
              "    <tr>\n",
              "      <th>0</th>\n",
              "      <td>Jetta Variant</td>\n",
              "      <td>Motor 4.0 Turbo</td>\n",
              "      <td>2003</td>\n",
              "      <td>44410.0</td>\n",
              "      <td>False</td>\n",
              "      <td>['Rodas de liga', 'Travas elétricas', 'Piloto ...</td>\n",
              "      <td>88078.64</td>\n",
              "    </tr>\n",
              "    <tr>\n",
              "      <th>1</th>\n",
              "      <td>Passat</td>\n",
              "      <td>Motor Diesel</td>\n",
              "      <td>1991</td>\n",
              "      <td>5712.0</td>\n",
              "      <td>False</td>\n",
              "      <td>['Central multimídia', 'Teto panorâmico', 'Fre...</td>\n",
              "      <td>106161.94</td>\n",
              "    </tr>\n",
              "    <tr>\n",
              "      <th>2</th>\n",
              "      <td>Crossfox</td>\n",
              "      <td>Motor Diesel V8</td>\n",
              "      <td>1990</td>\n",
              "      <td>37123.0</td>\n",
              "      <td>False</td>\n",
              "      <td>['Piloto automático', 'Controle de estabilidad...</td>\n",
              "      <td>72832.16</td>\n",
              "    </tr>\n",
              "    <tr>\n",
              "      <th>3</th>\n",
              "      <td>DS5</td>\n",
              "      <td>Motor 2.4 Turbo</td>\n",
              "      <td>2019</td>\n",
              "      <td>NaN</td>\n",
              "      <td>True</td>\n",
              "      <td>['Travas elétricas', '4 X 4', 'Vidros elétrico...</td>\n",
              "      <td>124549.07</td>\n",
              "    </tr>\n",
              "    <tr>\n",
              "      <th>4</th>\n",
              "      <td>Aston Martin DB4</td>\n",
              "      <td>Motor 2.4 Turbo</td>\n",
              "      <td>2006</td>\n",
              "      <td>25757.0</td>\n",
              "      <td>False</td>\n",
              "      <td>['Rodas de liga', '4 X 4', 'Central multimídia...</td>\n",
              "      <td>92612.10</td>\n",
              "    </tr>\n",
              "    <tr>\n",
              "      <th>...</th>\n",
              "      <td>...</td>\n",
              "      <td>...</td>\n",
              "      <td>...</td>\n",
              "      <td>...</td>\n",
              "      <td>...</td>\n",
              "      <td>...</td>\n",
              "      <td>...</td>\n",
              "    </tr>\n",
              "    <tr>\n",
              "      <th>253</th>\n",
              "      <td>Phantom 2013</td>\n",
              "      <td>Motor V8</td>\n",
              "      <td>2014</td>\n",
              "      <td>27505.0</td>\n",
              "      <td>False</td>\n",
              "      <td>['Controle de estabilidade', 'Piloto automátic...</td>\n",
              "      <td>51759.58</td>\n",
              "    </tr>\n",
              "    <tr>\n",
              "      <th>254</th>\n",
              "      <td>Cadillac Ciel concept</td>\n",
              "      <td>Motor V8</td>\n",
              "      <td>1991</td>\n",
              "      <td>29981.0</td>\n",
              "      <td>False</td>\n",
              "      <td>['Bancos de couro', 'Painel digital', 'Sensor ...</td>\n",
              "      <td>51667.06</td>\n",
              "    </tr>\n",
              "    <tr>\n",
              "      <th>255</th>\n",
              "      <td>Classe GLK</td>\n",
              "      <td>Motor 5.0 V8 Bi-Turbo</td>\n",
              "      <td>2002</td>\n",
              "      <td>52637.0</td>\n",
              "      <td>False</td>\n",
              "      <td>['Rodas de liga', 'Controle de tração', 'Câmbi...</td>\n",
              "      <td>68934.03</td>\n",
              "    </tr>\n",
              "    <tr>\n",
              "      <th>256</th>\n",
              "      <td>Aston Martin DB5</td>\n",
              "      <td>Motor Diesel</td>\n",
              "      <td>1996</td>\n",
              "      <td>7685.0</td>\n",
              "      <td>False</td>\n",
              "      <td>['Ar condicionado', '4 X 4', 'Câmbio automátic...</td>\n",
              "      <td>122110.90</td>\n",
              "    </tr>\n",
              "    <tr>\n",
              "      <th>257</th>\n",
              "      <td>Macan</td>\n",
              "      <td>Motor Diesel V6</td>\n",
              "      <td>1992</td>\n",
              "      <td>50188.0</td>\n",
              "      <td>False</td>\n",
              "      <td>['Central multimídia', 'Teto panorâmico', 'Vid...</td>\n",
              "      <td>90381.47</td>\n",
              "    </tr>\n",
              "  </tbody>\n",
              "</table>\n",
              "<p>258 rows × 7 columns</p>\n",
              "</div>"
            ],
            "text/plain": [
              "                      Nome  ...      Valor\n",
              "0            Jetta Variant  ...   88078.64\n",
              "1                   Passat  ...  106161.94\n",
              "2                 Crossfox  ...   72832.16\n",
              "3                      DS5  ...  124549.07\n",
              "4         Aston Martin DB4  ...   92612.10\n",
              "..                     ...  ...        ...\n",
              "253           Phantom 2013  ...   51759.58\n",
              "254  Cadillac Ciel concept  ...   51667.06\n",
              "255             Classe GLK  ...   68934.03\n",
              "256       Aston Martin DB5  ...  122110.90\n",
              "257                  Macan  ...   90381.47\n",
              "\n",
              "[258 rows x 7 columns]"
            ]
          },
          "metadata": {},
          "execution_count": 44
        }
      ]
    },
    {
      "cell_type": "code",
      "metadata": {
        "id": "U4Cse7miD1Bl"
      },
      "source": [
        "# Elimina as linhas com a quilometragem nula\n",
        "dataset.dropna(subset= ['Quilometragem'], inplace= True)"
      ],
      "execution_count": null,
      "outputs": []
    },
    {
      "cell_type": "code",
      "metadata": {
        "scrolled": true,
        "id": "8L4wum05D1Bl",
        "colab": {
          "base_uri": "https://localhost:8080/",
          "height": 419
        },
        "outputId": "f1b8bad8-a666-456f-da37-f1ba2f280bb7"
      },
      "source": [
        "dataset"
      ],
      "execution_count": null,
      "outputs": [
        {
          "output_type": "execute_result",
          "data": {
            "text/html": [
              "<div>\n",
              "<style scoped>\n",
              "    .dataframe tbody tr th:only-of-type {\n",
              "        vertical-align: middle;\n",
              "    }\n",
              "\n",
              "    .dataframe tbody tr th {\n",
              "        vertical-align: top;\n",
              "    }\n",
              "\n",
              "    .dataframe thead th {\n",
              "        text-align: right;\n",
              "    }\n",
              "</style>\n",
              "<table border=\"1\" class=\"dataframe\">\n",
              "  <thead>\n",
              "    <tr style=\"text-align: right;\">\n",
              "      <th></th>\n",
              "      <th>Nome</th>\n",
              "      <th>Motor</th>\n",
              "      <th>Ano</th>\n",
              "      <th>Quilometragem</th>\n",
              "      <th>Zero_km</th>\n",
              "      <th>Acessórios</th>\n",
              "      <th>Valor</th>\n",
              "    </tr>\n",
              "  </thead>\n",
              "  <tbody>\n",
              "    <tr>\n",
              "      <th>0</th>\n",
              "      <td>Jetta Variant</td>\n",
              "      <td>Motor 4.0 Turbo</td>\n",
              "      <td>2003</td>\n",
              "      <td>44410.0</td>\n",
              "      <td>False</td>\n",
              "      <td>['Rodas de liga', 'Travas elétricas', 'Piloto ...</td>\n",
              "      <td>88078.64</td>\n",
              "    </tr>\n",
              "    <tr>\n",
              "      <th>1</th>\n",
              "      <td>Passat</td>\n",
              "      <td>Motor Diesel</td>\n",
              "      <td>1991</td>\n",
              "      <td>5712.0</td>\n",
              "      <td>False</td>\n",
              "      <td>['Central multimídia', 'Teto panorâmico', 'Fre...</td>\n",
              "      <td>106161.94</td>\n",
              "    </tr>\n",
              "    <tr>\n",
              "      <th>2</th>\n",
              "      <td>Crossfox</td>\n",
              "      <td>Motor Diesel V8</td>\n",
              "      <td>1990</td>\n",
              "      <td>37123.0</td>\n",
              "      <td>False</td>\n",
              "      <td>['Piloto automático', 'Controle de estabilidad...</td>\n",
              "      <td>72832.16</td>\n",
              "    </tr>\n",
              "    <tr>\n",
              "      <th>4</th>\n",
              "      <td>Aston Martin DB4</td>\n",
              "      <td>Motor 2.4 Turbo</td>\n",
              "      <td>2006</td>\n",
              "      <td>25757.0</td>\n",
              "      <td>False</td>\n",
              "      <td>['Rodas de liga', '4 X 4', 'Central multimídia...</td>\n",
              "      <td>92612.10</td>\n",
              "    </tr>\n",
              "    <tr>\n",
              "      <th>5</th>\n",
              "      <td>Palio Weekend</td>\n",
              "      <td>Motor 1.8 16v</td>\n",
              "      <td>2012</td>\n",
              "      <td>10728.0</td>\n",
              "      <td>False</td>\n",
              "      <td>['Sensor de estacionamento', 'Teto panorâmico'...</td>\n",
              "      <td>97497.73</td>\n",
              "    </tr>\n",
              "    <tr>\n",
              "      <th>...</th>\n",
              "      <td>...</td>\n",
              "      <td>...</td>\n",
              "      <td>...</td>\n",
              "      <td>...</td>\n",
              "      <td>...</td>\n",
              "      <td>...</td>\n",
              "      <td>...</td>\n",
              "    </tr>\n",
              "    <tr>\n",
              "      <th>253</th>\n",
              "      <td>Phantom 2013</td>\n",
              "      <td>Motor V8</td>\n",
              "      <td>2014</td>\n",
              "      <td>27505.0</td>\n",
              "      <td>False</td>\n",
              "      <td>['Controle de estabilidade', 'Piloto automátic...</td>\n",
              "      <td>51759.58</td>\n",
              "    </tr>\n",
              "    <tr>\n",
              "      <th>254</th>\n",
              "      <td>Cadillac Ciel concept</td>\n",
              "      <td>Motor V8</td>\n",
              "      <td>1991</td>\n",
              "      <td>29981.0</td>\n",
              "      <td>False</td>\n",
              "      <td>['Bancos de couro', 'Painel digital', 'Sensor ...</td>\n",
              "      <td>51667.06</td>\n",
              "    </tr>\n",
              "    <tr>\n",
              "      <th>255</th>\n",
              "      <td>Classe GLK</td>\n",
              "      <td>Motor 5.0 V8 Bi-Turbo</td>\n",
              "      <td>2002</td>\n",
              "      <td>52637.0</td>\n",
              "      <td>False</td>\n",
              "      <td>['Rodas de liga', 'Controle de tração', 'Câmbi...</td>\n",
              "      <td>68934.03</td>\n",
              "    </tr>\n",
              "    <tr>\n",
              "      <th>256</th>\n",
              "      <td>Aston Martin DB5</td>\n",
              "      <td>Motor Diesel</td>\n",
              "      <td>1996</td>\n",
              "      <td>7685.0</td>\n",
              "      <td>False</td>\n",
              "      <td>['Ar condicionado', '4 X 4', 'Câmbio automátic...</td>\n",
              "      <td>122110.90</td>\n",
              "    </tr>\n",
              "    <tr>\n",
              "      <th>257</th>\n",
              "      <td>Macan</td>\n",
              "      <td>Motor Diesel V6</td>\n",
              "      <td>1992</td>\n",
              "      <td>50188.0</td>\n",
              "      <td>False</td>\n",
              "      <td>['Central multimídia', 'Teto panorâmico', 'Vid...</td>\n",
              "      <td>90381.47</td>\n",
              "    </tr>\n",
              "  </tbody>\n",
              "</table>\n",
              "<p>197 rows × 7 columns</p>\n",
              "</div>"
            ],
            "text/plain": [
              "                      Nome  ...      Valor\n",
              "0            Jetta Variant  ...   88078.64\n",
              "1                   Passat  ...  106161.94\n",
              "2                 Crossfox  ...   72832.16\n",
              "4         Aston Martin DB4  ...   92612.10\n",
              "5            Palio Weekend  ...   97497.73\n",
              "..                     ...  ...        ...\n",
              "253           Phantom 2013  ...   51759.58\n",
              "254  Cadillac Ciel concept  ...   51667.06\n",
              "255             Classe GLK  ...   68934.03\n",
              "256       Aston Martin DB5  ...  122110.90\n",
              "257                  Macan  ...   90381.47\n",
              "\n",
              "[197 rows x 7 columns]"
            ]
          },
          "metadata": {},
          "execution_count": 46
        }
      ]
    },
    {
      "cell_type": "code",
      "metadata": {
        "id": "8iLOc-U3D1Bm"
      },
      "source": [
        ""
      ],
      "execution_count": null,
      "outputs": []
    }
  ]
}